{
 "cells": [
  {
   "cell_type": "code",
   "execution_count": 44,
   "metadata": {},
   "outputs": [],
   "source": [
    "import pandas as pd\n",
    "import numpy as np\n",
    "import re\n",
    "import re as sub\n",
    "import seaborn as sns\n",
    "from sklearn.feature_extraction.text import TfidfVectorizer\n",
    "from sklearn.model_selection import train_test_split\n",
    "from sklearn.metrics import accuracy_score,confusion_matrix, classification_report\n",
    "import matplotlib.pyplot as plt"
   ]
  },
  {
   "cell_type": "code",
   "execution_count": 45,
   "metadata": {},
   "outputs": [],
   "source": [
    "\n",
    "try:\n",
    "    with open('../corpus_all.txt', 'r', encoding='utf-8') as file:\n",
    "        lines = []  # Empty list to store the lines\n",
    "        for line in file:\n",
    "            lines.append(line.strip())  # Append the line to the list, removing any leading/trailing whitespace\n",
    "    \n",
    "    with open('../stopwords-bn.txt', 'r', encoding='utf-8') as test:\n",
    "        stopwords_bn = test.readlines()\n",
    "        # the above stopwords contains newline \\n\n",
    "        stop_bn = []\n",
    "\n",
    "        for word in stopwords_bn:\n",
    "            stop_bn.append(word.rstrip(\"\\r\\n\"))\n",
    "            \n",
    "except FileNotFoundError:\n",
    "    print(\"File not found. Please check the file path and try again.\")\n",
    "\n",
    "#file_path = 'corpus_all.txt'  # Replace with the actual path to your text file\n",
    "first_words = []  # Empty list to store the first words\n",
    "\n",
    "try:\n",
    "    for line in lines:\n",
    "        words = line.strip().split()  # Split the line into words\n",
    "        if words:\n",
    "            first_word = words[0]  # Get the first word\n",
    "            first_words.append(first_word)  # Append the first word to the list\n",
    "\n",
    "except FileNotFoundError:\n",
    "    print(\"File not found. Please check the file path and try again.\")\n",
    "\n",
    "\n",
    "# Define the status levels\n",
    "status_levels = [\"happy\",\"angry\",\"fear\",\"disgust\",\"sad\",\"surprise\",]\n",
    "\n",
    "# Initialize a list to store the extracted status levels and sentences\n",
    "extracted_data = []\n",
    "\n",
    "# Iterate over the texts\n",
    "for text in lines:\n",
    "    # Initialize variables to store the extracted status level and sentence\n",
    "    status = \"\"\n",
    "    sentence = \"\"\n",
    "\n",
    "    # Iterate over the status levels\n",
    "    for level in status_levels:\n",
    "        if level in text:\n",
    "            # Split the text based on the status level\n",
    "            split_text = text.split(level, 1)\n",
    "\n",
    "            # Extract the status level and sentence\n",
    "            status = level\n",
    "            sentence = split_text[1].strip()\n",
    "            break\n",
    "\n",
    "    # Append the extracted status level and sentence to the list\n",
    "    extracted_data.append({\"Status\": status, \"Sentence\": sentence})\n",
    "    \n",
    "df = pd.DataFrame(extracted_data)"
   ]
  },
  {
   "cell_type": "code",
   "execution_count": 46,
   "metadata": {},
   "outputs": [],
   "source": [
    "\n",
    "def text_pre_processing(text):\n",
    "    #remove stop words from the text\n",
    "    text = ' '.join(word for word in text.split() if word not in stop_bn)\n",
    "    #remove punctuation from the text\n",
    "    text = re.sub(r'[^\\w\\s]', '', text)\n",
    "    #remove numbers from the text\n",
    "    text = re.sub(r'[0-9]', '', text)\n",
    "    #remove extra spaces from the text\n",
    "    text = re.sub(' +', ' ', text)\n",
    "    return text\n",
    "\n",
    "df['Sentence'] = df['Sentence'].apply(text_pre_processing)\n"
   ]
  },
  {
   "cell_type": "code",
   "execution_count": 47,
   "metadata": {},
   "outputs": [
    {
     "data": {
      "text/plain": [
       "<Axes: >"
      ]
     },
     "execution_count": 47,
     "metadata": {},
     "output_type": "execute_result"
    },
    {
     "data": {
      "image/png": "[encoded data removed]",
      "text/plain": [
       "<Figure size 700x600 with 1 Axes>"
      ]
     },
     "metadata": {},
     "output_type": "display_data"
    }
   ],
   "source": [
    "\n",
    "# Plot the distribution of the target variable\n",
    "df['Status'].value_counts().plot(kind='bar', figsize=(7, 6), rot=0)"
   ]
  },
  {
   "cell_type": "code",
   "execution_count": 13,
   "metadata": {},
   "outputs": [
    {
     "name": "stdout",
     "output_type": "stream",
     "text": [
      "happy       1905\n",
      "angry       1410\n",
      "sad         1331\n",
      "disgust      698\n",
      "surprise     562\n",
      "fear         383\n",
      "Name: Status, dtype: int64\n"
     ]
    }
   ],
   "source": [
    "# Print the distribution of the target variable\n",
    "print(df['Status'].value_counts())"
   ]
  },
  {
   "cell_type": "code",
   "execution_count": 48,
   "metadata": {},
   "outputs": [],
   "source": [
    "# Split the dataset into training and testing sets\n",
    "X_train, X_test, y_train, y_test = train_test_split(df['Sentence'], df['Status'], test_size=0.2, random_state=0)\n",
    "\n",
    "# Initialize the TfidfVectorizer\n",
    "tfidf_vectorizer = TfidfVectorizer()\n",
    "\n",
    "# Fit and transform the training data\n",
    "X_train = tfidf_vectorizer.fit_transform(X_train)\n",
    "\n",
    "# Transform the test set\n",
    "X_test = tfidf_vectorizer.transform(X_test)\n"
   ]
  },
  {
   "cell_type": "code",
   "execution_count": 49,
   "metadata": {},
   "outputs": [],
   "source": [
    "# apply smote for oversampling the minority classes in the df dataset\n",
    "from imblearn.over_sampling import SMOTE\n",
    "\n",
    "# X should contain the features (in this case, the 'Sentence' column) and y should contain the target class labels (the 'Status' column)\n",
    "X = df['Sentence']\n",
    "y = df['Status']\n",
    "\n",
    "# Create a TfidfVectorizer to convert text to numerical features\n",
    "vectorizer = TfidfVectorizer()\n",
    "X_vectorized = vectorizer.fit_transform(X)\n",
    "\n",
    "# Create an instance of the SMOTE class\n",
    "smote = SMOTE(sampling_strategy='auto', random_state=42)\n",
    "\n",
    "# Apply SMOTE to generate synthetic samples for the minority class (fear)\n",
    "X_resampled, y_resampled = smote.fit_resample(X_vectorized, y)\n"
   ]
  },
  {
   "cell_type": "code",
   "execution_count": 57,
   "metadata": {},
   "outputs": [
    {
     "data": {
      "text/plain": [
       "(11430, 13112)"
      ]
     },
     "execution_count": 57,
     "metadata": {},
     "output_type": "execute_result"
    }
   ],
   "source": [
    "X_resampled.shape"
   ]
  },
  {
   "cell_type": "code",
   "execution_count": 50,
   "metadata": {},
   "outputs": [
    {
     "data": {
      "text/plain": [
       "<Axes: >"
      ]
     },
     "execution_count": 50,
     "metadata": {},
     "output_type": "execute_result"
    },
    {
     "data": {
      "image/png": "[encoded data removed]",
      "text/plain": [
       "<Figure size 700x600 with 1 Axes>"
      ]
     },
     "metadata": {},
     "output_type": "display_data"
    }
   ],
   "source": [
    "# Plot the distribution of the target variable\n",
    "y_resampled.value_counts().plot(kind='bar', figsize=(7, 6), rot=0)"
   ]
  },
  {
   "cell_type": "code",
   "execution_count": 51,
   "metadata": {},
   "outputs": [
    {
     "name": "stdout",
     "output_type": "stream",
     "text": [
      "sad         1905\n",
      "angry       1905\n",
      "happy       1905\n",
      "disgust     1905\n",
      "surprise    1905\n",
      "fear        1905\n",
      "Name: Status, dtype: int64\n"
     ]
    }
   ],
   "source": [
    "# Print the distribution of the target variable\n",
    "print(y_resampled.value_counts())"
   ]
  },
  {
   "cell_type": "code",
   "execution_count": 52,
   "metadata": {},
   "outputs": [],
   "source": [
    "# Split the dataset into training and testing sets\n",
    "X_train_resampled, X_test_resampled, y_train_resampled, y_test_resampled = train_test_split(X_resampled, y_resampled, test_size=0.2, random_state=0)"
   ]
  },
  {
   "cell_type": "code",
   "execution_count": 53,
   "metadata": {},
   "outputs": [
    {
     "name": "stderr",
     "output_type": "stream",
     "text": [
      "c:\\ProgramData\\anaconda3\\lib\\site-packages\\sklearn\\linear_model\\_logistic.py:458: ConvergenceWarning: lbfgs failed to converge (status=1):\n",
      "STOP: TOTAL NO. of ITERATIONS REACHED LIMIT.\n",
      "\n",
      "Increase the number of iterations (max_iter) or scale the data as shown in:\n",
      "    https://scikit-learn.org/stable/modules/preprocessing.html\n",
      "Please also refer to the documentation for alternative solver options:\n",
      "    https://scikit-learn.org/stable/modules/linear_model.html#logistic-regression\n",
      "  n_iter_i = _check_optimize_result(\n"
     ]
    },
    {
     "name": "stdout",
     "output_type": "stream",
     "text": [
      "Accuracy With Out SMOTE: 0.49364069952305245\n",
      "Accuracy With SMOTE: 0.7143482064741907\n"
     ]
    },
    {
     "name": "stderr",
     "output_type": "stream",
     "text": [
      "c:\\ProgramData\\anaconda3\\lib\\site-packages\\sklearn\\linear_model\\_logistic.py:458: ConvergenceWarning: lbfgs failed to converge (status=1):\n",
      "STOP: TOTAL NO. of ITERATIONS REACHED LIMIT.\n",
      "\n",
      "Increase the number of iterations (max_iter) or scale the data as shown in:\n",
      "    https://scikit-learn.org/stable/modules/preprocessing.html\n",
      "Please also refer to the documentation for alternative solver options:\n",
      "    https://scikit-learn.org/stable/modules/linear_model.html#logistic-regression\n",
      "  n_iter_i = _check_optimize_result(\n"
     ]
    }
   ],
   "source": [
    "# Import the LogisticRegression class\n",
    "from sklearn.linear_model import LogisticRegression\n",
    "\n",
    "# Create an instance of the LogisticRegression class\n",
    "logistic_regression = LogisticRegression()\n",
    "\n",
    "# Fit the model on the training data with out smote\n",
    "logistic_regression.fit(X_train, y_train)\n",
    "\n",
    "# Make predictions on the test set with out smote\n",
    "y_pred = logistic_regression.predict(X_test)\n",
    "\n",
    "# Print the accuracy score\n",
    "print(\"Accuracy With Out SMOTE:\", accuracy_score(y_test, y_pred))\n",
    "\n",
    "# Fit the model on the training data with smote\n",
    "logistic_regression.fit(X_train_resampled, y_train_resampled)\n",
    "\n",
    "# Make predictions on the test set with smote\n",
    "y_pred_resampled = logistic_regression.predict(X_test_resampled)\n",
    "\n",
    "# Print the accuracy score\n",
    "print(\"Accuracy With SMOTE:\", accuracy_score(y_test_resampled, y_pred_resampled))"
   ]
  },
  {
   "cell_type": "code",
   "execution_count": 54,
   "metadata": {},
   "outputs": [
    {
     "name": "stdout",
     "output_type": "stream",
     "text": [
      "Accuracy With Out SMOTE: 0.492845786963434\n",
      "Accuracy With SMOTE: 0.8035870516185477\n"
     ]
    }
   ],
   "source": [
    "# SVM with \n",
    "from sklearn.svm import SVC\n",
    "\n",
    "# Create an instance of the SVC class\n",
    "svc = SVC()\n",
    "\n",
    "# Fit the model on the training data with out smote\n",
    "svc.fit(X_train, y_train)\n",
    "\n",
    "# Make predictions on the test set with out smote\n",
    "y_pred = svc.predict(X_test)\n",
    "\n",
    "# Print the accuracy score\n",
    "print(\"Accuracy With Out SMOTE:\", accuracy_score(y_test, y_pred))\n",
    "\n",
    "# Fit the model on the training data with smote\n",
    "svc.fit(X_train_resampled, y_train_resampled)\n",
    "\n",
    "# Make predictions on the test set with smote\n",
    "y_pred_resampled = svc.predict(X_test_resampled)\n",
    "\n",
    "# Print the accuracy score\n",
    "print(\"Accuracy With SMOTE:\", accuracy_score(y_test_resampled, y_pred_resampled))"
   ]
  },
  {
   "cell_type": "code",
   "execution_count": 143,
   "metadata": {},
   "outputs": [
    {
     "name": "stdout",
     "output_type": "stream",
     "text": [
      "Accuracy With Out SMOTE: 0.4753577106518283\n",
      "Accuracy With SMOTE: 0.7502187226596675\n"
     ]
    }
   ],
   "source": [
    "# Random Forest \n",
    "from sklearn.ensemble import RandomForestClassifier\n",
    "\n",
    "# Create an instance of the RandomForestClassifier class\n",
    "random_forest = RandomForestClassifier()\n",
    "\n",
    "# Fit the model on the training data with out smote\n",
    "random_forest.fit(X_train, y_train)\n",
    "\n",
    "# Make predictions on the test set with out smote\n",
    "y_pred = random_forest.predict(X_test)\n",
    "\n",
    "# Print the accuracy score\n",
    "print(\"Accuracy With Out SMOTE:\", accuracy_score(y_test, y_pred))\n",
    "\n",
    "# Fit the model on the training data with smote\n",
    "random_forest.fit(X_train_resampled, y_train_resampled)\n",
    "\n",
    "# Make predictions on the test set with smote\n",
    "y_pred_resampled = random_forest.predict(X_test_resampled)\n",
    "\n",
    "# Print the accuracy score\n",
    "print(\"Accuracy With SMOTE:\", accuracy_score(y_test_resampled, y_pred_resampled))"
   ]
  },
  {
   "cell_type": "code",
   "execution_count": 144,
   "metadata": {},
   "outputs": [
    {
     "name": "stdout",
     "output_type": "stream",
     "text": [
      "Accuracy With Out SMOTE: 0.4713831478537361\n",
      "Accuracy With SMOTE: 0.7025371828521435\n"
     ]
    }
   ],
   "source": [
    "# Naive Bayes\n",
    "from sklearn.naive_bayes import MultinomialNB\n",
    "\n",
    "# Create an instance of the MultinomialNB class\n",
    "naive_bayes = MultinomialNB()\n",
    "\n",
    "# Fit the model on the training data with out smote\n",
    "naive_bayes.fit(X_train, y_train)\n",
    "\n",
    "# Make predictions on the test set with out smote\n",
    "y_pred = naive_bayes.predict(X_test)\n",
    "\n",
    "# Print the accuracy score\n",
    "print(\"Accuracy With Out SMOTE:\", accuracy_score(y_test, y_pred))\n",
    "\n",
    "# Fit the model on the training data with smote\n",
    "naive_bayes.fit(X_train_resampled, y_train_resampled)\n",
    "\n",
    "# Make predictions on the test set with smote\n",
    "y_pred_resampled = naive_bayes.predict(X_test_resampled)\n",
    "\n",
    "# Print the accuracy score\n",
    "print(\"Accuracy With SMOTE:\", accuracy_score(y_test_resampled, y_pred_resampled))"
   ]
  },
  {
   "cell_type": "code",
   "execution_count": 32,
   "metadata": {},
   "outputs": [
    {
     "name": "stdout",
     "output_type": "stream",
     "text": [
      "Accuracy With Out SMOTE: 0.33465818759936405\n",
      "Accuracy With SMOTE: 0.5721784776902887\n"
     ]
    }
   ],
   "source": [
    "# KNN (K-Nearest Neighbors)\n",
    "from sklearn.neighbors import KNeighborsClassifier\n",
    "\n",
    "# Create an instance of the KNeighborsClassifier class\n",
    "knn = KNeighborsClassifier()\n",
    "\n",
    "# Fit the model on the training data with out smote\n",
    "knn.fit(X_train, y_train)\n",
    "\n",
    "# Make predictions on the test set with out smote\n",
    "y_pred = knn.predict(X_test)\n",
    "\n",
    "# Print the accuracy score\n",
    "print(\"Accuracy With Out SMOTE:\", accuracy_score(y_test, y_pred))\n",
    "\n",
    "# Fit the model on the training data with smote\n",
    "knn.fit(X_train_resampled, y_train_resampled)\n",
    "\n",
    "# Make predictions on the test set with smote\n",
    "y_pred_resampled = knn.predict(X_test_resampled)\n",
    "\n",
    "# Print the accuracy score\n",
    "print(\"Accuracy With SMOTE:\", accuracy_score(y_test_resampled, y_pred_resampled))"
   ]
  },
  {
   "cell_type": "code",
   "execution_count": 33,
   "metadata": {},
   "outputs": [
    {
     "name": "stdout",
     "output_type": "stream",
     "text": [
      "Accuracy With Out SMOTE: 0.40620031796502387\n",
      "Accuracy With SMOTE: 0.6377952755905512\n"
     ]
    }
   ],
   "source": [
    "# Decision Tree\n",
    "from sklearn.tree import DecisionTreeClassifier\n",
    "\n",
    "# Create an instance of the DecisionTreeClassifier class\n",
    "decision_tree = DecisionTreeClassifier()\n",
    "\n",
    "# Fit the model on the training data with out smote\n",
    "decision_tree.fit(X_train, y_train)\n",
    "\n",
    "# Make predictions on the test set with out smote\n",
    "y_pred = decision_tree.predict(X_test)\n",
    "\n",
    "# Print the accuracy score\n",
    "print(\"Accuracy With Out SMOTE:\", accuracy_score(y_test, y_pred))\n",
    "\n",
    "# Fit the model on the training data with smote\n",
    "decision_tree.fit(X_train_resampled, y_train_resampled)\n",
    "\n",
    "# Make predictions on the test set with smote\n",
    "y_pred_resampled = decision_tree.predict(X_test_resampled)\n",
    "\n",
    "# Print the accuracy score\n",
    "print(\"Accuracy With SMOTE:\", accuracy_score(y_test_resampled, y_pred_resampled))"
   ]
  },
  {
   "cell_type": "code",
   "execution_count": 34,
   "metadata": {},
   "outputs": [
    {
     "name": "stdout",
     "output_type": "stream",
     "text": [
      "Accuracy With Out SMOTE: 0.424483306836248\n",
      "Accuracy With SMOTE: 0.5481189851268592\n"
     ]
    }
   ],
   "source": [
    "# Gradient Boosting\n",
    "from sklearn.ensemble import GradientBoostingClassifier\n",
    "\n",
    "# Create an instance of the GradientBoostingClassifier class\n",
    "gradient_boosting = GradientBoostingClassifier()\n",
    "\n",
    "# Fit the model on the training data with out smote\n",
    "gradient_boosting.fit(X_train, y_train)\n",
    "\n",
    "# Make predictions on the test set with out smote\n",
    "y_pred = gradient_boosting.predict(X_test)\n",
    "\n",
    "# Print the accuracy score\n",
    "print(\"Accuracy With Out SMOTE:\", accuracy_score(y_test, y_pred))\n",
    "\n",
    "# Fit the model on the training data with smote\n",
    "gradient_boosting.fit(X_train_resampled, y_train_resampled)\n",
    "\n",
    "# Make predictions on the test set with smote\n",
    "y_pred_resampled = gradient_boosting.predict(X_test_resampled)\n",
    "\n",
    "# Print the accuracy score\n",
    "print(\"Accuracy With SMOTE:\", accuracy_score(y_test_resampled, y_pred_resampled))"
   ]
  },
  {
   "cell_type": "code",
   "execution_count": 35,
   "metadata": {},
   "outputs": [
    {
     "name": "stdout",
     "output_type": "stream",
     "text": [
      "Fitting 3 folds for each of 32 candidates, totalling 96 fits\n",
      "Accuracy: 0.6382327209098863\n"
     ]
    }
   ],
   "source": [
    "# Classifier best model ML model\n",
    "from sklearn.ensemble import RandomForestClassifier\n",
    "from sklearn.model_selection import GridSearchCV\n",
    "\n",
    "# Create an instance of the RandomForestClassifier class\n",
    "random_forest = RandomForestClassifier()\n",
    "\n",
    "# Define the grid of hyperparameters\n",
    "grid = {'n_estimators': [200, 400],\n",
    "        'max_depth': [10, 20],\n",
    "        'min_samples_leaf': [1, 2],\n",
    "        'min_samples_split': [2, 5],\n",
    "        'max_features': [100, 200]}\n",
    "\n",
    "# Create an instance of GridSearchCV class\n",
    "grid_search = GridSearchCV(estimator=random_forest, param_grid=grid, cv=3, scoring='accuracy', verbose=1, n_jobs=-1)\n",
    "\n",
    "# Fit the model on the training data\n",
    "grid_search.fit(X_train_resampled, y_train_resampled)\n",
    "\n",
    "# Make predictions on the test data\n",
    "y_pred = grid_search.predict(X_test_resampled)\n",
    "\n",
    "# Print the accuracy score\n",
    "print(\"Accuracy:\", accuracy_score(y_test_resampled, y_pred))\n"
   ]
  },
  {
   "cell_type": "code",
   "execution_count": 39,
   "metadata": {},
   "outputs": [
    {
     "name": "stdout",
     "output_type": "stream",
     "text": [
      "Fitting 3 folds for each of 10 candidates, totalling 30 fits\n"
     ]
    },
    {
     "name": "stderr",
     "output_type": "stream",
     "text": [
      "c:\\ProgramData\\anaconda3\\lib\\site-packages\\sklearn\\model_selection\\_validation.py:378: FitFailedWarning: \n",
      "15 fits failed out of a total of 30.\n",
      "The score on these train-test partitions for these parameters will be set to nan.\n",
      "If these failures are not expected, you can try to debug them by setting error_score='raise'.\n",
      "\n",
      "Below are more details about the failures:\n",
      "--------------------------------------------------------------------------------\n",
      "15 fits failed with the following error:\n",
      "Traceback (most recent call last):\n",
      "  File \"c:\\ProgramData\\anaconda3\\lib\\site-packages\\sklearn\\model_selection\\_validation.py\", line 686, in _fit_and_score\n",
      "    estimator.fit(X_train, y_train, **fit_params)\n",
      "  File \"c:\\ProgramData\\anaconda3\\lib\\site-packages\\sklearn\\linear_model\\_logistic.py\", line 1162, in fit\n",
      "    solver = _check_solver(self.solver, self.penalty, self.dual)\n",
      "  File \"c:\\ProgramData\\anaconda3\\lib\\site-packages\\sklearn\\linear_model\\_logistic.py\", line 54, in _check_solver\n",
      "    raise ValueError(\n",
      "ValueError: Solver lbfgs supports only 'l2' or 'none' penalties, got l1 penalty.\n",
      "\n",
      "  warnings.warn(some_fits_failed_message, FitFailedWarning)\n",
      "c:\\ProgramData\\anaconda3\\lib\\site-packages\\sklearn\\model_selection\\_search.py:952: UserWarning: One or more of the test scores are non-finite: [       nan 0.57884952        nan 0.67005687        nan 0.73129921\n",
      "        nan 0.73283027        nan 0.72648731]\n",
      "  warnings.warn(\n"
     ]
    },
    {
     "name": "stdout",
     "output_type": "stream",
     "text": [
      "Accuracy: 0.784339457567804\n"
     ]
    },
    {
     "name": "stderr",
     "output_type": "stream",
     "text": [
      "c:\\ProgramData\\anaconda3\\lib\\site-packages\\sklearn\\linear_model\\_logistic.py:458: ConvergenceWarning: lbfgs failed to converge (status=1):\n",
      "STOP: TOTAL NO. of ITERATIONS REACHED LIMIT.\n",
      "\n",
      "Increase the number of iterations (max_iter) or scale the data as shown in:\n",
      "    https://scikit-learn.org/stable/modules/preprocessing.html\n",
      "Please also refer to the documentation for alternative solver options:\n",
      "    https://scikit-learn.org/stable/modules/linear_model.html#logistic-regression\n",
      "  n_iter_i = _check_optimize_result(\n"
     ]
    }
   ],
   "source": [
    "# Define the grid of hyperparameters for LogisticRegression\n",
    "grid = {'C': [0.1, 1, 10, 100, 1000],\n",
    "        'penalty': ['l1', 'l2']}\n",
    "\n",
    "# Create an instance of GridSearchCV class for LogisticRegression\n",
    "grid_search = GridSearchCV(estimator=logistic_regression, param_grid=grid, cv=3, scoring='accuracy', verbose=1, n_jobs=-1)\n",
    "\n",
    "# Fit the model on the training data\n",
    "grid_search.fit(X_train_resampled, y_train_resampled)\n",
    "\n",
    "# Make predictions on the test data\n",
    "y_pred = grid_search.predict(X_test_resampled)\n",
    "\n",
    "# Print the accuracy score\n",
    "print(\"Accuracy:\", accuracy_score(y_test_resampled, y_pred))"
   ]
  },
  {
   "cell_type": "code",
   "execution_count": 40,
   "metadata": {},
   "outputs": [
    {
     "name": "stdout",
     "output_type": "stream",
     "text": [
      "Fitting 3 folds for each of 60 candidates, totalling 180 fits\n",
      "Accuracy: 0.8258967629046369\n"
     ]
    }
   ],
   "source": [
    "# Define the grid of hyperparameters for SVM\n",
    "grid = {'C': [0.1, 1, 10, 100, 1000],\n",
    "        'gamma': [1, 0.1, 0.01, 0.001],\n",
    "        'kernel': ['rbf', 'poly', 'sigmoid']}\n",
    "\n",
    "# Create an instance of GridSearchCV class for SVM\n",
    "grid_search = (estimator=svc, param_grid=grid, cv=3, scoring='accuracy', verbose=1, n_jobs=-1)\n",
    "\n",
    "# Fit the model on the training data\n",
    "grid_search.fit(X_train_resampled, y_train_resampled)\n",
    "\n",
    "# Make predictions on the test data\n",
    "y_pred = grid_search.predict(X_test_resampled)\n",
    "\n",
    "# Print the accuracy score\n",
    "\n",
    "print(\"Accuracy:\", accuracy_score(y_test_resampled, y_pred))"
   ]
  },
  {
   "cell_type": "code",
   "execution_count": 41,
   "metadata": {},
   "outputs": [
    {
     "name": "stdout",
     "output_type": "stream",
     "text": [
      "Fitting 3 folds for each of 4 candidates, totalling 12 fits\n",
      "Accuracy: 0.7602799650043744\n"
     ]
    }
   ],
   "source": [
    "# Define the grid of hyperparameters for Naive Bayes\n",
    "grid = {'alpha': [0.1, 1, 10, 100]}\n",
    "\n",
    "# Create an instance of GridSearchCV class for Naive Bayes\n",
    "grid_search = GridSearchCV(estimator=naive_bayes, param_grid=grid, cv=3, scoring='accuracy', verbose=1, n_jobs=-1)\n",
    "\n",
    "# Fit the model on the training data\n",
    "grid_search.fit(X_train_resampled, y_train_resampled)\n",
    "\n",
    "# Make predictions on the test data\n",
    "y_pred = grid_search.predict(X_test_resampled)\n",
    "\n",
    "# Print the accuracy score\n",
    "print(\"Accuracy:\", accuracy_score(y_test_resampled, y_pred))"
   ]
  },
  {
   "cell_type": "code",
   "execution_count": 145,
   "metadata": {},
   "outputs": [],
   "source": [
    "\n",
    "# make a function for Predict the sentiment polarity of the input sentence\n",
    "def predict_sentiment(sentence):\n",
    "\n",
    "    # vectorize the sentence using the TfidfVectorizer max_features = 13112\n",
    "    max_features = 13112\n",
    "\n",
    "    # Create an instance of the TfidfVectorizer class\n",
    "    vectorizer = TfidfVectorizer(max_features=max_features)\n",
    "\n",
    "    # Fit and transform the vectorizer on the input sentence\n",
    "    sentence_vectorized = vectorizer.fit_transform([sentence])\n",
    "\n",
    "    # padded the vectorized sentence to match the shape of the training data\n",
    "    padded_sentence_vectorized = np.zeros((1, max_features))\n",
    "\n",
    "def predict_sentiment_LogisticRegression(padded_sentence_vectorized):\n",
    "    \n",
    "    # Make a prediction on the vectorized sentence using the LogisticRegression instance\n",
    "    prediction = logistic_regression.predict(padded_sentence_vectorized)\n",
    "\n",
    "    # Print the predicted sentiment polarity\n",
    "    print(prediction)\n",
    "\n",
    "def predict_sentiment_SVM(sentence):\n",
    "    \n",
    "    # Make a prediction on the vectorized sentence using the LogisticRegression instance\n",
    "    prediction = svc.predict(padded_sentence_vectorized)\n",
    "\n",
    "    # Print the predicted sentiment polarity\n",
    "    print(prediction)\n",
    "\n",
    "def predict_sentiment_RandomForest(sentence):\n",
    "\n",
    "    # Make a prediction on the vectorized sentence using the LogisticRegression instance\n",
    "    prediction = random_forest.predict(padded_sentence_vectorized)\n",
    "\n",
    "    # Print the predicted sentiment polarity\n",
    "    print(prediction)\n",
    "\n",
    "def predict_sentiment_NaiveBayes(sentence):\n",
    "\n",
    "    # Make a prediction on the vectorized sentence using the LogisticRegression instance\n",
    "    prediction = naive_bayes.predict(padded_sentence_vectorized)\n",
    "\n",
    "    # Print the predicted sentiment polarity\n",
    "    print(prediction)\n",
    "\n",
    "#predict_sentiment best model ML model\n",
    "def predict_sentiment_best_model(sentence):\n",
    "    \n",
    "    # Make a prediction on the vectorized sentence using the LogisticRegression instance\n",
    "    prediction = grid_search.predict(padded_sentence_vectorized)\n",
    "\n",
    "    # Print the predicted sentiment polarity\n",
    "    print(prediction)"
   ]
  },
  {
   "cell_type": "code",
   "execution_count": 155,
   "metadata": {},
   "outputs": [
    {
     "name": "stdout",
     "output_type": "stream",
     "text": [
      "LogisticRegression\n"
     ]
    },
    {
     "ename": "ValueError",
     "evalue": "empty vocabulary; perhaps the documents only contain stop words",
     "output_type": "error",
     "traceback": [
      "\u001b[1;31m---------------------------------------------------------------------------\u001b[0m",
      "\u001b[1;31mValueError\u001b[0m                                Traceback (most recent call last)",
      "Cell \u001b[1;32mIn[155], line 6\u001b[0m\n\u001b[0;32m      4\u001b[0m \u001b[39m# Predict the sentiment polarity of the input sentence LogisticRegression\u001b[39;00m\n\u001b[0;32m      5\u001b[0m \u001b[39mprint\u001b[39m(\u001b[39m\"\u001b[39m\u001b[39mLogisticRegression\u001b[39m\u001b[39m\"\u001b[39m)\n\u001b[1;32m----> 6\u001b[0m predict_sentiment_LogisticRegression(predict_sentiment(sentence))\n\u001b[0;32m      8\u001b[0m \u001b[39m# Predict the sentiment polarity of the input sentence SVM\u001b[39;00m\n\u001b[0;32m      9\u001b[0m \u001b[39mprint\u001b[39m(\u001b[39m\"\u001b[39m\u001b[39mSVM\u001b[39m\u001b[39m\"\u001b[39m)\n",
      "Cell \u001b[1;32mIn[145], line 11\u001b[0m, in \u001b[0;36mpredict_sentiment\u001b[1;34m(sentence)\u001b[0m\n\u001b[0;32m      8\u001b[0m vectorizer \u001b[39m=\u001b[39m TfidfVectorizer(max_features\u001b[39m=\u001b[39mmax_features)\n\u001b[0;32m     10\u001b[0m \u001b[39m# Fit and transform the vectorizer on the input sentence\u001b[39;00m\n\u001b[1;32m---> 11\u001b[0m sentence_vectorized \u001b[39m=\u001b[39m vectorizer\u001b[39m.\u001b[39;49mfit_transform([sentence])\n\u001b[0;32m     13\u001b[0m \u001b[39m# padded the vectorized sentence to match the shape of the training data\u001b[39;00m\n\u001b[0;32m     14\u001b[0m padded_sentence_vectorized \u001b[39m=\u001b[39m np\u001b[39m.\u001b[39mzeros((\u001b[39m1\u001b[39m, max_features))\n",
      "File \u001b[1;32mc:\\ProgramData\\anaconda3\\lib\\site-packages\\sklearn\\feature_extraction\\text.py:2131\u001b[0m, in \u001b[0;36mTfidfVectorizer.fit_transform\u001b[1;34m(self, raw_documents, y)\u001b[0m\n\u001b[0;32m   2124\u001b[0m \u001b[39mself\u001b[39m\u001b[39m.\u001b[39m_check_params()\n\u001b[0;32m   2125\u001b[0m \u001b[39mself\u001b[39m\u001b[39m.\u001b[39m_tfidf \u001b[39m=\u001b[39m TfidfTransformer(\n\u001b[0;32m   2126\u001b[0m     norm\u001b[39m=\u001b[39m\u001b[39mself\u001b[39m\u001b[39m.\u001b[39mnorm,\n\u001b[0;32m   2127\u001b[0m     use_idf\u001b[39m=\u001b[39m\u001b[39mself\u001b[39m\u001b[39m.\u001b[39muse_idf,\n\u001b[0;32m   2128\u001b[0m     smooth_idf\u001b[39m=\u001b[39m\u001b[39mself\u001b[39m\u001b[39m.\u001b[39msmooth_idf,\n\u001b[0;32m   2129\u001b[0m     sublinear_tf\u001b[39m=\u001b[39m\u001b[39mself\u001b[39m\u001b[39m.\u001b[39msublinear_tf,\n\u001b[0;32m   2130\u001b[0m )\n\u001b[1;32m-> 2131\u001b[0m X \u001b[39m=\u001b[39m \u001b[39msuper\u001b[39;49m()\u001b[39m.\u001b[39;49mfit_transform(raw_documents)\n\u001b[0;32m   2132\u001b[0m \u001b[39mself\u001b[39m\u001b[39m.\u001b[39m_tfidf\u001b[39m.\u001b[39mfit(X)\n\u001b[0;32m   2133\u001b[0m \u001b[39m# X is already a transformed view of raw_documents so\u001b[39;00m\n\u001b[0;32m   2134\u001b[0m \u001b[39m# we set copy to False\u001b[39;00m\n",
      "File \u001b[1;32mc:\\ProgramData\\anaconda3\\lib\\site-packages\\sklearn\\feature_extraction\\text.py:1387\u001b[0m, in \u001b[0;36mCountVectorizer.fit_transform\u001b[1;34m(self, raw_documents, y)\u001b[0m\n\u001b[0;32m   1379\u001b[0m             warnings\u001b[39m.\u001b[39mwarn(\n\u001b[0;32m   1380\u001b[0m                 \u001b[39m\"\u001b[39m\u001b[39mUpper case characters found in\u001b[39m\u001b[39m\"\u001b[39m\n\u001b[0;32m   1381\u001b[0m                 \u001b[39m\"\u001b[39m\u001b[39m vocabulary while \u001b[39m\u001b[39m'\u001b[39m\u001b[39mlowercase\u001b[39m\u001b[39m'\u001b[39m\u001b[39m\"\u001b[39m\n\u001b[0;32m   1382\u001b[0m                 \u001b[39m\"\u001b[39m\u001b[39m is True. These entries will not\u001b[39m\u001b[39m\"\u001b[39m\n\u001b[0;32m   1383\u001b[0m                 \u001b[39m\"\u001b[39m\u001b[39m be matched with any documents\u001b[39m\u001b[39m\"\u001b[39m\n\u001b[0;32m   1384\u001b[0m             )\n\u001b[0;32m   1385\u001b[0m             \u001b[39mbreak\u001b[39;00m\n\u001b[1;32m-> 1387\u001b[0m vocabulary, X \u001b[39m=\u001b[39m \u001b[39mself\u001b[39;49m\u001b[39m.\u001b[39;49m_count_vocab(raw_documents, \u001b[39mself\u001b[39;49m\u001b[39m.\u001b[39;49mfixed_vocabulary_)\n\u001b[0;32m   1389\u001b[0m \u001b[39mif\u001b[39;00m \u001b[39mself\u001b[39m\u001b[39m.\u001b[39mbinary:\n\u001b[0;32m   1390\u001b[0m     X\u001b[39m.\u001b[39mdata\u001b[39m.\u001b[39mfill(\u001b[39m1\u001b[39m)\n",
      "File \u001b[1;32mc:\\ProgramData\\anaconda3\\lib\\site-packages\\sklearn\\feature_extraction\\text.py:1293\u001b[0m, in \u001b[0;36mCountVectorizer._count_vocab\u001b[1;34m(self, raw_documents, fixed_vocab)\u001b[0m\n\u001b[0;32m   1291\u001b[0m     vocabulary \u001b[39m=\u001b[39m \u001b[39mdict\u001b[39m(vocabulary)\n\u001b[0;32m   1292\u001b[0m     \u001b[39mif\u001b[39;00m \u001b[39mnot\u001b[39;00m vocabulary:\n\u001b[1;32m-> 1293\u001b[0m         \u001b[39mraise\u001b[39;00m \u001b[39mValueError\u001b[39;00m(\n\u001b[0;32m   1294\u001b[0m             \u001b[39m\"\u001b[39m\u001b[39mempty vocabulary; perhaps the documents only contain stop words\u001b[39m\u001b[39m\"\u001b[39m\n\u001b[0;32m   1295\u001b[0m         )\n\u001b[0;32m   1297\u001b[0m \u001b[39mif\u001b[39;00m indptr[\u001b[39m-\u001b[39m\u001b[39m1\u001b[39m] \u001b[39m>\u001b[39m np\u001b[39m.\u001b[39miinfo(np\u001b[39m.\u001b[39mint32)\u001b[39m.\u001b[39mmax:  \u001b[39m# = 2**31 - 1\u001b[39;00m\n\u001b[0;32m   1298\u001b[0m     \u001b[39mif\u001b[39;00m _IS_32BIT:\n",
      "\u001b[1;31mValueError\u001b[0m: empty vocabulary; perhaps the documents only contain stop words"
     ]
    }
   ],
   "source": [
    "# Input a sentence form the user\n",
    "sentence = input(\"Enter a sentence: \")\n",
    "\n",
    "# Predict the sentiment polarity of the input sentence LogisticRegression\n",
    "print(\"LogisticRegression\")\n",
    "predict_sentiment_LogisticRegression(predict_sentiment(sentence))\n",
    "\n",
    "# Predict the sentiment polarity of the input sentence SVM\n",
    "print(\"SVM\")\n",
    "predict_sentiment_SVM(predict_sentiment(sentence))\n",
    "\n",
    "# Predict the sentiment polarity of the input sentence RandomForest\n",
    "print(\"RandomForest\")\n",
    "predict_sentiment_RandomForest(predict_sentiment(sentence))\n",
    "\n",
    "# Predict the sentiment polarity of the input sentence NaiveBayes\n",
    "print(\"NaiveBayes\")\n",
    "predict_sentiment_NaiveBayes(predict_sentiment(sentence))\n",
    "\n",
    "# Predict the sentiment polarity of the input sentence best model ML model\n",
    "print(\"best model ML model\")\n",
    "predict_sentiment_best_model(predict_sentiment(sentence))\n"
   ]
  }
 ],
 "metadata": {
  "kernelspec": {
   "display_name": "Python 3 (ipykernel)",
   "language": "python",
   "name": "python3"
  },
  "language_info": {
   "codemirror_mode": {
    "name": "ipython",
    "version": 3
   },
   "file_extension": ".py",
   "mimetype": "text/x-python",
   "name": "python",
   "nbconvert_exporter": "python",
   "pygments_lexer": "ipython3",
   "version": "3.10.9"
  }
 },
 "nbformat": 4,
 "nbformat_minor": 2
}
