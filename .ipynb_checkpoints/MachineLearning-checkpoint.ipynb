{
 "cells": [
  {
   "cell_type": "markdown",
   "id": "34a395d6",
   "metadata": {},
   "source": [
    "### Importing Libreries"
   ]
  },
  {
   "cell_type": "code",
   "execution_count": 1,
   "id": "d6613270",
   "metadata": {},
   "outputs": [],
   "source": [
    "%%capture\n",
    "!pip install -U spacy\n",
    "!python -m spacy download en_core_web_sm\n",
    "!pip install langdetectpip install langdetect"
   ]
  },
  {
   "cell_type": "code",
   "execution_count": 1,
   "id": "f0228f17",
   "metadata": {},
   "outputs": [
    {
     "name": "stderr",
     "output_type": "stream",
     "text": [
      "[nltk_data] Error loading punkt: <urlopen error [Errno 11001]\n",
      "[nltk_data]     getaddrinfo failed>\n",
      "[nltk_data] Error loading stopwords: <urlopen error [Errno 11001]\n",
      "[nltk_data]     getaddrinfo failed>\n"
     ]
    },
    {
     "data": {
      "text/plain": [
       "False"
      ]
     },
     "execution_count": 1,
     "metadata": {},
     "output_type": "execute_result"
    }
   ],
   "source": [
    "import re\n",
    "import nltk\n",
    "import spacy\n",
    "from tqdm import tqdm\n",
    "from nltk import sent_tokenize, word_tokenize\n",
    "from nltk.corpus import stopwords\n",
    "nltk.download('punkt')\n",
    "nltk.download('stopwords')"
   ]
  },
  {
   "cell_type": "code",
   "execution_count": 3,
   "id": "05c5c83a",
   "metadata": {},
   "outputs": [],
   "source": [
    "import pandas as pd\n",
    "from sklearn.model_selection import train_test_split\n",
    "from sklearn.feature_extraction.text import TfidfVectorizer\n",
    "\n",
    "# Models\n",
    "from sklearn.naive_bayes import MultinomialNB\n",
    "from sklearn.linear_model import LogisticRegression\n",
    "from sklearn.svm import LinearSVC\n",
    "from sklearn.tree import DecisionTreeClassifier\n",
    "from sklearn.ensemble import RandomForestClassifier\n",
    "\n",
    "from sklearn.metrics import accuracy_score, precision_score, recall_score, f1_score"
   ]
  },
  {
   "cell_type": "markdown",
   "id": "11bb8d20",
   "metadata": {},
   "source": [
    "### Importing dataset"
   ]
  },
  {
   "cell_type": "code",
   "execution_count": 5,
   "id": "8d700e5e",
   "metadata": {},
   "outputs": [],
   "source": [
    "df = pd.read_csv(r\"E:\\thesis\\mental_disorders_reddit.csv\")"
   ]
  },
  {
   "cell_type": "markdown",
   "id": "0c1fd0a5",
   "metadata": {},
   "source": [
    "### Preprocessing"
   ]
  },
  {
   "cell_type": "markdown",
   "id": "a8acf38a",
   "metadata": {},
   "source": [
    "#### Original data"
   ]
  },
  {
   "cell_type": "code",
   "execution_count": 6,
   "id": "1c751370",
   "metadata": {},
   "outputs": [
    {
     "data": {
      "text/plain": [
       "(701787, 5)"
      ]
     },
     "execution_count": 6,
     "metadata": {},
     "output_type": "execute_result"
    }
   ],
   "source": [
    "df.shape"
   ]
  },
  {
   "cell_type": "code",
   "execution_count": 7,
   "id": "0896ce1b",
   "metadata": {},
   "outputs": [
    {
     "data": {
      "text/plain": [
       "BPD              241116\n",
       "Anxiety          173990\n",
       "depression       156972\n",
       "mentalillness     53232\n",
       "bipolar           51112\n",
       "schizophrenia     25365\n",
       "Name: subreddit, dtype: int64"
      ]
     },
     "execution_count": 7,
     "metadata": {},
     "output_type": "execute_result"
    }
   ],
   "source": [
    "df['subreddit'].value_counts()"
   ]
  },
  {
   "cell_type": "code",
   "execution_count": 8,
   "id": "c2deef49",
   "metadata": {},
   "outputs": [
    {
     "data": {
      "text/html": [
       "<div>\n",
       "<style scoped>\n",
       "    .dataframe tbody tr th:only-of-type {\n",
       "        vertical-align: middle;\n",
       "    }\n",
       "\n",
       "    .dataframe tbody tr th {\n",
       "        vertical-align: top;\n",
       "    }\n",
       "\n",
       "    .dataframe thead th {\n",
       "        text-align: right;\n",
       "    }\n",
       "</style>\n",
       "<table border=\"1\" class=\"dataframe\">\n",
       "  <thead>\n",
       "    <tr style=\"text-align: right;\">\n",
       "      <th></th>\n",
       "      <th>title</th>\n",
       "      <th>selftext</th>\n",
       "      <th>created_utc</th>\n",
       "      <th>over_18</th>\n",
       "      <th>subreddit</th>\n",
       "    </tr>\n",
       "  </thead>\n",
       "  <tbody>\n",
       "    <tr>\n",
       "      <th>15064</th>\n",
       "      <td>Today someone showed me basic human kindness a...</td>\n",
       "      <td>I've spoken to them a grand total of three tim...</td>\n",
       "      <td>1639793978</td>\n",
       "      <td>False</td>\n",
       "      <td>BPD</td>\n",
       "    </tr>\n",
       "    <tr>\n",
       "      <th>124675</th>\n",
       "      <td>Why can't person with BPD form an identity?</td>\n",
       "      <td>Isn't identity just habit formation? Isn't ide...</td>\n",
       "      <td>1599390752</td>\n",
       "      <td>False</td>\n",
       "      <td>BPD</td>\n",
       "    </tr>\n",
       "  </tbody>\n",
       "</table>\n",
       "</div>"
      ],
      "text/plain": [
       "                                                    title  \\\n",
       "15064   Today someone showed me basic human kindness a...   \n",
       "124675        Why can't person with BPD form an identity?   \n",
       "\n",
       "                                                 selftext  created_utc  \\\n",
       "15064   I've spoken to them a grand total of three tim...   1639793978   \n",
       "124675  Isn't identity just habit formation? Isn't ide...   1599390752   \n",
       "\n",
       "        over_18 subreddit  \n",
       "15064     False       BPD  \n",
       "124675    False       BPD  "
      ]
     },
     "execution_count": 8,
     "metadata": {},
     "output_type": "execute_result"
    }
   ],
   "source": [
    "df.sample(2)"
   ]
  },
  {
   "cell_type": "markdown",
   "id": "f9b6ab1e",
   "metadata": {},
   "source": [
    "#### Removing rows whith removed data"
   ]
  },
  {
   "cell_type": "code",
   "execution_count": 9,
   "id": "d4a942be",
   "metadata": {},
   "outputs": [],
   "source": [
    "df.drop(df[(df['selftext'] =='\\\\[removed\\\\]')].index, inplace=True)\n",
    "df.drop(df[(df['selftext'] =='[removed]')].index, inplace=True)\n",
    "df.drop(df[(df['title'] =='\\\\[removed\\\\]')].index, inplace=True)\n",
    "df.drop(df[(df['title'] =='[removed]')].index, inplace=True)"
   ]
  },
  {
   "cell_type": "markdown",
   "id": "af83c2dc",
   "metadata": {},
   "source": [
    "#### Combining columns"
   ]
  },
  {
   "cell_type": "code",
   "execution_count": 10,
   "id": "8eab79c5",
   "metadata": {},
   "outputs": [],
   "source": [
    "df[\"post\"] = df[\"title\"] + ' ' + df[\"selftext\"]"
   ]
  },
  {
   "cell_type": "markdown",
   "id": "675f9571",
   "metadata": {},
   "source": [
    "#### Removing null values"
   ]
  },
  {
   "cell_type": "code",
   "execution_count": 11,
   "id": "10c29618",
   "metadata": {},
   "outputs": [],
   "source": [
    "df.dropna(inplace=True)"
   ]
  },
  {
   "cell_type": "markdown",
   "id": "ee6aa474",
   "metadata": {},
   "source": [
    "#### Drop rows with df['subreddit'] =='mentalillness'"
   ]
  },
  {
   "cell_type": "code",
   "execution_count": 12,
   "id": "5c1171f6",
   "metadata": {},
   "outputs": [],
   "source": [
    "df.drop(df[(df['subreddit'] =='mentalillness')].index, inplace=True)"
   ]
  },
  {
   "cell_type": "markdown",
   "id": "bddeb1f6",
   "metadata": {},
   "source": [
    "#### Getting relevent columns"
   ]
  },
  {
   "cell_type": "code",
   "execution_count": 13,
   "id": "92cf8afc",
   "metadata": {},
   "outputs": [
    {
     "data": {
      "text/html": [
       "<div>\n",
       "<style scoped>\n",
       "    .dataframe tbody tr th:only-of-type {\n",
       "        vertical-align: middle;\n",
       "    }\n",
       "\n",
       "    .dataframe tbody tr th {\n",
       "        vertical-align: top;\n",
       "    }\n",
       "\n",
       "    .dataframe thead th {\n",
       "        text-align: right;\n",
       "    }\n",
       "</style>\n",
       "<table border=\"1\" class=\"dataframe\">\n",
       "  <thead>\n",
       "    <tr style=\"text-align: right;\">\n",
       "      <th></th>\n",
       "      <th>post</th>\n",
       "      <th>subreddit</th>\n",
       "    </tr>\n",
       "  </thead>\n",
       "  <tbody>\n",
       "    <tr>\n",
       "      <th>347552</th>\n",
       "      <td>Depression and romantic relationship? Please b...</td>\n",
       "      <td>depression</td>\n",
       "    </tr>\n",
       "    <tr>\n",
       "      <th>502116</th>\n",
       "      <td>Is anyone unable to eat until early evening (o...</td>\n",
       "      <td>Anxiety</td>\n",
       "    </tr>\n",
       "  </tbody>\n",
       "</table>\n",
       "</div>"
      ],
      "text/plain": [
       "                                                     post   subreddit\n",
       "347552  Depression and romantic relationship? Please b...  depression\n",
       "502116  Is anyone unable to eat until early evening (o...     Anxiety"
      ]
     },
     "execution_count": 13,
     "metadata": {},
     "output_type": "execute_result"
    }
   ],
   "source": [
    "df = df[['post', 'subreddit']]\n",
    "df.sample(2)"
   ]
  },
  {
   "cell_type": "code",
   "execution_count": 14,
   "id": "0dfcef9c",
   "metadata": {},
   "outputs": [
    {
     "name": "stdout",
     "output_type": "stream",
     "text": [
      "Shape:  (543055, 2)\n"
     ]
    },
    {
     "data": {
      "text/plain": [
       "BPD              212825\n",
       "Anxiety          161629\n",
       "depression       121202\n",
       "bipolar           35672\n",
       "schizophrenia     11727\n",
       "Name: subreddit, dtype: int64"
      ]
     },
     "execution_count": 14,
     "metadata": {},
     "output_type": "execute_result"
    }
   ],
   "source": [
    "print(\"Shape: \", df.shape)\n",
    "df['subreddit'].value_counts()"
   ]
  },
  {
   "cell_type": "code",
   "execution_count": 15,
   "id": "490975e3",
   "metadata": {},
   "outputs": [],
   "source": [
    "load_model = spacy.load('en_core_web_sm', disable=[\"parser\", \"ner\"])"
   ]
  },
  {
   "cell_type": "code",
   "execution_count": 16,
   "id": "6230218b",
   "metadata": {},
   "outputs": [],
   "source": [
    "def lemmatization(text):\n",
    "    doc = load_model(text)\n",
    "    return \" \".join([token.lemma_ for token in doc])\n",
    "\n",
    "def remove_url(text):\n",
    "    re_url = re.compile('https?://\\S+|www\\.\\S+')\n",
    "    return re_url.sub('', str(text))\n",
    "\n",
    "def remove_stopwords(text):\n",
    "    new_list = []\n",
    "    words = nltk.word_tokenize(text)\n",
    "    stopwrds = set(stopwords.words('english')) - {'not'}\n",
    "    for word in words:\n",
    "        if word not in stopwrds:\n",
    "            new_list.append(word)\n",
    "    return ' '.join(new_list)\n",
    "\n",
    "def remove_newline(text):\n",
    "    return text.replace('\\n', ' ').replace('\\r', '')\n",
    "\n",
    "def remove_emojis(text):\n",
    "    emoj = re.compile(\"[\"\n",
    "        u\"\\U0001F600-\\U0001F64F\"  # emoticons\n",
    "        u\"\\U0001F300-\\U0001F5FF\"  # symbols & pictographs\n",
    "        u\"\\U0001F680-\\U0001F6FF\"  # transport & map symbols\n",
    "        u\"\\U0001F1E0-\\U0001F1FF\"  # flags (iOS)\n",
    "        u\"\\U00002500-\\U00002BEF\"  # chinese char\n",
    "        u\"\\U00002702-\\U000027B0\"\n",
    "        u\"\\U00002702-\\U000027B0\"\n",
    "        u\"\\U000024C2-\\U0001F251\"\n",
    "        u\"\\U0001f926-\\U0001f937\"\n",
    "        u\"\\U00010000-\\U0010ffff\"\n",
    "        u\"\\u2640-\\u2642\" \n",
    "        u\"\\u2600-\\u2B55\"\n",
    "        u\"\\u200d\"\n",
    "        u\"\\u23cf\"\n",
    "        u\"\\u23e9\"\n",
    "        u\"\\u231a\"\n",
    "        u\"\\ufe0f\"  # dingbats\n",
    "        u\"\\u3030\"\n",
    "                      \"]+\", re.UNICODE)\n",
    "    return re.sub(emoj, '', text)\n",
    "\n",
    "def convert_lowercase(text):\n",
    "    text = text.lower()\n",
    "    return str(text)\n",
    "\n",
    "def remove_html(data):\n",
    "    html_tag=re.compile(r'<.*?>')\n",
    "    data=html_tag.sub(r'',data)\n",
    "    return data\n",
    "\n",
    "def remove_whitespaces(text):\n",
    "    text = re.sub(r'[^\\w\\s\\']',' ', text)\n",
    "    text = re.sub(' +', ' ', text)\n",
    "    return text.strip().lower()\n",
    "\n",
    "def remove_brackets(text):\n",
    "    text = re.sub(r'\\[|\\]|\\(|\\)|\\{|\\}|\\<|\\>', '', text)\n",
    "    return text\n",
    "\n",
    "# Removes single and double quotes from a given string.\n",
    "def remove_quotes(text):\n",
    "    return text.replace(\"'\", \"\").replace('\"', '')\n",
    "\n",
    "# Removes digits from a given string, even if they are between words.\n",
    "def remove_digits(text):\n",
    "    return re.sub(r'\\d+', '', text)\n",
    "\n",
    "# Define the abbreviations dictionary\n",
    "abbr_dict = {\n",
    "    \"'cause\": \"because\",\n",
    "    \"ain't\": \"am not\",\n",
    "    \"can't\": \"can not\",\n",
    "    \"cannot\": \"can not\",\n",
    "    \"could've\": \"could have\",\n",
    "    \"couldn't\": \"could not\",\n",
    "    \"didn't\": \"did not\",\n",
    "    \"doesnt\": \"does not\",\n",
    "    \"dont\": \"do not\",\n",
    "    \"gimme\": \"give me\",\n",
    "    \"gotta\": \"got to\",\n",
    "    \"hadn't\": \"had not\",\n",
    "    \"hadnt\": \"had not\",\n",
    "    \"hasn't\": \"has not\",\n",
    "    \"hasnt\": \"has not\",\n",
    "    \"haven't\": \"have not\",\n",
    "    \"havent\": \"have not\",\n",
    "    \"he'd\": \"he would\",\n",
    "    \"he'll\": \"he will\",\n",
    "    \"he's\": \"he is\",\n",
    "    \"here's\": \"here is\",\n",
    "    \"how'd\": \"how did\",\n",
    "    \"how'd'y\": \"how do you\",\n",
    "    \"how'll\": \"how will\",\n",
    "    \"how's\": \"how is\",\n",
    "    \"i'm\": \"i am\",\n",
    "    \"i'll\": \"i will\",\n",
    "    \"i've\": \"i have\",\n",
    "    \"i ve\": \"i have\",\n",
    "    \"imma\": \"i am going to\",\n",
    "    \"isn't\": \"is not\",\n",
    "    \"it'll\": \"it will\",\n",
    "    \"it's\": \"it is\",\n",
    "    \"lemme\": \"let me\",\n",
    "    \"let's\": \"let us\",\n",
    "    \"not've\": \"not have\",\n",
    "    \"shouldn't\": \"should not\",\n",
    "    \"she'll\": \"she will\",\n",
    "    \"she's\": \"she is\",\n",
    "    \"that's\": \"that is\",\n",
    "    \"there's\": \"there is\",\n",
    "    \"there're\": \"there are\",\n",
    "    \"they'd\": \"they would\",\n",
    "    \"they'll\": \"they will\",\n",
    "    \"they're\": \"they are\",\n",
    "    \"they've\": \"they have\",\n",
    "    \"wasn't\": \"was not\",\n",
    "    \"wasnt\": \"was not\",\n",
    "    \"we're\": \"we are\",\n",
    "    \"we've\": \"we have\",\n",
    "    \"weren't\": \"were not\",\n",
    "    \"werent\": \"were not\",\n",
    "    \"what's\": \"what is\",\n",
    "    \"what're\": \"what are\",\n",
    "    \"when's\": \"when is\",\n",
    "    \"when're\": \"when are\",\n",
    "    \"where's\": \"where is\",\n",
    "    \"where're\": \"where are\",\n",
    "    \"who's\": \"who is\",\n",
    "    \"who're\": \"who are\",\n",
    "    \"who've\": \"who have\",\n",
    "    \"won't\": \"will not\",\n",
    "    \"would've\": \"would have\",\n",
    "    \"wouldn't\": \"would not\",\n",
    "    \"wouldn't've\": \"would not have\",\n",
    "    \"y'all\": \"you all\",\n",
    "    \"y'all'd\": \"you all would\",\n",
    "    \"y'all'd've\": \"you all would have\",\n",
    "    \"y'all're\": \"you all are\",\n",
    "    \"y'all've\": \"you all have\",\n",
    "    \"you'd\": \"you would\",\n",
    "    \"you'd've\": \"you would have\",\n",
    "    \"you'll\": \"you will\",\n",
    "    \"you'll've\": \"you will have\",\n",
    "    \"you're\": \"you are\",\n",
    "    \"you've\": \"you have\"\n",
    "}\n",
    "\n",
    "# Define the function to replace the abbreviations\n",
    "def replace_abbreviations(text):\n",
    "    # Replace '’' with '\\' \n",
    "    text = re.sub('’', '\\'', text)\n",
    "    \n",
    "    # Replace \"don't\" with \"do not\"\n",
    "    text = re.sub(r'\\bdon t\\b', 'do not', text, flags=re.IGNORECASE)\n",
    "    \n",
    "    # Replace \"i ve\" with \"i have\"\n",
    "    text = re.sub(r'\\bi ve\\b', 'i have', text, flags=re.IGNORECASE)\n",
    "    \n",
    "    # Remove any word that starts with 'm' or 'f' followed by digits\n",
    "    text = re.sub(r'\\b[mf](\\d+)\\b', '', text, flags=re.IGNORECASE)\n",
    "    \n",
    "    # Remove any digit that is followed by 'm' or 'f'\n",
    "    text = re.sub(r'\\b(\\d+)[mf]\\b', '', text, flags=re.IGNORECASE)\n",
    "\n",
    "    # Replace abbreviations with their full form\n",
    "    for word in text.split():\n",
    "        if word.lower() in abbr_dict:\n",
    "            text = re.sub(r'\\b{}\\b'.format(word), abbr_dict[word.lower()], text, flags=re.IGNORECASE)\n",
    "    \n",
    "    return text"
   ]
  },
  {
   "cell_type": "code",
   "execution_count": 17,
   "id": "471d93ab",
   "metadata": {
    "scrolled": true
   },
   "outputs": [
    {
     "name": "stderr",
     "output_type": "stream",
     "text": [
      "100%|████████████████████████████████████████████████████████████████████████| 543055/543055 [07:36<00:00, 1190.76it/s]\n",
      "100%|████████████████████████████████████████████████████████████████████████| 543055/543055 [2:53:42<00:00, 52.11it/s]\n",
      "100%|████████████████████████████████████████████████████████████████████████| 543055/543055 [2:07:39<00:00, 70.90it/s]\n"
     ]
    }
   ],
   "source": [
    "tqdm.pandas()\n",
    "\n",
    "# hero.preprocessing.remove_diacritics(df.post)\n",
    "df['post'] = df['post'].apply(remove_brackets)\n",
    "df['post'] = df['post'].progress_apply(replace_abbreviations)\n",
    "df['post'] = df['post'].apply(remove_quotes)\n",
    "df['post'] = df['post'].apply(remove_url)\n",
    "df['post'] = df['post'].apply(remove_newline)\n",
    "df['post'] = df['post'].apply(remove_emojis)\n",
    "df['post'] = df['post'].apply(remove_html)\n",
    "df['post'] = df['post'].apply(convert_lowercase)\n",
    "df['post'] = df['post'].progress_apply(remove_stopwords)\n",
    "df['post'] = df['post'].apply(remove_digits)\n",
    "df['post'] = df['post'].apply(remove_whitespaces)\n",
    "df['post'] = df['post'].progress_apply(lemmatization)"
   ]
  },
  {
   "cell_type": "markdown",
   "id": "68836f9a",
   "metadata": {},
   "source": [
    "#### After Preprocessing"
   ]
  },
  {
   "cell_type": "code",
   "execution_count": 20,
   "id": "6f45ff05",
   "metadata": {},
   "outputs": [
    {
     "data": {
      "text/html": [
       "<div>\n",
       "<style scoped>\n",
       "    .dataframe tbody tr th:only-of-type {\n",
       "        vertical-align: middle;\n",
       "    }\n",
       "\n",
       "    .dataframe tbody tr th {\n",
       "        vertical-align: top;\n",
       "    }\n",
       "\n",
       "    .dataframe thead th {\n",
       "        text-align: right;\n",
       "    }\n",
       "</style>\n",
       "<table border=\"1\" class=\"dataframe\">\n",
       "  <thead>\n",
       "    <tr style=\"text-align: right;\">\n",
       "      <th></th>\n",
       "      <th>Unnamed: 0</th>\n",
       "      <th>post</th>\n",
       "      <th>subreddit</th>\n",
       "    </tr>\n",
       "  </thead>\n",
       "  <tbody>\n",
       "    <tr>\n",
       "      <th>366660</th>\n",
       "      <td>445254</td>\n",
       "      <td>get plastic surgery depressed seem like first ...</td>\n",
       "      <td>depression</td>\n",
       "    </tr>\n",
       "    <tr>\n",
       "      <th>675</th>\n",
       "      <td>1240</td>\n",
       "      <td>bf leave do not want settle nothing offer okay...</td>\n",
       "      <td>BPD</td>\n",
       "    </tr>\n",
       "    <tr>\n",
       "      <th>133636</th>\n",
       "      <td>154633</td>\n",
       "      <td>let we talk self harm anyone else feel urge se...</td>\n",
       "      <td>BPD</td>\n",
       "    </tr>\n",
       "    <tr>\n",
       "      <th>441117</th>\n",
       "      <td>526952</td>\n",
       "      <td>anxiety amp depression realize case depression...</td>\n",
       "      <td>Anxiety</td>\n",
       "    </tr>\n",
       "    <tr>\n",
       "      <th>74382</th>\n",
       "      <td>92314</td>\n",
       "      <td>get help family bpd although mother not former...</td>\n",
       "      <td>BPD</td>\n",
       "    </tr>\n",
       "  </tbody>\n",
       "</table>\n",
       "</div>"
      ],
      "text/plain": [
       "        Unnamed: 0                                               post  \\\n",
       "366660      445254  get plastic surgery depressed seem like first ...   \n",
       "675           1240  bf leave do not want settle nothing offer okay...   \n",
       "133636      154633  let we talk self harm anyone else feel urge se...   \n",
       "441117      526952  anxiety amp depression realize case depression...   \n",
       "74382        92314  get help family bpd although mother not former...   \n",
       "\n",
       "         subreddit  \n",
       "366660  depression  \n",
       "675            BPD  \n",
       "133636         BPD  \n",
       "441117     Anxiety  \n",
       "74382          BPD  "
      ]
     },
     "execution_count": 20,
     "metadata": {},
     "output_type": "execute_result"
    }
   ],
   "source": [
    "df.to_csv(r\"E:\\thesis\\mental_disorders_reddit_processed2.csv\")\n",
    "df = pd.read_csv(r\"E:\\thesis\\mental_disorders_reddit_processed2.csv\")\n",
    "df.sample(5)"
   ]
  },
  {
   "cell_type": "code",
   "execution_count": 21,
   "id": "ea82c4d8",
   "metadata": {},
   "outputs": [
    {
     "data": {
      "text/plain": [
       "Unnamed: 0     0\n",
       "post          16\n",
       "subreddit      0\n",
       "dtype: int64"
      ]
     },
     "execution_count": 21,
     "metadata": {},
     "output_type": "execute_result"
    }
   ],
   "source": [
    "df.isnull().sum()"
   ]
  },
  {
   "cell_type": "code",
   "execution_count": 22,
   "id": "a5189958",
   "metadata": {},
   "outputs": [
    {
     "data": {
      "text/plain": [
       "Unnamed: 0    0\n",
       "post          0\n",
       "subreddit     0\n",
       "dtype: int64"
      ]
     },
     "execution_count": 22,
     "metadata": {},
     "output_type": "execute_result"
    }
   ],
   "source": [
    "df=df.dropna(how='any')\n",
    "df.isnull().sum()"
   ]
  },
  {
   "cell_type": "markdown",
   "id": "56c49251",
   "metadata": {},
   "source": [
    "### Visualization"
   ]
  },
  {
   "cell_type": "code",
   "execution_count": 23,
   "id": "4141dbe3",
   "metadata": {},
   "outputs": [],
   "source": [
    "import seaborn as sns\n",
    "import matplotlib.pyplot as plt"
   ]
  },
  {
   "cell_type": "code",
   "execution_count": 24,
   "id": "b4a51f8d",
   "metadata": {},
   "outputs": [
    {
     "data": {
      "text/plain": [
       "'parter proper evaluation schizophrenia spectrum disorder often involve lack awareness patient term hallucination delusion one get proper evaluation unable express delusion hallucination come across intrusive thought tell difference go day try not think listen respond voice maybe long thankyou'"
      ]
     },
     "execution_count": 24,
     "metadata": {},
     "output_type": "execute_result"
    }
   ],
   "source": [
    "df.post[537381]"
   ]
  },
  {
   "cell_type": "code",
   "execution_count": 25,
   "id": "eeddc419",
   "metadata": {},
   "outputs": [
    {
     "data": {
      "image/png": "[encoded data removed]",
      "text/plain": [
       "<Figure size 640x480 with 1 Axes>"
      ]
     },
     "metadata": {},
     "output_type": "display_data"
    }
   ],
   "source": [
    "outcome_class_count = df['subreddit'].value_counts()\n",
    "outcome_class_count.plot.bar()\n",
    "plt.xlabel('Disorder')\n",
    "plt.ylabel('Count')\n",
    "plt.title('Disorder Data Distribution')\n",
    "plt.show()"
   ]
  },
  {
   "cell_type": "markdown",
   "id": "3182f87c",
   "metadata": {},
   "source": [
    "### Splitting dataset"
   ]
  },
  {
   "cell_type": "code",
   "execution_count": 26,
   "id": "f3148d59",
   "metadata": {},
   "outputs": [],
   "source": [
    "X=df['post']\n",
    "y=df['subreddit']\n",
    "X_train, X_test, y_train, y_test = train_test_split(X, y, test_size= 0.2, random_state= 42, stratify = y)"
   ]
  },
  {
   "cell_type": "markdown",
   "id": "34dcb612",
   "metadata": {},
   "source": [
    "### Vectorization"
   ]
  },
  {
   "cell_type": "code",
   "execution_count": 27,
   "id": "1b991e71",
   "metadata": {},
   "outputs": [],
   "source": [
    "from sklearn.feature_extraction.text import TfidfVectorizer\n",
    "from sklearn import preprocessing\n",
    "label_encoder = preprocessing.LabelEncoder()"
   ]
  },
  {
   "cell_type": "code",
   "execution_count": 28,
   "id": "e68a58e7",
   "metadata": {},
   "outputs": [],
   "source": [
    "tfidf = TfidfVectorizer(max_features= 2500, min_df= 2)\n",
    "X_train = tfidf.fit_transform(X_train).toarray()\n",
    "X_test = tfidf.transform(X_test).toarray()\n",
    "y_train = label_encoder.fit_transform(y_train)\n",
    "y_test = label_encoder.fit_transform(y_test)"
   ]
  },
  {
   "cell_type": "markdown",
   "id": "cd790ec6",
   "metadata": {},
   "source": [
    "### Train And Test Model"
   ]
  },
  {
   "cell_type": "code",
   "execution_count": 29,
   "id": "e271977a",
   "metadata": {},
   "outputs": [],
   "source": [
    "from scikitplot.metrics import plot_confusion_matrix, plot_roc"
   ]
  },
  {
   "cell_type": "code",
   "execution_count": 30,
   "id": "effca3c2",
   "metadata": {},
   "outputs": [],
   "source": [
    "def train_model(model):\n",
    "    model.fit(X_train, y_train)\n",
    "    y_pred = model.predict(X_test)\n",
    "#     y_prob = model.predict_proba(X_test)\n",
    "    accuracy = round(accuracy_score(y_test, y_pred),3)\n",
    "    precision = round(precision_score(y_test, y_pred,average=\"micro\"),3)\n",
    "    recall = round(recall_score(y_test, y_pred,average=\"micro\"),3)\n",
    "\n",
    "    print(f'Accuracy of the model: {accuracy}')\n",
    "    print(f'Precision Score of the model: {precision}')\n",
    "    print(f'Recall Score of the model: {recall}')\n",
    "\n",
    "#     sns.set_context('notebook', font_scale= 1.3)\n",
    "#     fig, ax = plt.subplots(1, 2, figsize = (25,  8))\n",
    "#     ax1 = plot_confusion_matrix(y_test, y_pred, ax= ax[0], cmap= 'YlGnBu')\n",
    "#     ax2 = plot_roc(y_test, y_prob, ax= ax[1], plot_macro= False, plot_micro= False, cmap= 'summer')"
   ]
  },
  {
   "cell_type": "code",
   "execution_count": 31,
   "id": "8b338b07",
   "metadata": {},
   "outputs": [
    {
     "name": "stdout",
     "output_type": "stream",
     "text": [
      "Accuracy of the model: 0.729\n",
      "Precision Score of the model: 0.729\n",
      "Recall Score of the model: 0.729\n"
     ]
    }
   ],
   "source": [
    "nb = MultinomialNB()\n",
    "train_model(nb)"
   ]
  },
  {
   "cell_type": "code",
   "execution_count": null,
   "id": "77ada859",
   "metadata": {},
   "outputs": [],
   "source": [
    "rf = RandomForestClassifier(n_estimators= 100)\n",
    "train_model(rf)"
   ]
  },
  {
   "cell_type": "code",
   "execution_count": 34,
   "id": "73147c6d",
   "metadata": {},
   "outputs": [
    {
     "ename": "MemoryError",
     "evalue": "Unable to allocate 4.05 GiB for an array with shape (434431, 2500) and data type float32",
     "output_type": "error",
     "traceback": [
      "\u001b[1;31m---------------------------------------------------------------------------\u001b[0m",
      "\u001b[1;31mMemoryError\u001b[0m                               Traceback (most recent call last)",
      "Cell \u001b[1;32mIn[34], line 2\u001b[0m\n\u001b[0;32m      1\u001b[0m dt \u001b[38;5;241m=\u001b[39m DecisionTreeClassifier()\n\u001b[1;32m----> 2\u001b[0m train_model(dt)\n",
      "Cell \u001b[1;32mIn[30], line 2\u001b[0m, in \u001b[0;36mtrain_model\u001b[1;34m(model)\u001b[0m\n\u001b[0;32m      1\u001b[0m \u001b[38;5;28;01mdef\u001b[39;00m \u001b[38;5;21mtrain_model\u001b[39m(model):\n\u001b[1;32m----> 2\u001b[0m     model\u001b[38;5;241m.\u001b[39mfit(X_train, y_train)\n\u001b[0;32m      3\u001b[0m     y_pred \u001b[38;5;241m=\u001b[39m model\u001b[38;5;241m.\u001b[39mpredict(X_test)\n\u001b[0;32m      4\u001b[0m \u001b[38;5;66;03m#     y_prob = model.predict_proba(X_test)\u001b[39;00m\n",
      "File \u001b[1;32m~\\anaconda3\\Lib\\site-packages\\sklearn\\tree\\_classes.py:889\u001b[0m, in \u001b[0;36mDecisionTreeClassifier.fit\u001b[1;34m(self, X, y, sample_weight, check_input)\u001b[0m\n\u001b[0;32m    859\u001b[0m \u001b[38;5;28;01mdef\u001b[39;00m \u001b[38;5;21mfit\u001b[39m(\u001b[38;5;28mself\u001b[39m, X, y, sample_weight\u001b[38;5;241m=\u001b[39m\u001b[38;5;28;01mNone\u001b[39;00m, check_input\u001b[38;5;241m=\u001b[39m\u001b[38;5;28;01mTrue\u001b[39;00m):\n\u001b[0;32m    860\u001b[0m \u001b[38;5;250m    \u001b[39m\u001b[38;5;124;03m\"\"\"Build a decision tree classifier from the training set (X, y).\u001b[39;00m\n\u001b[0;32m    861\u001b[0m \n\u001b[0;32m    862\u001b[0m \u001b[38;5;124;03m    Parameters\u001b[39;00m\n\u001b[1;32m   (...)\u001b[0m\n\u001b[0;32m    886\u001b[0m \u001b[38;5;124;03m        Fitted estimator.\u001b[39;00m\n\u001b[0;32m    887\u001b[0m \u001b[38;5;124;03m    \"\"\"\u001b[39;00m\n\u001b[1;32m--> 889\u001b[0m     \u001b[38;5;28msuper\u001b[39m()\u001b[38;5;241m.\u001b[39mfit(\n\u001b[0;32m    890\u001b[0m         X,\n\u001b[0;32m    891\u001b[0m         y,\n\u001b[0;32m    892\u001b[0m         sample_weight\u001b[38;5;241m=\u001b[39msample_weight,\n\u001b[0;32m    893\u001b[0m         check_input\u001b[38;5;241m=\u001b[39mcheck_input,\n\u001b[0;32m    894\u001b[0m     )\n\u001b[0;32m    895\u001b[0m     \u001b[38;5;28;01mreturn\u001b[39;00m \u001b[38;5;28mself\u001b[39m\n",
      "File \u001b[1;32m~\\anaconda3\\Lib\\site-packages\\sklearn\\tree\\_classes.py:186\u001b[0m, in \u001b[0;36mBaseDecisionTree.fit\u001b[1;34m(self, X, y, sample_weight, check_input)\u001b[0m\n\u001b[0;32m    184\u001b[0m check_X_params \u001b[38;5;241m=\u001b[39m \u001b[38;5;28mdict\u001b[39m(dtype\u001b[38;5;241m=\u001b[39mDTYPE, accept_sparse\u001b[38;5;241m=\u001b[39m\u001b[38;5;124m\"\u001b[39m\u001b[38;5;124mcsc\u001b[39m\u001b[38;5;124m\"\u001b[39m)\n\u001b[0;32m    185\u001b[0m check_y_params \u001b[38;5;241m=\u001b[39m \u001b[38;5;28mdict\u001b[39m(ensure_2d\u001b[38;5;241m=\u001b[39m\u001b[38;5;28;01mFalse\u001b[39;00m, dtype\u001b[38;5;241m=\u001b[39m\u001b[38;5;28;01mNone\u001b[39;00m)\n\u001b[1;32m--> 186\u001b[0m X, y \u001b[38;5;241m=\u001b[39m \u001b[38;5;28mself\u001b[39m\u001b[38;5;241m.\u001b[39m_validate_data(\n\u001b[0;32m    187\u001b[0m     X, y, validate_separately\u001b[38;5;241m=\u001b[39m(check_X_params, check_y_params)\n\u001b[0;32m    188\u001b[0m )\n\u001b[0;32m    189\u001b[0m \u001b[38;5;28;01mif\u001b[39;00m issparse(X):\n\u001b[0;32m    190\u001b[0m     X\u001b[38;5;241m.\u001b[39msort_indices()\n",
      "File \u001b[1;32m~\\anaconda3\\Lib\\site-packages\\sklearn\\base.py:579\u001b[0m, in \u001b[0;36mBaseEstimator._validate_data\u001b[1;34m(self, X, y, reset, validate_separately, **check_params)\u001b[0m\n\u001b[0;32m    577\u001b[0m \u001b[38;5;28;01mif\u001b[39;00m \u001b[38;5;124m\"\u001b[39m\u001b[38;5;124mestimator\u001b[39m\u001b[38;5;124m\"\u001b[39m \u001b[38;5;129;01mnot\u001b[39;00m \u001b[38;5;129;01min\u001b[39;00m check_X_params:\n\u001b[0;32m    578\u001b[0m     check_X_params \u001b[38;5;241m=\u001b[39m {\u001b[38;5;241m*\u001b[39m\u001b[38;5;241m*\u001b[39mdefault_check_params, \u001b[38;5;241m*\u001b[39m\u001b[38;5;241m*\u001b[39mcheck_X_params}\n\u001b[1;32m--> 579\u001b[0m X \u001b[38;5;241m=\u001b[39m check_array(X, input_name\u001b[38;5;241m=\u001b[39m\u001b[38;5;124m\"\u001b[39m\u001b[38;5;124mX\u001b[39m\u001b[38;5;124m\"\u001b[39m, \u001b[38;5;241m*\u001b[39m\u001b[38;5;241m*\u001b[39mcheck_X_params)\n\u001b[0;32m    580\u001b[0m \u001b[38;5;28;01mif\u001b[39;00m \u001b[38;5;124m\"\u001b[39m\u001b[38;5;124mestimator\u001b[39m\u001b[38;5;124m\"\u001b[39m \u001b[38;5;129;01mnot\u001b[39;00m \u001b[38;5;129;01min\u001b[39;00m check_y_params:\n\u001b[0;32m    581\u001b[0m     check_y_params \u001b[38;5;241m=\u001b[39m {\u001b[38;5;241m*\u001b[39m\u001b[38;5;241m*\u001b[39mdefault_check_params, \u001b[38;5;241m*\u001b[39m\u001b[38;5;241m*\u001b[39mcheck_y_params}\n",
      "File \u001b[1;32m~\\anaconda3\\Lib\\site-packages\\sklearn\\utils\\validation.py:879\u001b[0m, in \u001b[0;36mcheck_array\u001b[1;34m(array, accept_sparse, accept_large_sparse, dtype, order, copy, force_all_finite, ensure_2d, allow_nd, ensure_min_samples, ensure_min_features, estimator, input_name)\u001b[0m\n\u001b[0;32m    877\u001b[0m         array \u001b[38;5;241m=\u001b[39m xp\u001b[38;5;241m.\u001b[39mastype(array, dtype, copy\u001b[38;5;241m=\u001b[39m\u001b[38;5;28;01mFalse\u001b[39;00m)\n\u001b[0;32m    878\u001b[0m     \u001b[38;5;28;01melse\u001b[39;00m:\n\u001b[1;32m--> 879\u001b[0m         array \u001b[38;5;241m=\u001b[39m _asarray_with_order(array, order\u001b[38;5;241m=\u001b[39morder, dtype\u001b[38;5;241m=\u001b[39mdtype, xp\u001b[38;5;241m=\u001b[39mxp)\n\u001b[0;32m    880\u001b[0m \u001b[38;5;28;01mexcept\u001b[39;00m ComplexWarning \u001b[38;5;28;01mas\u001b[39;00m complex_warning:\n\u001b[0;32m    881\u001b[0m     \u001b[38;5;28;01mraise\u001b[39;00m \u001b[38;5;167;01mValueError\u001b[39;00m(\n\u001b[0;32m    882\u001b[0m         \u001b[38;5;124m\"\u001b[39m\u001b[38;5;124mComplex data not supported\u001b[39m\u001b[38;5;130;01m\\n\u001b[39;00m\u001b[38;5;132;01m{}\u001b[39;00m\u001b[38;5;130;01m\\n\u001b[39;00m\u001b[38;5;124m\"\u001b[39m\u001b[38;5;241m.\u001b[39mformat(array)\n\u001b[0;32m    883\u001b[0m     ) \u001b[38;5;28;01mfrom\u001b[39;00m \u001b[38;5;21;01mcomplex_warning\u001b[39;00m\n",
      "File \u001b[1;32m~\\anaconda3\\Lib\\site-packages\\sklearn\\utils\\_array_api.py:185\u001b[0m, in \u001b[0;36m_asarray_with_order\u001b[1;34m(array, dtype, order, copy, xp)\u001b[0m\n\u001b[0;32m    182\u001b[0m     xp, _ \u001b[38;5;241m=\u001b[39m get_namespace(array)\n\u001b[0;32m    183\u001b[0m \u001b[38;5;28;01mif\u001b[39;00m xp\u001b[38;5;241m.\u001b[39m\u001b[38;5;18m__name__\u001b[39m \u001b[38;5;129;01min\u001b[39;00m {\u001b[38;5;124m\"\u001b[39m\u001b[38;5;124mnumpy\u001b[39m\u001b[38;5;124m\"\u001b[39m, \u001b[38;5;124m\"\u001b[39m\u001b[38;5;124mnumpy.array_api\u001b[39m\u001b[38;5;124m\"\u001b[39m}:\n\u001b[0;32m    184\u001b[0m     \u001b[38;5;66;03m# Use NumPy API to support order\u001b[39;00m\n\u001b[1;32m--> 185\u001b[0m     array \u001b[38;5;241m=\u001b[39m numpy\u001b[38;5;241m.\u001b[39masarray(array, order\u001b[38;5;241m=\u001b[39morder, dtype\u001b[38;5;241m=\u001b[39mdtype)\n\u001b[0;32m    186\u001b[0m     \u001b[38;5;28;01mreturn\u001b[39;00m xp\u001b[38;5;241m.\u001b[39masarray(array, copy\u001b[38;5;241m=\u001b[39mcopy)\n\u001b[0;32m    187\u001b[0m \u001b[38;5;28;01melse\u001b[39;00m:\n",
      "\u001b[1;31mMemoryError\u001b[0m: Unable to allocate 4.05 GiB for an array with shape (434431, 2500) and data type float32"
     ]
    }
   ],
   "source": [
    "dt = DecisionTreeClassifier()\n",
    "train_model(dt)"
   ]
  },
  {
   "cell_type": "code",
   "execution_count": 32,
   "id": "a0388aec",
   "metadata": {},
   "outputs": [
    {
     "name": "stdout",
     "output_type": "stream",
     "text": [
      "Accuracy of the model: 0.823\n",
      "Precision Score of the model: 0.823\n",
      "Recall Score of the model: 0.823\n"
     ]
    }
   ],
   "source": [
    "svc = LinearSVC()\n",
    "train_model(svc)"
   ]
  },
  {
   "cell_type": "code",
   "execution_count": null,
   "id": "4262015c",
   "metadata": {},
   "outputs": [],
   "source": []
  }
 ],
 "metadata": {
  "kernelspec": {
   "display_name": "Python 3 (ipykernel)",
   "language": "python",
   "name": "python3"
  },
  "language_info": {
   "codemirror_mode": {
    "name": "ipython",
    "version": 3
   },
   "file_extension": ".py",
   "mimetype": "text/x-python",
   "name": "python",
   "nbconvert_exporter": "python",
   "pygments_lexer": "ipython3",
   "version": "3.10.9"
  }
 },
 "nbformat": 4,
 "nbformat_minor": 5
}
