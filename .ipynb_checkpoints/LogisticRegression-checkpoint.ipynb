{
 "cells": [
  {
   "cell_type": "code",
   "execution_count": null,
   "metadata": {},
   "outputs": [],
   "source": [
    "import pandas as pd\n",
    "import numpy as np\n",
    "import re\n",
    "import re as sub\n",
    "import seaborn as sns\n",
    "from sklearn.feature_extraction.text import TfidfVectorizer\n",
    "from sklearn.model_selection import train_test_split\n",
    "from sklearn.metrics import accuracy_score,confusion_matrix, classification_report\n",
    "import matplotlib.pyplot as plt"
   ]
  },
  {
   "cell_type": "code",
   "execution_count": 3,
   "metadata": {},
   "outputs": [],
   "source": [
    "\n",
    "try:\n",
    "    with open('corpus_all.txt', 'r', encoding='utf-8') as file:\n",
    "        lines = []  # Empty list to store the lines\n",
    "        for line in file:\n",
    "            lines.append(line.strip())  # Append the line to the list, removing any leading/trailing whitespace\n",
    "    \n",
    "    with open('stopwords-bn.txt', 'r', encoding='utf-8') as test:\n",
    "        stopwords_bn = test.readlines()\n",
    "        # the above stopwords contains newline \\n\n",
    "        stop_bn = []\n",
    "\n",
    "        for word in stopwords_bn:\n",
    "            stop_bn.append(word.rstrip(\"\\r\\n\"))\n",
    "            \n",
    "except FileNotFoundError:\n",
    "    print(\"File not found. Please check the file path and try again.\")\n",
    "\n",
    "#file_path = 'corpus_all.txt'  # Replace with the actual path to your text file\n",
    "first_words = []  # Empty list to store the first words\n",
    "\n",
    "try:\n",
    "    for line in lines:\n",
    "        words = line.strip().split()  # Split the line into words\n",
    "        if words:\n",
    "            first_word = words[0]  # Get the first word\n",
    "            first_words.append(first_word)  # Append the first word to the list\n",
    "\n",
    "except FileNotFoundError:\n",
    "    print(\"File not found. Please check the file path and try again.\")\n",
    "\n",
    "\n",
    "# Define the status levels\n",
    "status_levels = [\"happy\",\"angry\",\"fear\",\"disgust\",\"sad\",\"surprise\",]\n",
    "\n",
    "# Initialize a list to store the extracted status levels and sentences\n",
    "extracted_data = []\n",
    "\n",
    "# Iterate over the texts\n",
    "for text in lines:\n",
    "    # Initialize variables to store the extracted status level and sentence\n",
    "    status = \"\"\n",
    "    sentence = \"\"\n",
    "\n",
    "    # Iterate over the status levels\n",
    "    for level in status_levels:\n",
    "        if level in text:\n",
    "            # Split the text based on the status level\n",
    "            split_text = text.split(level, 1)\n",
    "\n",
    "            # Extract the status level and sentence\n",
    "            status = level\n",
    "            sentence = split_text[1].strip()\n",
    "            break\n",
    "\n",
    "    # Append the extracted status level and sentence to the list\n",
    "    extracted_data.append({\"Status\": status, \"Sentence\": sentence})\n",
    "    \n",
    "df = pd.DataFrame(extracted_data)"
   ]
  },
  {
   "cell_type": "code",
   "execution_count": 4,
   "metadata": {},
   "outputs": [],
   "source": [
    "\n",
    "def text_pre_processing(text):\n",
    "    #remove stop words from the text\n",
    "    text = ' '.join(word for word in text.split() if word not in stop_bn)\n",
    "    #remove punctuation from the text\n",
    "    text = re.sub(r'[^\\w\\s]', '', text)\n",
    "    #remove numbers from the text\n",
    "    text = re.sub(r'[0-9]', '', text)\n",
    "    #remove extra spaces from the text\n",
    "    text = re.sub(' +', ' ', text)\n",
    "    return text\n",
    "\n",
    "df['Sentence'] = df['Sentence'].apply(text_pre_processing)\n",
    "\n",
    "# Data convert categorical to numerical\n",
    "df['Status'] = df['Status'].map({'happy': 0, 'angry': 1, 'fear': 2, 'disgust': 3, 'sad': 4, 'surprise': 5})"
   ]
  },
  {
   "cell_type": "code",
   "execution_count": 5,
   "metadata": {},
   "outputs": [
    {
     "data": {
      "text/plain": [
       "<Axes: >"
      ]
     },
     "execution_count": 5,
     "metadata": {},
     "output_type": "execute_result"
    },
    {
     "data": {
      "image/png": "[encoded data removed]",
      "text/plain": [
       "<Figure size 700x600 with 1 Axes>"
      ]
     },
     "metadata": {},
     "output_type": "display_data"
    }
   ],
   "source": [
    "# Plot the distribution of the target variable\n",
    "df['Status'].value_counts().plot(kind='bar', figsize=(7, 6), rot=0)"
   ]
  },
  {
   "cell_type": "code",
   "execution_count": 6,
   "metadata": {},
   "outputs": [
    {
     "data": {
      "text/plain": [
       "<Axes: >"
      ]
     },
     "execution_count": 6,
     "metadata": {},
     "output_type": "execute_result"
    },
    {
     "data": {
      "image/png": "[encoded data removed]",
      "text/plain": [
       "<Figure size 700x600 with 1 Axes>"
      ]
     },
     "metadata": {},
     "output_type": "display_data"
    }
   ],
   "source": [
    "from sklearn.feature_extraction.text import TfidfVectorizer\n",
    "from imblearn.over_sampling import SMOTE\n",
    "import numpy as np\n",
    "import pandas as pd\n",
    "\n",
    "# Separate input features and target\n",
    "X = df['Sentence']\n",
    "y = df['Status']\n",
    "\n",
    "# Convert labels to numerical values using LabelEncoder\n",
    "from sklearn.preprocessing import LabelEncoder\n",
    "le = LabelEncoder()\n",
    "y = le.fit_transform(y)\n",
    "\n",
    "# Vectorize text using TF-IDF\n",
    "tfidf_vectorizer = TfidfVectorizer()\n",
    "X_tfidf = tfidf_vectorizer.fit_transform(X)\n",
    "\n",
    "# Apply SMOTE\n",
    "smote = SMOTE(sampling_strategy='auto', random_state=42)\n",
    "X_resampled, y_resampled = smote.fit_resample(X_tfidf, y)\n",
    "\n",
    "# Plot the distribution of the target variable\n",
    "pd.Series(y_resampled).value_counts().plot(kind='bar', figsize=(7, 6), rot=0)"
   ]
  },
  {
   "cell_type": "code",
   "execution_count": 7,
   "metadata": {},
   "outputs": [],
   "source": [
    "# Split the data into training and testing sets with out SMOTE \n",
    "X_train, X_test, y_train, y_test = train_test_split(X_tfidf, y, test_size=0.2, random_state=42)\n",
    "\n",
    "# Split the data into training and testing sets with SMOTE\n",
    "X_train_resampled, X_test_resampled, y_train_resampled, y_test_resampled = train_test_split(X_resampled, y_resampled, test_size=0.2, random_state=42)"
   ]
  },
  {
   "cell_type": "code",
   "execution_count": null,
   "metadata": {},
   "outputs": [],
   "source": [
    "# Logistic Regression, SVM, Naive Bayes, Decision Tree, Random Forest, KNN, MLP, CNN, RNN, \n",
    "# LSTM, GRU, BERT, GPT-2, XLNet, RoBERTa, ALBERT, DistilBERT, CamemBERT, XLM, XLM-RoBERTa, FlauBERT, MarianMT, T5, ConvBERT, \n",
    "# Longformer, Electra, Reformer, Funnel Transformer, DeBERTa, BigBird, ProphetNet, LayoutLM, MobileBERT, LED, BART, Pegasus, MBART, \n",
    "# Speech2Text, Speech2Text2, Speech, "
   ]
  },
  {
   "cell_type": "code",
   "execution_count": 10,
   "metadata": {},
   "outputs": [
    {
     "name": "stderr",
     "output_type": "stream",
     "text": [
      "c:\\ProgramData\\anaconda3\\lib\\site-packages\\sklearn\\linear_model\\_logistic.py:458: ConvergenceWarning: lbfgs failed to converge (status=1):\n",
      "STOP: TOTAL NO. of ITERATIONS REACHED LIMIT.\n",
      "\n",
      "Increase the number of iterations (max_iter) or scale the data as shown in:\n",
      "    https://scikit-learn.org/stable/modules/preprocessing.html\n",
      "Please also refer to the documentation for alternative solver options:\n",
      "    https://scikit-learn.org/stable/modules/linear_model.html#logistic-regression\n",
      "  n_iter_i = _check_optimize_result(\n"
     ]
    },
    {
     "name": "stdout",
     "output_type": "stream",
     "text": [
      "with out SMOTE Accuracy: 0.7742448330683624\n",
      "with SMOTE Accuracy: 0.7077865266841645\n"
     ]
    },
    {
     "name": "stderr",
     "output_type": "stream",
     "text": [
      "c:\\ProgramData\\anaconda3\\lib\\site-packages\\sklearn\\linear_model\\_logistic.py:458: ConvergenceWarning: lbfgs failed to converge (status=1):\n",
      "STOP: TOTAL NO. of ITERATIONS REACHED LIMIT.\n",
      "\n",
      "Increase the number of iterations (max_iter) or scale the data as shown in:\n",
      "    https://scikit-learn.org/stable/modules/preprocessing.html\n",
      "Please also refer to the documentation for alternative solver options:\n",
      "    https://scikit-learn.org/stable/modules/linear_model.html#logistic-regression\n",
      "  n_iter_i = _check_optimize_result(\n"
     ]
    }
   ],
   "source": [
    "#Logistic Regression model\n",
    "from sklearn.linear_model import LogisticRegression\n",
    "lr = LogisticRegression()\n",
    "\n",
    "# Train a Logistic Regression model with out SMOTE \n",
    "lr.fit(X_train, y_train)\n",
    "\n",
    "# Train a Logistic Regression model with SMOTE\n",
    "lr.fit(X_train_resampled, y_train_resampled)\n",
    "\n",
    "# Make predictions using the testing set with out SMOTE \n",
    "y_pred = lr.predict(X_test)\n",
    "\n",
    "# Make predictions using the testing set with SMOTE\n",
    "y_pred_resampled = lr.predict(X_test_resampled)\n",
    "\n",
    "# Evaluate the model performance metrics with out SMOTE\n",
    "print(\"with out SMOTE Accuracy:\",accuracy_score(y_test, y_pred))\n",
    "\n",
    "# Evaluate the model performance metrics with SMOTE\n",
    "print(\"with SMOTE Accuracy:\",accuracy_score(y_test_resampled, y_pred_resampled))"
   ]
  },
  {
   "cell_type": "code",
   "execution_count": 15,
   "metadata": {},
   "outputs": [
    {
     "name": "stdout",
     "output_type": "stream",
     "text": [
      "with out SMOTE Accuracy: 0.4666136724960254\n",
      "with SMOTE Accuracy: 0.7804024496937882\n"
     ]
    }
   ],
   "source": [
    "# SVM model\n",
    "from sklearn.svm import SVC\n",
    "\n",
    "# SVM model \n",
    "svm = SVC(kernel='linear', C=6, random_state=42)\n",
    "\n",
    "# Make predictions using the testing set with out SMOTE\n",
    "y_pred = svm.fit(X_train, y_train).predict(X_test)\n",
    "\n",
    "# Make predictions using the testing set with SMOTE\n",
    "y_pred_resampled = svm.fit(X_train_resampled, y_train_resampled).predict(X_test_resampled)\n",
    "\n",
    "# Evaluate the model performance metrics with out SMOTE\n",
    "print(\"with out SMOTE Accuracy:\",accuracy_score(y_test, y_pred))\n",
    "\n",
    "# Evaluate the model performance metrics with SMOTE\n",
    "print(\"with SMOTE Accuracy:\",accuracy_score(y_test_resampled, y_pred_resampled))\n"
   ]
  },
  {
   "cell_type": "code",
   "execution_count": 12,
   "metadata": {},
   "outputs": [
    {
     "name": "stdout",
     "output_type": "stream",
     "text": [
      "with out SMOTE Accuracy: 0.4737678855325914\n",
      "with SMOTE Accuracy: 0.6881014873140857\n"
     ]
    }
   ],
   "source": [
    "# Naive Bayes model\n",
    "from sklearn.naive_bayes import MultinomialNB\n",
    "\n",
    "# Naive Bayes model\n",
    "nb = MultinomialNB()\n",
    "\n",
    "# Make predictions using the testing set with out SMOTE\n",
    "y_pred = nb.fit(X_train, y_train).predict(X_test)\n",
    "\n",
    "# Make predictions using the testing set with SMOTE\n",
    "y_pred_resampled = nb.fit(X_train_resampled, y_train_resampled).predict(X_test_resampled)\n",
    "\n",
    "# Evaluate the model performance metrics with out SMOTE\n",
    "print(\"with out SMOTE Accuracy:\",accuracy_score(y_test, y_pred))\n",
    "\n",
    "# Evaluate the model performance metrics with SMOTE\n",
    "print(\"with SMOTE Accuracy:\",accuracy_score(y_test_resampled, y_pred_resampled))"
   ]
  },
  {
   "cell_type": "code",
   "execution_count": 13,
   "metadata": {},
   "outputs": [
    {
     "name": "stdout",
     "output_type": "stream",
     "text": [
      "with out SMOTE Accuracy: 0.424483306836248\n",
      "with SMOTE Accuracy: 0.6342957130358705\n"
     ]
    }
   ],
   "source": [
    "# Decision Tree model\n",
    "from sklearn.tree import DecisionTreeClassifier\n",
    "\n",
    "# Decision Tree model\n",
    "dt = DecisionTreeClassifier()\n",
    "\n",
    "# Make predictions using the testing set with out SMOTE\n",
    "y_pred = dt.fit(X_train, y_train).predict(X_test)\n",
    "\n",
    "# Make predictions using the testing set with SMOTE\n",
    "y_pred_resampled = dt.fit(X_train_resampled, y_train_resampled).predict(X_test_resampled)\n",
    "\n",
    "# Evaluate the model performance metrics with out SMOTE\n",
    "print(\"with out SMOTE Accuracy:\",accuracy_score(y_test, y_pred))\n",
    "\n",
    "# Evaluate the model performance metrics with SMOTE\n",
    "print(\"with SMOTE Accuracy:\",accuracy_score(y_test_resampled, y_pred_resampled))"
   ]
  },
  {
   "cell_type": "code",
   "execution_count": 14,
   "metadata": {},
   "outputs": [
    {
     "name": "stdout",
     "output_type": "stream",
     "text": [
      "with out SMOTE Accuracy: 0.47297297297297297\n",
      "with SMOTE Accuracy: 0.7567804024496938\n"
     ]
    }
   ],
   "source": [
    "# Random Forest model\n",
    "from sklearn.ensemble import RandomForestClassifier\n",
    "\n",
    "# Random Forest model\n",
    "rf = RandomForestClassifier()\n",
    "\n",
    "# Make predictions using the testing set with out SMOTE\n",
    "y_pred = rf.fit(X_train, y_train).predict(X_test)\n",
    "\n",
    "# Make predictions using the testing set with SMOTE\n",
    "y_pred_resampled = rf.fit(X_train_resampled, y_train_resampled).predict(X_test_resampled)\n",
    "\n",
    "# Evaluate the model performance metrics with out SMOTE\n",
    "print(\"with out SMOTE Accuracy:\",accuracy_score(y_test, y_pred))\n",
    "\n",
    "# Evaluate the model performance metrics with SMOTE\n",
    "print(\"with SMOTE Accuracy:\",accuracy_score(y_test_resampled, y_pred_resampled))\n"
   ]
  },
  {
   "cell_type": "code",
   "execution_count": 21,
   "metadata": {},
   "outputs": [
    {
     "name": "stdout",
     "output_type": "stream",
     "text": [
      "with out SMOTE Accuracy: 0.34022257551669316\n",
      "with SMOTE Accuracy: 0.5905511811023622\n"
     ]
    }
   ],
   "source": [
    "# KNN model\n",
    "from sklearn.neighbors import KNeighborsClassifier\n",
    "\n",
    "# KNN model\n",
    "knn = KNeighborsClassifier()\n",
    "\n",
    "# Make predictions using the testing set with out SMOTE\n",
    "y_pred = knn.fit(X_train, y_train).predict(X_test)\n",
    "\n",
    "# Make predictions using the testing set with SMOTE\n",
    "y_pred_resampled = knn.fit(X_train_resampled, y_train_resampled).predict(X_test_resampled)\n",
    "\n",
    "# Evaluate the model performance metrics with out SMOTE\n",
    "print(\"with out SMOTE Accuracy:\",accuracy_score(y_test, y_pred))\n",
    "\n",
    "# Evaluate the model performance metrics with SMOTE\n",
    "print(\"with SMOTE Accuracy:\",accuracy_score(y_test_resampled, y_pred_resampled))"
   ]
  },
  {
   "cell_type": "code",
   "execution_count": 22,
   "metadata": {},
   "outputs": [
    {
     "name": "stdout",
     "output_type": "stream",
     "text": [
      "with out SMOTE Accuracy: 0.4507154213036566\n",
      "with SMOTE Accuracy: 0.7887139107611548\n"
     ]
    },
    {
     "name": "stderr",
     "output_type": "stream",
     "text": [
      "c:\\ProgramData\\anaconda3\\lib\\site-packages\\sklearn\\neural_network\\_multilayer_perceptron.py:691: UserWarning: Training interrupted by user.\n",
      "  warnings.warn(\"Training interrupted by user.\")\n"
     ]
    }
   ],
   "source": [
    "# MLP model\n",
    "from sklearn.neural_network import MLPClassifier\n",
    "\n",
    "# MLP model\n",
    "mlp = MLPClassifier()\n",
    "\n",
    "# Make predictions using the testing set with out SMOTE\n",
    "y_pred = mlp.fit(X_train, y_train).predict(X_test)\n",
    "\n",
    "# Make predictions using the testing set with SMOTE\n",
    "y_pred_resampled = mlp.fit(X_train_resampled, y_train_resampled).predict(X_test_resampled)\n",
    "\n",
    "# Evaluate the model performance metrics with out SMOTE\n",
    "print(\"with out SMOTE Accuracy:\",accuracy_score(y_test, y_pred))\n",
    "\n",
    "# Evaluate the model performance metrics with SMOTE\n",
    "print(\"with SMOTE Accuracy:\",accuracy_score(y_test_resampled, y_pred_resampled))"
   ]
  },
  {
   "cell_type": "code",
   "execution_count": 24,
   "metadata": {},
   "outputs": [
    {
     "name": "stdout",
     "output_type": "stream",
     "text": [
      "40/40 [==============================] - 0s 4ms/step\n",
      "with out SMOTE Accuracy: 0.5015898251192369\n"
     ]
    }
   ],
   "source": [
    "# CNN model\n",
    "from keras.models import Sequential\n",
    "from keras import layers\n",
    "\n",
    "# CNN model\n",
    "input_dim = X_train.shape[1]  # Number of features\n",
    "\n",
    "model = Sequential()\n",
    "model.add(layers.Dense(10, input_dim=input_dim, activation='relu'))\n",
    "model.add(layers.Dense(6, activation='softmax'))\n",
    "\n",
    "# Compile the model\n",
    "model.compile(loss='sparse_categorical_crossentropy',\n",
    "                optimizer='adam',\n",
    "                metrics=['accuracy'])\n",
    "\n",
    "# Fit the model with out SMOTE\n",
    "history = model.fit(X_train, y_train, epochs=3, verbose=False, validation_data=(X_test, y_test), batch_size=10)\n",
    "\n",
    "# Evaluate the model performance metrics with out SMOTE\n",
    "loss, accuracy = model.evaluate(X_train, y_train, verbose=False)\n",
    "\n",
    "# Predict the labels\n",
    "y_pred = model.predict(X_test)\n",
    "\n",
    "# Predict the class labels (argmax to select the class with highest probability)\n",
    "y_pred_labels = np.argmax(y_pred, axis=1)\n",
    "\n",
    "# Print the accuracy\n",
    "print(\"with out SMOTE Accuracy:\",accuracy_score(y_test, y_pred_labels))\n"
   ]
  },
  {
   "cell_type": "code",
   "execution_count": 25,
   "metadata": {},
   "outputs": [
    {
     "name": "stdout",
     "output_type": "stream",
     "text": [
      "72/72 [==============================] - 0s 4ms/step\n",
      "with SMOTE Accuracy: 0.8350831146106736\n"
     ]
    }
   ],
   "source": [
    "\n",
    "\n",
    "# Fit the model with SMOTE\n",
    "history = model.fit(X_train_resampled, y_train_resampled, epochs=3, verbose=False, validation_data=(X_test_resampled, y_test_resampled), batch_size=10)\n",
    "\n",
    "# Evaluate the model performance metrics with SMOTE\n",
    "loss, accuracy = model.evaluate(X_train_resampled, y_train_resampled, verbose=False)\n",
    "\n",
    "# Predict the labels\n",
    "y_pred_resampled = model.predict(X_test_resampled)\n",
    "\n",
    "# Predict the class labels (argmax to select the class with highest probability)\n",
    "y_pred_resampled_labels = np.argmax(y_pred_resampled, axis=1)\n",
    "\n",
    "# Print the accuracy\n",
    "print(\"with SMOTE Accuracy:\",accuracy_score(y_test_resampled, y_pred_resampled_labels))"
   ]
  },
  {
   "cell_type": "code",
   "execution_count": 8,
   "metadata": {},
   "outputs": [
    {
     "name": "stdout",
     "output_type": "stream",
     "text": [
      "Model: \"sequential_1\"\n",
      "_________________________________________________________________\n",
      " Layer (type)                Output Shape              Param #   \n",
      "=================================================================\n",
      " embedding (Embedding)       (None, 13112, 128)        320000    \n",
      "                                                                 \n",
      " spatial_dropout1d (SpatialD  (None, 13112, 128)       0         \n",
      " ropout1D)                                                       \n",
      "                                                                 \n",
      " lstm (LSTM)                 (None, 196)               254800    \n",
      "                                                                 \n",
      " dense (Dense)               (None, 6)                 1182      \n",
      "                                                                 \n",
      "=================================================================\n",
      "Total params: 575,982\n",
      "Trainable params: 575,982\n",
      "Non-trainable params: 0\n",
      "_________________________________________________________________\n"
     ]
    }
   ],
   "source": [
    "from keras.models import Sequential\n",
    "from keras.layers import Dense, Embedding, LSTM, SpatialDropout1D\n",
    "import tensorflow as tf\n",
    "\n",
    "# RNN model\n",
    "embed_dim = 128\n",
    "lstm_out = 196\n",
    "\n",
    "model = Sequential()\n",
    "model.add(Embedding(2500, embed_dim, input_length=X_train.shape[1]))\n",
    "model.add(SpatialDropout1D(0.4))\n",
    "model.add(LSTM(lstm_out, dropout=0.2, recurrent_dropout=0.2))\n",
    "model.add(Dense(6, activation='softmax'))\n",
    "\n",
    "#Show the compiling model summary\n",
    "model.summary()\n"
   ]
  },
  {
   "cell_type": "code",
   "execution_count": null,
   "metadata": {},
   "outputs": [],
   "source": [
    "\n",
    "# Compile the model\n",
    "model.compile(loss='sparse_categorical_crossentropy', optimizer='adam', metrics=['accuracy'])\n",
    "\n",
    "# Convert dense array (since LSTM expects dense input)\n",
    "X_train_dense = X_train.toarray()\n",
    "y_train_array = np.array(y_train)\n",
    "X_test_dense = X_test.toarray()\n",
    "y_test_array = np.array(y_test)\n",
    "\n",
    "# Fit the model without SMOTE\n",
    "history = model.fit(X_train_dense, y_train_array, epochs=3, verbose=False, validation_data=(X_test_dense, y_test_array), batch_size=10)\n",
    "\n"
   ]
  },
  {
   "cell_type": "code",
   "execution_count": null,
   "metadata": {},
   "outputs": [],
   "source": [
    "\n",
    "# Evaluate the model performance metrics with out SMOTE\n",
    "loss, accuracy = model.evaluate(X_train, y_train, verbose=False)\n",
    "\n",
    "# Predict the labels\n",
    "y_pred = model.predict(X_test)\n",
    "\n",
    "# Predict the class labels (argmax to select the class with highest probability)\n",
    "y_pred_labels = np.argmax(y_pred, axis=1)\n",
    "\n",
    "# Print the accuracy\n",
    "print(\"with out SMOTE Accuracy:\",accuracy_score(y_test, y_pred_labels))"
   ]
  },
  {
   "cell_type": "code",
   "execution_count": 27,
   "metadata": {},
   "outputs": [
    {
     "name": "stdout",
     "output_type": "stream",
     "text": [
      "72/72 [==============================] - 1s 4ms/step\n",
      "with SMOTE Accuracy: 0.831583552055993\n"
     ]
    }
   ],
   "source": [
    "# Fit the model with SMOTE\n",
    "history = model.fit(X_train_resampled, y_train_resampled, epochs=3, verbose=False, validation_data=(X_test_resampled, y_test_resampled), batch_size=10)\n",
    "\n",
    "# Evaluate the model performance metrics with SMOTE\n",
    "loss, accuracy = model.evaluate(X_train_resampled, y_train_resampled, verbose=False)\n",
    "\n",
    "# Predict the labels\n",
    "y_pred_resampled = model.predict(X_test_resampled)\n",
    "\n",
    "# Predict the class labels (argmax to select the class with highest probability)\n",
    "y_pred_resampled_labels = np.argmax(y_pred_resampled, axis=1)\n",
    "\n",
    "# Print the accuracy\n",
    "print(\"with SMOTE Accuracy:\",accuracy_score(y_test_resampled, y_pred_resampled_labels))"
   ]
  },
  {
   "cell_type": "code",
   "execution_count": 28,
   "metadata": {},
   "outputs": [
    {
     "name": "stdout",
     "output_type": "stream",
     "text": [
      "40/40 [==============================] - 1s 8ms/step\n",
      "with out SMOTE Accuracy: 0.49761526232114467\n"
     ]
    }
   ],
   "source": [
    "# LSTM model\n",
    "from keras.models import Sequential\n",
    "from keras import layers\n",
    "\n",
    "# LSTM model\n",
    "input_dim = X_train.shape[1]  # Number of features\n",
    "\n",
    "model = Sequential()\n",
    "model.add(layers.Dense(10, input_dim=input_dim, activation='relu'))\n",
    "model.add(layers.Dense(6, activation='softmax'))\n",
    "\n",
    "# Compile the model\n",
    "model.compile(loss='sparse_categorical_crossentropy', optimizer='adam', metrics=['accuracy'])\n",
    "\n",
    "# Fit the model with out SMOTE\n",
    "history = model.fit(X_train, y_train, epochs=3, verbose=False, validation_data=(X_test, y_test), batch_size=10)\n",
    "\n",
    "# Evaluate the model performance metrics with out SMOTE\n",
    "loss, accuracy = model.evaluate(X_train, y_train, verbose=False)\n",
    "\n",
    "# Predict the labels\n",
    "y_pred = model.predict(X_test)\n",
    "\n",
    "# Predict the class labels (argmax to select the class with highest probability)\n",
    "y_pred_labels = np.argmax(y_pred, axis=1)\n",
    "\n",
    "# Print the accuracy\n",
    "print(\"with out SMOTE Accuracy:\",accuracy_score(y_test, y_pred_labels))\n"
   ]
  },
  {
   "cell_type": "code",
   "execution_count": 29,
   "metadata": {},
   "outputs": [
    {
     "name": "stdout",
     "output_type": "stream",
     "text": [
      "72/72 [==============================] - 0s 6ms/step\n",
      "with SMOTE Accuracy: 0.8302712160979877\n"
     ]
    }
   ],
   "source": [
    "# Fit the model with SMOTE\n",
    "history = model.fit(X_train_resampled, y_train_resampled, epochs=3, verbose=False, validation_data=(X_test_resampled, y_test_resampled), batch_size=10)\n",
    "\n",
    "# Evaluate the model performance metrics with SMOTE\n",
    "loss, accuracy = model.evaluate(X_train_resampled, y_train_resampled, verbose=False)\n",
    "\n",
    "# Predict the labels\n",
    "y_pred_resampled = model.predict(X_test_resampled)\n",
    "\n",
    "# Predict the class labels (argmax to select the class with highest probability)\n",
    "y_pred_resampled_labels = np.argmax(y_pred_resampled, axis=1)\n",
    "\n",
    "# Print the accuracy\n",
    "print(\"with SMOTE Accuracy:\",accuracy_score(y_test_resampled, y_pred_resampled_labels))"
   ]
  },
  {
   "cell_type": "code",
   "execution_count": 30,
   "metadata": {},
   "outputs": [
    {
     "ename": "NameError",
     "evalue": "name 'Embedding' is not defined",
     "output_type": "error",
     "traceback": [
      "\u001b[1;31m---------------------------------------------------------------------------\u001b[0m",
      "\u001b[1;31mNameError\u001b[0m                                 Traceback (most recent call last)",
      "Cell \u001b[1;32mIn[30], line 7\u001b[0m\n\u001b[0;32m      3\u001b[0m \u001b[39mfrom\u001b[39;00m \u001b[39mkeras\u001b[39;00m \u001b[39mimport\u001b[39;00m layers\n\u001b[0;32m      5\u001b[0m \u001b[39m# Build a more complex GRU model\u001b[39;00m\n\u001b[0;32m      6\u001b[0m model \u001b[39m=\u001b[39m Sequential([\n\u001b[1;32m----> 7\u001b[0m     Embedding(input_dim\u001b[39m=\u001b[39m\u001b[39mlen\u001b[39m(tokenizer\u001b[39m.\u001b[39mword_index) \u001b[39m+\u001b[39m \u001b[39m1\u001b[39m, output_dim\u001b[39m=\u001b[39m\u001b[39m128\u001b[39m, input_length\u001b[39m=\u001b[39mpadded_sequences\u001b[39m.\u001b[39mshape[\u001b[39m1\u001b[39m]),\n\u001b[0;32m      8\u001b[0m     Bidirectional(GRU(\u001b[39m128\u001b[39m, return_sequences\u001b[39m=\u001b[39m\u001b[39mTrue\u001b[39;00m)),\n\u001b[0;32m      9\u001b[0m     Bidirectional(GRU(\u001b[39m64\u001b[39m)),\n\u001b[0;32m     10\u001b[0m     Dense(\u001b[39m64\u001b[39m, activation\u001b[39m=\u001b[39m\u001b[39m'\u001b[39m\u001b[39mrelu\u001b[39m\u001b[39m'\u001b[39m),\n\u001b[0;32m     11\u001b[0m     Dropout(\u001b[39m0.5\u001b[39m),\n\u001b[0;32m     12\u001b[0m     Dense(\u001b[39mlen\u001b[39m(label_mapping), activation\u001b[39m=\u001b[39m\u001b[39m'\u001b[39m\u001b[39msoftmax\u001b[39m\u001b[39m'\u001b[39m)\n\u001b[0;32m     13\u001b[0m ])\n\u001b[0;32m     15\u001b[0m \u001b[39m# Compile the model\u001b[39;00m\n\u001b[0;32m     16\u001b[0m model\u001b[39m.\u001b[39mcompile(loss\u001b[39m=\u001b[39m\u001b[39m'\u001b[39m\u001b[39msparse_categorical_crossentropy\u001b[39m\u001b[39m'\u001b[39m, optimizer\u001b[39m=\u001b[39m\u001b[39m'\u001b[39m\u001b[39madam\u001b[39m\u001b[39m'\u001b[39m, metrics\u001b[39m=\u001b[39m[\u001b[39m'\u001b[39m\u001b[39maccuracy\u001b[39m\u001b[39m'\u001b[39m])\n",
      "\u001b[1;31mNameError\u001b[0m: name 'Embedding' is not defined"
     ]
    }
   ],
   "source": [
    "# GRU model\n",
    "from keras.models import Sequential\n",
    "from keras import layers\n",
    "\n",
    "# # Build a more complex GRU model\n",
    "# model = Sequential([\n",
    "#     Embedding(input_dim=len(tokenizer.word_index) + 1, output_dim=128, input_length=padded_sequences.shape[1]),\n",
    "#     Bidirectional(GRU(128, return_sequences=True)),\n",
    "#     Bidirectional(GRU(64)),\n",
    "#     Dense(64, activation='relu'),\n",
    "#     Dropout(0.5),\n",
    "#     Dense(len(label_mapping), activation='softmax')\n",
    "# ])\n",
    "\n",
    "# GRU model\n",
    "input_dim = X_train.shape[1]  # Number of features\n",
    "\n",
    "model = Sequential()\n",
    "model.add(layers.Dense(10, input_dim=input_dim, activation='relu'))\n",
    "model.add(layers.Dense(6, activation='softmax'))\n",
    "\n",
    "# Compile the model\n",
    "model.compile(loss='sparse_categorical_crossentropy', optimizer='adam', metrics=['accuracy'])\n",
    "\n",
    "# Fit the model with out SMOTE\n",
    "history = model.fit(X_train, y_train, epochs=3, verbose=False, validation_data=(X_test, y_test), batch_size=10)\n",
    "\n",
    "# Evaluate the model performance metrics with out SMOTE\n",
    "loss, accuracy = model.evaluate(X_train, y_train, verbose=False)\n",
    "\n",
    "# Predict the labels\n",
    "y_pred = model.predict(X_test)\n",
    "\n",
    "# Predict the class labels (argmax to select the class with highest probability)\n",
    "y_pred_labels = np.argmax(y_pred, axis=1)\n",
    "\n",
    "# Print the accuracy\n",
    "print(\"with out SMOTE Accuracy:\",accuracy_score(y_test, y_pred_labels))"
   ]
  }
 ],
 "metadata": {
  "kernelspec": {
   "display_name": "Python 3 (ipykernel)",
   "language": "python",
   "name": "python3"
  },
  "language_info": {
   "codemirror_mode": {
    "name": "ipython",
    "version": 3
   },
   "file_extension": ".py",
   "mimetype": "text/x-python",
   "name": "python",
   "nbconvert_exporter": "python",
   "pygments_lexer": "ipython3",
   "version": "3.10.9"
  }
 },
 "nbformat": 4,
 "nbformat_minor": 2
}
