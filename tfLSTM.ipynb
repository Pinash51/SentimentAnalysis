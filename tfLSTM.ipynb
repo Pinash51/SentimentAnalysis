{
 "cells": [
  {
   "cell_type": "markdown",
   "id": "e51192ff",
   "metadata": {},
   "source": [
    "# Import "
   ]
  },
  {
   "cell_type": "code",
   "execution_count": 41,
   "id": "fc3bbfa9",
   "metadata": {},
   "outputs": [],
   "source": [
    "import pandas as pd\n",
    "from pandas import read_excel\n",
    "import numpy as np\n",
    "import re\n",
    "from re import sub\n",
    "import multiprocessing\n",
    "from unidecode import unidecode\n",
    "import os\n",
    "from time import time \n",
    "import tensorflow as tf\n",
    "import keras\n",
    "from keras.models import Sequential\n",
    "from keras.layers import LSTM,Dense,Dropout,Activation,Embedding,Flatten,Bidirectional,MaxPooling2D, Conv1D, MaxPooling1D\n",
    "from keras.optimizers import SGD,Adam\n",
    "from keras import regularizers\n",
    "from keras.preprocessing.text import Tokenizer\n",
    "from tensorflow.keras.preprocessing.sequence import pad_sequences\n",
    "from keras.utils.np_utils import to_categorical\n",
    "from sklearn.preprocessing import LabelEncoder\n",
    "import h5py\n",
    "import csv\n",
    "import seaborn as sns\n",
    "import matplotlib.pyplot as plt\n",
    "from sklearn.model_selection import train_test_split\n",
    "from sklearn.model_selection import StratifiedKFold\n",
    "\n",
    "# Models\n",
    "from sklearn.naive_bayes import MultinomialNB\n",
    "from sklearn.linear_model import LogisticRegression\n",
    "from sklearn.svm import LinearSVC\n",
    "from sklearn.tree import DecisionTreeClassifier\n",
    "from sklearn.ensemble import RandomForestClassifier\n",
    "\n",
    "from sklearn.metrics import accuracy_score, precision_score, recall_score, f1_score"
   ]
  },
  {
   "cell_type": "markdown",
   "id": "2b638c26",
   "metadata": {},
   "source": [
    "# Read File From Text File In Line"
   ]
  },
  {
   "cell_type": "code",
   "execution_count": 3,
   "id": "dadaced4",
   "metadata": {},
   "outputs": [
    {
     "name": "stdout",
     "output_type": "stream",
     "text": [
      "sad\tবরাবর, মাননীয় প্রধানমন্ত্রী গণপ্রজাতন্ত্রী বাংলাদেশ সরকার। মাননীয় প্রধানমন্ত্রী, আমি আপনার স্বপ্নের ডিজিটাল বাংলাদেশের স্বপ্ন বুকে লালনকারী একজন সাধারণ ছাত্র। শত সহস্র আশা এবং দেশের প্রতি এক অকৃত্তিম ভালোবাসা এবং নিজেকে দেশের জন্য যোগ্য করে গড়ে তোলার এক তীব্র আকাঙ্ক্ষা নিয়ে ভর্তি হয়েছিলাম আপনার নিজ হাতে প্রতিষ্ঠিত দেশের অন্যতম বিশ্ববিদ্যালয় যশোর বিজ্ঞান ও প্রযুক্তি বিশ্ববিদ্যালয়ে। একটি ডিজিটাল বাংলাদেশ গড়তে এ ধরণের একটি প্রযুক্তি বিশ্ববিদ্যালয় প্রতিষ্ঠা করা নিঃসন্দেহে আপনার দেশ পরিচালনার একটি বিচক্ষণতার পরিচয় বহন করে। আপনি যশোর বাসির স্বপ্নের এই প্রতিষ্ঠানে শত শত কোটি টাকা বিনিয়োগ করেছেন দুহাত উজাড় করে। কিন্তু অত্যন্ত দুঃখের সাথে সেই বিশ্ববিদ্যালয় জীবনের সূচনালগ্ন থেকে অনুভব করছি যে, অনেক পাওয়ার আনন্দে যখন শিক্ষার্থীদের মনপ্রান উজাড় করে পড়ালেখা করার কথা, তার বিপরীতে এই কমলমতি শিক্ষার্থীরা সদা দিনাতিপাত করছে প্রাণ নাশের হুমকি, শ্লীলতাহানীর গ্লানি, আর ছাত্রত্ত বাতিল হওয়ার হুমকি নিয়ে। সম্মানিত শিক্ষকদের কে মারতে যাওয়া, গলা কেটে ফেলার হুমকি, প্রাণ নাশের হুমকি, কটূক্তি করা আজ এখানে নিয়মিত ঘটনা। মাননীয় প্রধানমন্ত্রী যেখানে শিক্ষার্থীরা শিক্ষকদের পিতামাতার মত সম্মান করে তাদের সামনে একজন চতুর্থ শ্রেণীর কর্মচারীর দ্বারা শিক্ষকদের নিয়মিত এমন ঘটনার শিকার হওয়া আমাদের ডিজিটাল বাংলাদেশের স্বপ্নে যেন পাক হানাদার বাহিনীর মত হানা দিয়ে যায়। যখন চোখের সামনে আমার ছাত্রী বোনের স্লিলতাহানীর চেষ্টা করা হয়, আর প্রতিবাদ করতে গিয়ে বহিষ্কার হতে হয় শিক্ষার্থীদের তখন মনে হয় সেই ভাষা আন্দোলন আর মুক্তিযুদ্ধের বিভীষিকাময় দিন গুলোর কথা। আপনার সুশাসনের বাংলাদেশে এমন একটি আদর্শ বিশ্ববিদ্যালয়ে, বিশ্ববিদ্যালয়ের প্রশাসনের পোষা সন্ত্রাসী মাদক ব্যাবসায়ী, শিক্ষকদের লাঞ্চিত করা, ছাত্রদের জীবন নিয়ে ছিনিমিনি খেলা, এবং ছাত্রীদের লাঞ্চিত করার যে বিরল নজীর স্থাপন করেছে তা আপনার আমাদের স্বপ্নের সোনার বাংলা গড়ার সম্পূর্ণ পরিপন্থী। মাননীয় প্রধানমন্ত্রী হাজার হাজার শিক্ষক, শিক্ষার্থীর মিলিত আর্তনাদে আজ যশোরের আকাশ বাতাস প্রকম্পিত, বসরের পর বসর একজন কর্মচারী প্রশাসনের ছত্রছায়ায় এমন অন্যায় করে যাচ্ছে তার প্রতিকার কি আজও হবে না?? জীবনের সোনালি সময় গুলো চলে যাচ্ছে ক্লাস পরীক্ষা না দিয়ে, যশোর বিশ্ববিদ্যালয় বন্ধ দুই সপ্তাহ যাবত। আর কতটুকু সময় পেরোলে আমরা নতুন সূর্য দেখব? আর কত শিক্ষক লাঞ্চিত হলে, ছাত্রী লাঞ্চিত হলে, ছাত্রদের জীবন বিপন্ন হলে আপনার সাহায্য পাব?? অনুগ্রহ করে আমাদের স্বপ্ন গুলো বাচাতে এগিয়ে আসুন। আপনার সুদৃষ্টির পথ পানে চেয়ে দিন গুনছি আমরা। বিনীত মোঃ নাসির উদ্দিন বাদল জীন প্রকৌশল ও জীব প্রযুক্তি বিভাগ যশোর বিজ্ঞান ও প্রযুক্তি বিশ্ববিদ্যালয়।\n"
     ]
    }
   ],
   "source": [
    "file_path = 'corpus_all.txt'  # Replace with the actual path to your text file\n",
    "\n",
    "lines = []  # Empty list to store the lines\n",
    "\n",
    "try:\n",
    "    with open(file_path, 'r', encoding='utf-8') as file:\n",
    "        for line in file:\n",
    "            lines.append(line.strip())  # Append the line to the list, removing any leading/trailing whitespace\n",
    "\n",
    "except FileNotFoundError:\n",
    "    print(\"File not found. Please check the file path and try again.\")\n",
    "\n",
    "print(lines[0])\n",
    "\n"
   ]
  },
  {
   "cell_type": "markdown",
   "id": "9221d950",
   "metadata": {},
   "source": [
    "# Split Each Line Sentence And Status Array"
   ]
  },
  {
   "cell_type": "code",
   "execution_count": 4,
   "id": "40c3f7aa",
   "metadata": {},
   "outputs": [
    {
     "name": "stdout",
     "output_type": "stream",
     "text": [
      "{'surprise', 'sad', 'fear', 'happy', 'angry', 'disgust'}\n"
     ]
    }
   ],
   "source": [
    "#file_path = 'corpus_all.txt'  # Replace with the actual path to your text file\n",
    "first_words = []  # Empty list to store the first words\n",
    "\n",
    "try:\n",
    "    for line in lines:\n",
    "        words = line.strip().split()  # Split the line into words\n",
    "        if words:\n",
    "            first_word = words[0]  # Get the first word\n",
    "            first_words.append(first_word)  # Append the first word to the list\n",
    "\n",
    "except FileNotFoundError:\n",
    "    print(\"File not found. Please check the file path and try again.\")\n",
    "\n",
    "# Print the first words or perform any desired processing\n",
    "distinct_values = set(first_words)\n",
    "print(distinct_values)\n"
   ]
  },
  {
   "cell_type": "markdown",
   "id": "eacb1acf",
   "metadata": {},
   "source": [
    "# Convert Array To Data Frame"
   ]
  },
  {
   "cell_type": "code",
   "execution_count": 5,
   "id": "d823b79a",
   "metadata": {},
   "outputs": [],
   "source": [
    "\n",
    "# Define the status levels\n",
    "status_levels = [\"happy\",\"angry\",\"fear\",\"disgust\",\"sad\",\"surprise\"]\n",
    "\n",
    "# Initialize a list to store the extracted status levels and sentences\n",
    "extracted_data = []\n",
    "\n",
    "# Iterate over the texts\n",
    "for text in lines:\n",
    "    # Initialize variables to store the extracted status level and sentence\n",
    "    status = \"\"\n",
    "    sentence = \"\"\n",
    "\n",
    "    # Iterate over the status levels\n",
    "    for level in status_levels:\n",
    "        if level in text:\n",
    "            # Split the text based on the status level\n",
    "            split_text = text.split(level, 1)\n",
    "\n",
    "            # Extract the status level and sentence\n",
    "            status = level\n",
    "            sentence = split_text[1].strip()\n",
    "            break\n",
    "\n",
    "    # Append the extracted status level and sentence to the list\n",
    "    extracted_data.append({\"Status\": status, \"Sentence\": sentence})\n",
    "df = pd.DataFrame(extracted_data)"
   ]
  },
  {
   "cell_type": "markdown",
   "id": "53967c2b",
   "metadata": {},
   "source": [
    "# Data Set Analysis"
   ]
  },
  {
   "cell_type": "code",
   "execution_count": 6,
   "id": "7ac6f2d6",
   "metadata": {},
   "outputs": [
    {
     "data": {
      "text/plain": [
       "(6289, 2)"
      ]
     },
     "execution_count": 6,
     "metadata": {},
     "output_type": "execute_result"
    }
   ],
   "source": [
    "df.shape"
   ]
  },
  {
   "cell_type": "code",
   "execution_count": 7,
   "id": "3cfcf4ac",
   "metadata": {},
   "outputs": [
    {
     "data": {
      "text/html": [
       "<div>\n",
       "<style scoped>\n",
       "    .dataframe tbody tr th:only-of-type {\n",
       "        vertical-align: middle;\n",
       "    }\n",
       "\n",
       "    .dataframe tbody tr th {\n",
       "        vertical-align: top;\n",
       "    }\n",
       "\n",
       "    .dataframe thead th {\n",
       "        text-align: right;\n",
       "    }\n",
       "</style>\n",
       "<table border=\"1\" class=\"dataframe\">\n",
       "  <thead>\n",
       "    <tr style=\"text-align: right;\">\n",
       "      <th></th>\n",
       "      <th>Status</th>\n",
       "      <th>Sentence</th>\n",
       "    </tr>\n",
       "  </thead>\n",
       "  <tbody>\n",
       "    <tr>\n",
       "      <th>0</th>\n",
       "      <td>sad</td>\n",
       "      <td>বরাবর, মাননীয় প্রধানমন্ত্রী গণপ্রজাতন্ত্রী বা...</td>\n",
       "    </tr>\n",
       "    <tr>\n",
       "      <th>1</th>\n",
       "      <td>sad</td>\n",
       "      <td>তদন্ত করে লাভ কী ? কোন দিন কোন তদন্তের পর কিছু...</td>\n",
       "    </tr>\n",
       "    <tr>\n",
       "      <th>2</th>\n",
       "      <td>angry</td>\n",
       "      <td>দেশকি মধ্যম আয়ের দেশে রুপান্তর হচ্ছে নাকি মগের...</td>\n",
       "    </tr>\n",
       "    <tr>\n",
       "      <th>3</th>\n",
       "      <td>happy</td>\n",
       "      <td>আমি গর্বিত আমি মুসলিম। আমি সংগ্রামী। আমি যোদ্ধ...</td>\n",
       "    </tr>\n",
       "    <tr>\n",
       "      <th>4</th>\n",
       "      <td>angry</td>\n",
       "      <td>রাতের বেলা আবার কিসের সকাল।</td>\n",
       "    </tr>\n",
       "  </tbody>\n",
       "</table>\n",
       "</div>"
      ],
      "text/plain": [
       "  Status                                           Sentence\n",
       "0    sad  বরাবর, মাননীয় প্রধানমন্ত্রী গণপ্রজাতন্ত্রী বা...\n",
       "1    sad  তদন্ত করে লাভ কী ? কোন দিন কোন তদন্তের পর কিছু...\n",
       "2  angry  দেশকি মধ্যম আয়ের দেশে রুপান্তর হচ্ছে নাকি মগের...\n",
       "3  happy  আমি গর্বিত আমি মুসলিম। আমি সংগ্রামী। আমি যোদ্ধ...\n",
       "4  angry                        রাতের বেলা আবার কিসের সকাল।"
      ]
     },
     "execution_count": 7,
     "metadata": {},
     "output_type": "execute_result"
    }
   ],
   "source": [
    "df.head(5)"
   ]
  },
  {
   "cell_type": "code",
   "execution_count": 8,
   "id": "3a916a63",
   "metadata": {},
   "outputs": [
    {
     "data": {
      "text/plain": [
       "ধন্যবাদ                                                                                                                                                                 27\n",
       "বিচার চাই                                                                                                                                                                8\n",
       "শালা, ,,,,দিন বদলের মাগি সরকার এখন বিরধিদের দমনে বিজি,,,,                                                                                                                6\n",
       "নাস্তিকদের দালাল একাওর টিভি বন্ধ করা হোক,https://www.facebook.com/events/510113745860941                                                                                 6\n",
       "ধন্যবাদ পুলিশ ভাই                                                                                                                                                        5\n",
       "                                                                                                                                                                        ..\n",
       "ত্বরিত ব্যবস্থা গ্রহণের জন্য Magistrates All Airport of Bangladesh ধন্যবাদ।                                                                                              1\n",
       "অস্থির ভাই আপনে পারেন ও। কি আর কমু আপ্নের ফ্যান হয়ে যাচ্ছি। very soon, u will be a celebrate.....                                                                        1\n",
       "আপনার মত মহান ব্যক্তির সাথে আমি জীবনে একবার হলে ও সাক্ষাত করতে চায় ,যদি এটা বাস্তবায়ন হয় তবে নিজেকে ধন্য মনে হবে...আমার মনে হচ্ছে আপনি মানুষ রুপি কোন ফেরেস্তা... :)     1\n",
       "SALUTE স্যার আপনাদের টিম কে । আল্লাহ্‌ যেন আপনাদের কে দীর্ঘজীবী করেন ।                                                                                                   1\n",
       "আমরা মানুষের মত হয়ে বাচতে চায়,পরাধীন হয়ে নয়                                                                                                                              1\n",
       "Name: Sentence, Length: 6074, dtype: int64"
      ]
     },
     "execution_count": 8,
     "metadata": {},
     "output_type": "execute_result"
    }
   ],
   "source": [
    "df['Sentence'].value_counts()"
   ]
  },
  {
   "cell_type": "markdown",
   "id": "caab2b68",
   "metadata": {},
   "source": [
    "# Status Count"
   ]
  },
  {
   "cell_type": "code",
   "execution_count": 9,
   "id": "b1a1ddc2",
   "metadata": {},
   "outputs": [
    {
     "data": {
      "text/plain": [
       "happy       1905\n",
       "angry       1410\n",
       "sad         1331\n",
       "disgust      698\n",
       "surprise     562\n",
       "fear         383\n",
       "Name: Status, dtype: int64"
      ]
     },
     "execution_count": 9,
     "metadata": {},
     "output_type": "execute_result"
    }
   ],
   "source": [
    "df['Status'].value_counts()"
   ]
  },
  {
   "cell_type": "code",
   "execution_count": 10,
   "id": "1ac419d5",
   "metadata": {},
   "outputs": [
    {
     "data": {
      "image/png": "[encoded data removed]",
      "text/plain": [
       "<Figure size 640x480 with 1 Axes>"
      ]
     },
     "metadata": {},
     "output_type": "display_data"
    }
   ],
   "source": [
    "\n",
    "import seaborn as sns\n",
    "import matplotlib.pyplot as plt\n",
    "\n",
    "plt.hist(df['Status'], bins=[0, 1, 2, 3, 4, 5, 6], align='left', rwidth=0.7)\n",
    "plt.xticks([0, 1, 2, 3, 4, 5, 6])\n",
    "plt.xlabel('Status')\n",
    "plt.ylabel('Count')\n",
    "plt.title('Status Distribution')\n",
    "plt.show()"
   ]
  },
  {
   "cell_type": "markdown",
   "id": "ae6f1370",
   "metadata": {},
   "source": [
    "# Sentence Pre Processing"
   ]
  },
  {
   "cell_type": "code",
   "execution_count": 11,
   "id": "6d7ecfce",
   "metadata": {},
   "outputs": [],
   "source": [
    "import re\n",
    "from re import sub\n",
    "def text_to_word_list(text):\n",
    "    text = text.split()\n",
    "    return text\n",
    "\n",
    "def replace_strings(text):\n",
    "    emoji_pattern = re.compile(\"[\"\n",
    "                           u\"\\U0001F600-\\U0001F64F\"  # emoticons\n",
    "                           u\"\\U0001F300-\\U0001F5FF\"  # symbols & pictographs\n",
    "                           u\"\\U0001F680-\\U0001F6FF\"  # transport & map symbols\n",
    "                           u\"\\U0001F1E0-\\U0001F1FF\"  # flags (iOS)\n",
    "                           u\"\\U00002702-\\U000027B0\"\n",
    "                           u\"\\U000024C2-\\U0001F251\"\n",
    "                           u\"\\u00C0-\\u017F\"          #latin\n",
    "                           u\"\\u2000-\\u206F\"          #generalPunctuations\n",
    "                               \n",
    "                           \"]+\", flags=re.UNICODE)\n",
    "    english_pattern=re.compile('[a-zA-Z0-9]+', flags=re.I)\n",
    "    #latin_pattern=re.compile('[A-Za-z\\u00C0-\\u00D6\\u00D8-\\u00f6\\u00f8-\\u00ff\\s]*',)\n",
    "    \n",
    "    text=emoji_pattern.sub(r'', text)\n",
    "    text=english_pattern.sub(r'', text)\n",
    "\n",
    "    return text\n",
    "\n",
    "def remove_punctuations(my_str):\n",
    "    # define punctuation\n",
    "    punctuations = '''```\u0012\u0010\u0002\b`\u0007\b£|¢|\u0007Ñ+-*/=EROero৳০১২৩৪৫৬৭৮৯012–34567•89।!()-[]{};:'\"“\\’,<>./?@#$%^&*_~‘—॥”‰⚽️✌�￰৷￰'''\n",
    "    \n",
    "    no_punct = \"\"\n",
    "    for char in my_str:\n",
    "        if char not in punctuations:\n",
    "            no_punct = no_punct + char\n",
    "\n",
    "    # display the unpunctuated string\n",
    "    return no_punct\n",
    "\n",
    "\n",
    "\n",
    "def joining(text):\n",
    "    out=' '.join(text)\n",
    "    return out\n",
    "\n",
    "def preprocessing(text):\n",
    "    out=remove_punctuations(replace_strings(text))\n",
    "    return out"
   ]
  },
  {
   "cell_type": "code",
   "execution_count": 12,
   "id": "e119ffc4",
   "metadata": {},
   "outputs": [
    {
     "data": {
      "text/plain": [
       "'বরাবর, মাননীয় প্রধানমন্ত্রী গণপ্রজাতন্ত্রী বাংলাদেশ সরকার। মাননীয় প্রধানমন্ত্রী, আমি আপনার স্বপ্নের ডিজিটাল বাংলাদেশের স্বপ্ন বুকে লালনকারী একজন সাধারণ ছাত্র। শত সহস্র আশা এবং দেশের প্রতি এক অকৃত্তিম ভালোবাসা এবং নিজেকে দেশের জন্য যোগ্য করে গড়ে তোলার এক তীব্র আকাঙ্ক্ষা নিয়ে ভর্তি হয়েছিলাম আপনার নিজ হাতে প্রতিষ্ঠিত দেশের অন্যতম বিশ্ববিদ্যালয় যশোর বিজ্ঞান ও প্রযুক্তি বিশ্ববিদ্যালয়ে। একটি ডিজিটাল বাংলাদেশ গড়তে এ ধরণের একটি প্রযুক্তি বিশ্ববিদ্যালয় প্রতিষ্ঠা করা নিঃসন্দেহে আপনার দেশ পরিচালনার একটি বিচক্ষণতার পরিচয় বহন করে। আপনি যশোর বাসির স্বপ্নের এই প্রতিষ্ঠানে শত শত কোটি টাকা বিনিয়োগ করেছেন দুহাত উজাড় করে। কিন্তু অত্যন্ত দুঃখের সাথে সেই বিশ্ববিদ্যালয় জীবনের সূচনালগ্ন থেকে অনুভব করছি যে, অনেক পাওয়ার আনন্দে যখন শিক্ষার্থীদের মনপ্রান উজাড় করে পড়ালেখা করার কথা, তার বিপরীতে এই কমলমতি শিক্ষার্থীরা সদা দিনাতিপাত করছে প্রাণ নাশের হুমকি, শ্লীলতাহানীর গ্লানি, আর ছাত্রত্ত বাতিল হওয়ার হুমকি নিয়ে। সম্মানিত শিক্ষকদের কে মারতে যাওয়া, গলা কেটে ফেলার হুমকি, প্রাণ নাশের হুমকি, কটূক্তি করা আজ এখানে নিয়মিত ঘটনা। মাননীয় প্রধানমন্ত্রী যেখানে শিক্ষার্থীরা শিক্ষকদের পিতামাতার মত সম্মান করে তাদের সামনে একজন চতুর্থ শ্রেণীর কর্মচারীর দ্বারা শিক্ষকদের নিয়মিত এমন ঘটনার শিকার হওয়া আমাদের ডিজিটাল বাংলাদেশের স্বপ্নে যেন পাক হানাদার বাহিনীর মত হানা দিয়ে যায়। যখন চোখের সামনে আমার ছাত্রী বোনের স্লিলতাহানীর চেষ্টা করা হয়, আর প্রতিবাদ করতে গিয়ে বহিষ্কার হতে হয় শিক্ষার্থীদের তখন মনে হয় সেই ভাষা আন্দোলন আর মুক্তিযুদ্ধের বিভীষিকাময় দিন গুলোর কথা। আপনার সুশাসনের বাংলাদেশে এমন একটি আদর্শ বিশ্ববিদ্যালয়ে, বিশ্ববিদ্যালয়ের প্রশাসনের পোষা সন্ত্রাসী মাদক ব্যাবসায়ী, শিক্ষকদের লাঞ্চিত করা, ছাত্রদের জীবন নিয়ে ছিনিমিনি খেলা, এবং ছাত্রীদের লাঞ্চিত করার যে বিরল নজীর স্থাপন করেছে তা আপনার আমাদের স্বপ্নের সোনার বাংলা গড়ার সম্পূর্ণ পরিপন্থী। মাননীয় প্রধানমন্ত্রী হাজার হাজার শিক্ষক, শিক্ষার্থীর মিলিত আর্তনাদে আজ যশোরের আকাশ বাতাস প্রকম্পিত, বসরের পর বসর একজন কর্মচারী প্রশাসনের ছত্রছায়ায় এমন অন্যায় করে যাচ্ছে তার প্রতিকার কি আজও হবে না?? জীবনের সোনালি সময় গুলো চলে যাচ্ছে ক্লাস পরীক্ষা না দিয়ে, যশোর বিশ্ববিদ্যালয় বন্ধ দুই সপ্তাহ যাবত। আর কতটুকু সময় পেরোলে আমরা নতুন সূর্য দেখব? আর কত শিক্ষক লাঞ্চিত হলে, ছাত্রী লাঞ্চিত হলে, ছাত্রদের জীবন বিপন্ন হলে আপনার সাহায্য পাব?? অনুগ্রহ করে আমাদের স্বপ্ন গুলো বাচাতে এগিয়ে আসুন। আপনার সুদৃষ্টির পথ পানে চেয়ে দিন গুনছি আমরা। বিনীত মোঃ নাসির উদ্দিন বাদল জীন প্রকৌশল ও জীব প্রযুক্তি বিভাগ যশোর বিজ্ঞান ও প্রযুক্তি বিশ্ববিদ্যালয়।'"
      ]
     },
     "execution_count": 12,
     "metadata": {},
     "output_type": "execute_result"
    }
   ],
   "source": [
    "df['Sentence'][0]"
   ]
  },
  {
   "cell_type": "code",
   "execution_count": 13,
   "id": "fb773868",
   "metadata": {},
   "outputs": [
    {
     "data": {
      "text/plain": [
       "'বরাবর মাননীয় প্রধানমন্ত্রী গণপ্রজাতন্ত্রী বাংলাদেশ সরকার মাননীয় প্রধানমন্ত্রী আমি আপনার স্বপ্নের ডিজিটাল বাংলাদেশের স্বপ্ন বুকে লালনকারী একজন সাধারণ ছাত্র শত সহস্র আশা এবং দেশের প্রতি এক অকৃত্তিম ভালোবাসা এবং নিজেকে দেশের জন্য যোগ্য করে গড়ে তোলার এক তীব্র আকাঙ্ক্ষা নিয়ে ভর্তি হয়েছিলাম আপনার নিজ হাতে প্রতিষ্ঠিত দেশের অন্যতম বিশ্ববিদ্যালয় যশোর বিজ্ঞান ও প্রযুক্তি বিশ্ববিদ্যালয়ে একটি ডিজিটাল বাংলাদেশ গড়তে এ ধরণের একটি প্রযুক্তি বিশ্ববিদ্যালয় প্রতিষ্ঠা করা নিঃসন্দেহে আপনার দেশ পরিচালনার একটি বিচক্ষণতার পরিচয় বহন করে আপনি যশোর বাসির স্বপ্নের এই প্রতিষ্ঠানে শত শত কোটি টাকা বিনিয়োগ করেছেন দুহাত উজাড় করে কিন্তু অত্যন্ত দুঃখের সাথে সেই বিশ্ববিদ্যালয় জীবনের সূচনালগ্ন থেকে অনুভব করছি যে অনেক পাওয়ার আনন্দে যখন শিক্ষার্থীদের মনপ্রান উজাড় করে পড়ালেখা করার কথা তার বিপরীতে এই কমলমতি শিক্ষার্থীরা সদা দিনাতিপাত করছে প্রাণ নাশের হুমকি শ্লীলতাহানীর গ্লানি আর ছাত্রত্ত বাতিল হওয়ার হুমকি নিয়ে সম্মানিত শিক্ষকদের কে মারতে যাওয়া গলা কেটে ফেলার হুমকি প্রাণ নাশের হুমকি কটূক্তি করা আজ এখানে নিয়মিত ঘটনা মাননীয় প্রধানমন্ত্রী যেখানে শিক্ষার্থীরা শিক্ষকদের পিতামাতার মত সম্মান করে তাদের সামনে একজন চতুর্থ শ্রেণীর কর্মচারীর দ্বারা শিক্ষকদের নিয়মিত এমন ঘটনার শিকার হওয়া আমাদের ডিজিটাল বাংলাদেশের স্বপ্নে যেন পাক হানাদার বাহিনীর মত হানা দিয়ে যায় যখন চোখের সামনে আমার ছাত্রী বোনের স্লিলতাহানীর চেষ্টা করা হয় আর প্রতিবাদ করতে গিয়ে বহিষ্কার হতে হয় শিক্ষার্থীদের তখন মনে হয় সেই ভাষা আন্দোলন আর মুক্তিযুদ্ধের বিভীষিকাময় দিন গুলোর কথা আপনার সুশাসনের বাংলাদেশে এমন একটি আদর্শ বিশ্ববিদ্যালয়ে বিশ্ববিদ্যালয়ের প্রশাসনের পোষা সন্ত্রাসী মাদক ব্যাবসায়ী শিক্ষকদের লাঞ্চিত করা ছাত্রদের জীবন নিয়ে ছিনিমিনি খেলা এবং ছাত্রীদের লাঞ্চিত করার যে বিরল নজীর স্থাপন করেছে তা আপনার আমাদের স্বপ্নের সোনার বাংলা গড়ার সম্পূর্ণ পরিপন্থী মাননীয় প্রধানমন্ত্রী হাজার হাজার শিক্ষক শিক্ষার্থীর মিলিত আর্তনাদে আজ যশোরের আকাশ বাতাস প্রকম্পিত বসরের পর বসর একজন কর্মচারী প্রশাসনের ছত্রছায়ায় এমন অন্যায় করে যাচ্ছে তার প্রতিকার কি আজও হবে না জীবনের সোনালি সময় গুলো চলে যাচ্ছে ক্লাস পরীক্ষা না দিয়ে যশোর বিশ্ববিদ্যালয় বন্ধ দুই সপ্তাহ যাবত আর কতটুকু সময় পেরোলে আমরা নতুন সূর্য দেখব আর কত শিক্ষক লাঞ্চিত হলে ছাত্রী লাঞ্চিত হলে ছাত্রদের জীবন বিপন্ন হলে আপনার সাহায্য পাব অনুগ্রহ করে আমাদের স্বপ্ন গুলো বাচাতে এগিয়ে আসুন আপনার সুদৃষ্টির পথ পানে চেয়ে দিন গুনছি আমরা বিনীত মোঃ নাসির উদ্দিন বাদল জীন প্রকৌশল ও জীব প্রযুক্তি বিভাগ যশোর বিজ্ঞান ও প্রযুক্তি বিশ্ববিদ্যালয়'"
      ]
     },
     "execution_count": 13,
     "metadata": {},
     "output_type": "execute_result"
    }
   ],
   "source": [
    "preprocessing(df['Sentence'][0])"
   ]
  },
  {
   "cell_type": "code",
   "execution_count": 14,
   "id": "ed489515",
   "metadata": {},
   "outputs": [],
   "source": [
    "df['Sentence'] = df.Sentence.apply(lambda x: preprocessing(str(x)))"
   ]
  },
  {
   "cell_type": "code",
   "execution_count": 15,
   "id": "3fed0fc1",
   "metadata": {},
   "outputs": [],
   "source": [
    "df.reset_index(drop=True, inplace=True)"
   ]
  },
  {
   "cell_type": "markdown",
   "id": "6c3c90d0",
   "metadata": {},
   "source": [
    "# Test Train Data Split"
   ]
  },
  {
   "cell_type": "code",
   "execution_count": 16,
   "id": "25898ef4",
   "metadata": {},
   "outputs": [
    {
     "name": "stdout",
     "output_type": "stream",
     "text": [
      "Data Shape :\n",
      "(6289, 2)\n",
      "Train Shape :\n",
      "(5031, 2)\n",
      "Test Shape :\n",
      "(1258, 2)\n"
     ]
    }
   ],
   "source": [
    "train1, test1 = train_test_split(df,random_state=40, test_size=0.2)\n",
    "\n",
    "print(\"Data Shape :\")\n",
    "print(df.shape)\n",
    "print(\"Train Shape :\")\n",
    "print(train1.shape)\n",
    "print(\"Test Shape :\")\n",
    "print(test1.shape)\n"
   ]
  },
  {
   "cell_type": "markdown",
   "id": "58bb5daf",
   "metadata": {},
   "source": [
    "# Tast Train Data Sentence Convert In Array"
   ]
  },
  {
   "cell_type": "code",
   "execution_count": 17,
   "id": "1f283c0e",
   "metadata": {},
   "outputs": [],
   "source": [
    "\n",
    "training_sentences = []\n",
    "testing_sentences = []\n",
    "\n",
    "train_sentences=train1['Sentence'].values\n",
    "train_labels=train1['Status'].values\n",
    "\n",
    "for i in range(train_sentences.shape[0]): \n",
    "    x=str(train_sentences[i])\n",
    "    training_sentences.append(x)\n",
    "    \n",
    "training_sentences=np.array(training_sentences)\n",
    "\n",
    "test_sentences=test1['Sentence'].values\n",
    "test_labels=test1['Status'].values\n",
    "\n",
    "for i in range(test_sentences.shape[0]):     \n",
    "    x=str(test_sentences[i])\n",
    "    testing_sentences.append(x)\n",
    "    \n",
    "testing_sentences=np.array(testing_sentences)\n"
   ]
  },
  {
   "cell_type": "markdown",
   "id": "3de4c9d2",
   "metadata": {},
   "source": [
    "# Encode The Test And Train Label"
   ]
  },
  {
   "cell_type": "markdown",
   "id": "351941fe",
   "metadata": {},
   "source": [
    "Train Label Status"
   ]
  },
  {
   "cell_type": "code",
   "execution_count": 18,
   "id": "c85d8970",
   "metadata": {},
   "outputs": [
    {
     "data": {
      "text/plain": [
       "{'angry', 'disgust', 'fear', 'happy', 'sad', 'surprise'}"
      ]
     },
     "execution_count": 18,
     "metadata": {},
     "output_type": "execute_result"
    }
   ],
   "source": [
    "set(train_labels)"
   ]
  },
  {
   "cell_type": "markdown",
   "id": "23ebdbe7",
   "metadata": {},
   "source": [
    "Test Label Status"
   ]
  },
  {
   "cell_type": "code",
   "execution_count": 19,
   "id": "921b82ac",
   "metadata": {},
   "outputs": [
    {
     "data": {
      "text/plain": [
       "{'angry', 'disgust', 'fear', 'happy', 'sad', 'surprise'}"
      ]
     },
     "execution_count": 19,
     "metadata": {},
     "output_type": "execute_result"
    }
   ],
   "source": [
    "set(test_labels)"
   ]
  },
  {
   "cell_type": "code",
   "execution_count": 20,
   "id": "c41d92b1",
   "metadata": {},
   "outputs": [
    {
     "name": "stdout",
     "output_type": "stream",
     "text": [
      "Training Set Length: 5031\n",
      "Testing Set Length: 1258\n",
      "training_sentences shape: (5031,)\n",
      "testing_sentences shape: (1258,)\n",
      "train_labels shape: (5031,)\n",
      "test_labels shape: (1258,)\n"
     ]
    }
   ],
   "source": [
    "\n",
    "label_encoder = LabelEncoder()\n",
    "train_labels = label_encoder.fit_transform(train_labels)\n",
    "test_labels = label_encoder.transform(test_labels)\n",
    "\n",
    "print(\"Training Set Length: \"+str(len(train1)))\n",
    "print(\"Testing Set Length: \"+str(len(test1)))\n",
    "\n",
    "print(\"training_sentences shape: \"+str(training_sentences.shape))\n",
    "print(\"testing_sentences shape: \"+str(testing_sentences.shape))\n",
    "\n",
    "print(\"train_labels shape: \"+str(train_labels.shape))\n",
    "print(\"test_labels shape: \"+str(test_labels.shape))\n"
   ]
  },
  {
   "cell_type": "code",
   "execution_count": 21,
   "id": "21aca0b2",
   "metadata": {},
   "outputs": [
    {
     "name": "stdout",
     "output_type": "stream",
     "text": [
      "{0, 1, 2, 3, 4, 5}\n"
     ]
    }
   ],
   "source": [
    "print(set(test_labels))"
   ]
  },
  {
   "cell_type": "code",
   "execution_count": 23,
   "id": "88d80667",
   "metadata": {},
   "outputs": [
    {
     "name": "stdout",
     "output_type": "stream",
     "text": [
      "{0, 1, 2, 3, 4, 5}\n"
     ]
    }
   ],
   "source": [
    "print(set(train_labels))"
   ]
  },
  {
   "cell_type": "markdown",
   "id": "b04a8312",
   "metadata": {},
   "source": [
    "# Sentences Tokenizer"
   ]
  },
  {
   "cell_type": "code",
   "execution_count": 24,
   "id": "3351edef",
   "metadata": {},
   "outputs": [],
   "source": [
    "vocab_size = 25000\n",
    "embedding_dim = 300\n",
    "max_length = 100\n",
    "trunc_type='post'\n",
    "oov_tok = \"<OOV>\"\n",
    "tokenizer = Tokenizer(num_words = vocab_size, oov_token=oov_tok)\n"
   ]
  },
  {
   "cell_type": "code",
   "execution_count": 25,
   "id": "4fcad02f",
   "metadata": {
    "scrolled": false
   },
   "outputs": [
    {
     "name": "stdout",
     "output_type": "stream",
     "text": [
      "training_sentences : \n",
      "বায়বীয় সরকার যে তাই বায়বীয় তেই বেশি ভয়\n",
      "word_index : \n",
      "{'<OOV>': 1, 'ব': 2, 'য়': 3, 'া': 4, 'ে': 5, 'ী': 6, 'র': 7, 'ত': 8, 'ই': 9, 'স': 10, 'ক': 11, 'য': 12, 'শ': 13, 'ি': 14, 'ভ': 15}\n",
      "Word index length:15\n",
      "sequences : \n",
      "[[2], [4], [3], [2], [6], [3], [], [10], [7], [11], [4], [7], [], [12], [5], [], [8], [4], [9], [], [2], [4], [3], [2], [6], [3], [], [8], [5], [9], [], [2], [5], [13], [14], [], [15], [3]]\n",
      "padded : \n",
      "[[ 0  0  0 ...  0  0  2]\n",
      " [ 0  0  0 ...  0  0  4]\n",
      " [ 0  0  0 ...  0  0  3]\n",
      " ...\n",
      " [ 0  0  0 ...  0  0  0]\n",
      " [ 0  0  0 ...  0  0 15]\n",
      " [ 0  0  0 ...  0  0  3]]\n"
     ]
    }
   ],
   "source": [
    "print('training_sentences : ')\n",
    "print(training_sentences[0])\n",
    "tokenizer.fit_on_texts(training_sentences[0])\n",
    "\n",
    "word_index = tokenizer.word_index\n",
    "print('word_index : ')\n",
    "print(word_index)\n",
    "print(\"Word index length:\"+str(len(tokenizer.word_index)))\n",
    "\n",
    "sequences = tokenizer.texts_to_sequences(training_sentences[0])\n",
    "print('sequences : ')\n",
    "print(sequences)\n",
    "\n",
    "padded = pad_sequences(sequences,maxlen=max_length, truncating=trunc_type)\n",
    "print('padded : ')\n",
    "print(padded)\n"
   ]
  },
  {
   "cell_type": "code",
   "execution_count": 26,
   "id": "05e958e8",
   "metadata": {},
   "outputs": [
    {
     "name": "stdout",
     "output_type": "stream",
     "text": [
      "হায় হায় আপনার নামতো আজই রাজাকারের লিস্টে চলে যাবে\n",
      "test_sequences : \n",
      "[[1], [4], [3], [], [1], [4], [3], [], [1], [1], [1], [4], [7], [], [1], [4], [1], [8], [1], [], [1], [1], [9], [], [7], [4], [1], [4], [11], [4], [7], [5], [7], [], [1], [14], [10], [1], [1], [5], [], [1], [1], [5], [], [12], [4], [2], [5]]\n",
      "\n",
      "testing_padded : \n",
      "[[0 0 0 ... 0 0 1]\n",
      " [0 0 0 ... 0 0 4]\n",
      " [0 0 0 ... 0 0 3]\n",
      " ...\n",
      " [0 0 0 ... 0 0 4]\n",
      " [0 0 0 ... 0 0 2]\n",
      " [0 0 0 ... 0 0 5]]\n"
     ]
    }
   ],
   "source": [
    "print(testing_sentences[0])\n",
    "test_sequences = tokenizer.texts_to_sequences(testing_sentences[0])\n",
    "print('test_sequences : ')\n",
    "print(test_sequences)\n",
    "testing_padded = pad_sequences(test_sequences,maxlen=max_length)\n",
    "print('\\ntesting_padded : ')\n",
    "print(testing_padded)\n"
   ]
  },
  {
   "cell_type": "code",
   "execution_count": 27,
   "id": "d9c6b8bb",
   "metadata": {},
   "outputs": [
    {
     "name": "stdout",
     "output_type": "stream",
     "text": [
      "Word index length:15455\n"
     ]
    }
   ],
   "source": [
    "\n",
    "tokenizer.fit_on_texts(training_sentences)\n",
    "word_index = tokenizer.word_index\n",
    "print(\"Word index length:\"+str(len(tokenizer.word_index)))\n",
    "\n",
    "sequences = tokenizer.texts_to_sequences(training_sentences)\n",
    "padded = pad_sequences(sequences,maxlen=max_length, truncating=trunc_type)\n",
    "\n",
    "test_sequences = tokenizer.texts_to_sequences(testing_sentences)\n",
    "testing_padded = pad_sequences(test_sequences,maxlen=max_length)\n"
   ]
  },
  {
   "cell_type": "code",
   "execution_count": 28,
   "id": "f29ff1be",
   "metadata": {},
   "outputs": [
    {
     "name": "stdout",
     "output_type": "stream",
     "text": [
      "Sentence :--> \n",
      "\n",
      "এভাবেই শত শত প্রতিবাদীরা আপনার দলে যোগ দেবে যেভাবে মুক্তিযোদ্ধারা দেশকে স্বাধীন করেছিলোজাতির পিতা শেখ মুজিব ও স্বাধীনতার ঘোসক জিয়াউর রহমানের মত আপনার এ ডাকে একদিন বাংগালী ঠিকই জেগে উঠবে আল্লাহ আপনাকে লোভ ও লালসা থেকে দূরে রাখুকএটাই আমার কামনা      ইউসুফস্যার\n",
      "\n",
      "Sentence Tokenized and Converted into Sequence :--> \n",
      "\n",
      "[1166, 1415, 1415, 5698, 9, 1416, 1278, 971, 544, 5699, 902, 781, 5700, 2275, 604, 3670, 8, 2276, 5701, 5702, 1908, 66, 9, 37, 3671, 267, 2825, 1909, 1417, 3672, 118, 78, 1910, 8, 5703, 35, 1616, 5704, 25, 293, 5705]\n",
      "\n",
      "After Padding the Sequence with padding length 100 :--> \n",
      "\n",
      "[   0    0    0    0    0    0    0    0    0    0    0    0    0    0\n",
      "    0    0    0    0    0    0    0    0    0    0    0    0    0    0\n",
      "    0    0    0    0    0    0    0    0    0    0    0    0    0    0\n",
      "    0    0    0    0    0    0    0    0    0    0    0    0    0    0\n",
      "    0    0    0 1166 1415 1415 5698    9 1416 1278  971  544 5699  902\n",
      "  781 5700 2275  604 3670    8 2276 5701 5702 1908   66    9   37 3671\n",
      "  267 2825 1909 1417 3672  118   78 1910    8 5703   35 1616 5704   25\n",
      "  293 5705]\n",
      "testing_sentences :--> \n",
      "\n",
      "এতদিন পরে বুঝতে পারার জন্য আপনাকে ধন্যবাদ\n",
      "\n",
      "Sentence Tokenized and Converted into Sequence :--> \n",
      "\n",
      "[713, 192, 374, 1, 10, 78, 15]\n",
      "\n",
      "After Padding the Sequence with padding length 100 :--> \n",
      "\n",
      "[  0   0   0   0   0   0   0   0   0   0   0   0   0   0   0   0   0   0\n",
      "   0   0   0   0   0   0   0   0   0   0   0   0   0   0   0   0   0   0\n",
      "   0   0   0   0   0   0   0   0   0   0   0   0   0   0   0   0   0   0\n",
      "   0   0   0   0   0   0   0   0   0   0   0   0   0   0   0   0   0   0\n",
      "   0   0   0   0   0   0   0   0   0   0   0   0   0   0   0   0   0   0\n",
      "   0   0   0 713 192 374   1  10  78  15]\n"
     ]
    }
   ],
   "source": [
    "print(\"Sentence :--> \\n\")\n",
    "print(training_sentences[2]+\"\\n\")\n",
    "print(\"Sentence Tokenized and Converted into Sequence :--> \\n\")\n",
    "print(str(sequences[2])+\"\\n\")\n",
    "print(\"After Padding the Sequence with padding length 100 :--> \\n\")\n",
    "print(padded[2])\n",
    "\n",
    "print(\"testing_sentences :--> \\n\")\n",
    "print(testing_sentences[2]+\"\\n\")\n",
    "print(\"Sentence Tokenized and Converted into Sequence :--> \\n\")\n",
    "print(str(test_sequences[2])+\"\\n\")\n",
    "print(\"After Padding the Sequence with padding length 100 :--> \\n\")\n",
    "print(testing_padded[2])"
   ]
  },
  {
   "cell_type": "code",
   "execution_count": 29,
   "id": "5a24b645",
   "metadata": {},
   "outputs": [
    {
     "name": "stdout",
     "output_type": "stream",
     "text": [
      "Padded shape(training): (5031, 100)\n",
      "Padded shape(testing): (1258, 100)\n"
     ]
    }
   ],
   "source": [
    "print(\"Padded shape(training): \"+str(padded.shape))\n",
    "print(\"Padded shape(testing): \"+str(testing_padded.shape))"
   ]
  },
  {
   "cell_type": "code",
   "execution_count": 30,
   "id": "3383136b",
   "metadata": {},
   "outputs": [
    {
     "data": {
      "text/plain": [
       "'বায়বীয় সরকার যে তাই বায়বীয় তেই বেশি ভয়'"
      ]
     },
     "execution_count": 30,
     "metadata": {},
     "output_type": "execute_result"
    }
   ],
   "source": [
    "training_sentences[0]"
   ]
  },
  {
   "cell_type": "code",
   "execution_count": 31,
   "id": "2db2bef5",
   "metadata": {},
   "outputs": [
    {
     "data": {
      "text/plain": [
       "1"
      ]
     },
     "execution_count": 31,
     "metadata": {},
     "output_type": "execute_result"
    }
   ],
   "source": [
    "train_labels[0]"
   ]
  },
  {
   "cell_type": "code",
   "execution_count": 32,
   "id": "86bcdf9c",
   "metadata": {},
   "outputs": [
    {
     "data": {
      "text/plain": [
       "'হায় হায় আপনার নামতো আজই রাজাকারের লিস্টে চলে যাবে'"
      ]
     },
     "execution_count": 32,
     "metadata": {},
     "output_type": "execute_result"
    }
   ],
   "source": [
    "testing_sentences[0]"
   ]
  },
  {
   "cell_type": "code",
   "execution_count": 33,
   "id": "c850de16",
   "metadata": {},
   "outputs": [
    {
     "data": {
      "text/plain": [
       "0"
      ]
     },
     "execution_count": 33,
     "metadata": {},
     "output_type": "execute_result"
    }
   ],
   "source": [
    "test_labels[0]"
   ]
  },
  {
   "cell_type": "code",
   "execution_count": 34,
   "id": "85ffd5be",
   "metadata": {},
   "outputs": [],
   "source": [
    "from keras.utils import to_categorical\n",
    "\n",
    "# Convert numeric labels to one-hot encoded vectors\n",
    "train_labels = to_categorical(train_labels, num_classes=6)\n",
    "test_labels = to_categorical(test_labels, num_classes=6)"
   ]
  },
  {
   "cell_type": "code",
   "execution_count": 35,
   "id": "cfaa075a",
   "metadata": {},
   "outputs": [
    {
     "name": "stdout",
     "output_type": "stream",
     "text": [
      "[0. 1. 0. 0. 0. 0.]\n"
     ]
    }
   ],
   "source": [
    "print(train_labels[0])"
   ]
  },
  {
   "cell_type": "code",
   "execution_count": 36,
   "id": "ed26b500",
   "metadata": {},
   "outputs": [
    {
     "name": "stdout",
     "output_type": "stream",
     "text": [
      "[1. 0. 0. 0. 0. 0.]\n"
     ]
    }
   ],
   "source": [
    "print(test_labels[0])"
   ]
  },
  {
   "cell_type": "code",
   "execution_count": 45,
   "id": "1a6d0230",
   "metadata": {},
   "outputs": [],
   "source": [
    "from sklearn.feature_extraction.text import TfidfVectorizer\n",
    "from sklearn import preprocessing\n",
    "label_encoder = preprocessing.LabelEncoder()"
   ]
  },
  {
   "cell_type": "code",
   "execution_count": 54,
   "id": "a76a27ea",
   "metadata": {},
   "outputs": [],
   "source": [
    "# tfidf = TfidfVectorizer(max_features= 2500, min_df= 2)\n",
    "# X_train = tfidf.fit_transform(training_sentences).toarray()\n",
    "# X_test = tfidf.transform(testing_sentences).toarray()\n",
    "# y_train = label_encoder.fit_transform(train_labels)\n",
    "# y_test = label_encoder.fit_transform(test_labels)\n",
    "\n",
    "X_train = padded\n",
    "X_test = testing_padded\n",
    "y_train = train_labels\n",
    "y_test = test_labels"
   ]
  },
  {
   "cell_type": "code",
   "execution_count": 58,
   "id": "1c88dcdc",
   "metadata": {},
   "outputs": [
    {
     "name": "stdout",
     "output_type": "stream",
     "text": [
      "X_train : \n",
      "[   0    0    0    0    0    0    0    0    0    0    0    0    0    0\n",
      "    0    0    0    0    0    0    0    0    0    0    0    0    0    0\n",
      "    0    0    0    0    0    0    0    0    0    0    0    0    0    0\n",
      "    0    0    0    0    0    0    0    0    0    0    0    0    0    0\n",
      "    0    0    0    0    0    0    0    0    0    0    0    0    0    0\n",
      "    0    0    0    0    0    0    0    0    0    0    0    0    0    0\n",
      "    0    0    0    0    0    0    0    0 1058   62   12   80 1058 5696\n",
      "  146  171]\n",
      "X_test : \n",
      "[   0    0    0    0    0    0    0    0    0    0    0    0    0    0\n",
      "    0    0    0    0    0    0    0    0    0    0    0    0    0    0\n",
      "    0    0    0    0    0    0    0    0    0    0    0    0    0    0\n",
      "    0    0    0    0    0    0    0    0    0    0    0    0    0    0\n",
      "    0    0    0    0    0    0    0    0    0    0    0    0    0    0\n",
      "    0    0    0    0    0    0    0    0    0    0    0    0    0    0\n",
      "    0    0    0    0    0    0    0 1954 1954    9 4512 4356  869 8171\n",
      "  210  108]\n",
      "y_train : \n",
      "[0. 1. 0. 0. 0. 0.]\n",
      "y_test : \n",
      "[1. 0. 0. 0. 0. 0.]\n"
     ]
    }
   ],
   "source": [
    "print('X_train : ')\n",
    "print(X_train[0])\n",
    "print('X_test : ')\n",
    "print(X_test[0])\n",
    "print('y_train : ')\n",
    "print(y_train[0])\n",
    "print('y_test : ')\n",
    "print(y_test[0])"
   ]
  },
  {
   "cell_type": "code",
   "execution_count": 56,
   "id": "fa0841f2",
   "metadata": {},
   "outputs": [],
   "source": [
    "\n",
    "from scikitplot.metrics import plot_confusion_matrix, plot_roc\n",
    "\n",
    "def train_model(model):\n",
    "    model.fit(X_train, y_train)\n",
    "    y_pred = model.predict(X_test)\n",
    "#     y_prob = model.predict_proba(X_test)\n",
    "    accuracy = round(accuracy_score(y_test, y_pred),3)\n",
    "    precision = round(precision_score(y_test, y_pred,average=\"micro\"),3)\n",
    "    recall = round(recall_score(y_test, y_pred,average=\"micro\"),3)\n",
    "\n",
    "    print(f'Accuracy of the model: {accuracy}')\n",
    "    print(f'Precision Score of the model: {precision}')\n",
    "    print(f'Recall Score of the model: {recall}')\n",
    "\n",
    "#     sns.set_context('notebook', font_scale= 1.3)\n",
    "#     fig, ax = plt.subplots(1, 2, figsize = (25,  8))\n",
    "#     ax1 = plot_confusion_matrix(y_test, y_pred, ax= ax[0], cmap= 'YlGnBu')\n",
    "#     ax2 = plot_roc(y_test, y_prob, ax= ax[1], plot_macro= False, plot_micro= False, cmap= 'summer')"
   ]
  },
  {
   "cell_type": "code",
   "execution_count": 57,
   "id": "6db70d71",
   "metadata": {},
   "outputs": [
    {
     "ename": "ValueError",
     "evalue": "y should be a 1d array, got an array of shape (5031, 6) instead.",
     "output_type": "error",
     "traceback": [
      "\u001b[1;31m---------------------------------------------------------------------------\u001b[0m",
      "\u001b[1;31mValueError\u001b[0m                                Traceback (most recent call last)",
      "Cell \u001b[1;32mIn[57], line 2\u001b[0m\n\u001b[0;32m      1\u001b[0m nb \u001b[38;5;241m=\u001b[39m MultinomialNB()\n\u001b[1;32m----> 2\u001b[0m \u001b[43mtrain_model\u001b[49m\u001b[43m(\u001b[49m\u001b[43mnb\u001b[49m\u001b[43m)\u001b[49m\n",
      "Cell \u001b[1;32mIn[56], line 4\u001b[0m, in \u001b[0;36mtrain_model\u001b[1;34m(model)\u001b[0m\n\u001b[0;32m      3\u001b[0m \u001b[38;5;28;01mdef\u001b[39;00m \u001b[38;5;21mtrain_model\u001b[39m(model):\n\u001b[1;32m----> 4\u001b[0m     \u001b[43mmodel\u001b[49m\u001b[38;5;241;43m.\u001b[39;49m\u001b[43mfit\u001b[49m\u001b[43m(\u001b[49m\u001b[43mX_train\u001b[49m\u001b[43m,\u001b[49m\u001b[43m \u001b[49m\u001b[43my_train\u001b[49m\u001b[43m)\u001b[49m\n\u001b[0;32m      5\u001b[0m     y_pred \u001b[38;5;241m=\u001b[39m model\u001b[38;5;241m.\u001b[39mpredict(X_test)\n\u001b[0;32m      6\u001b[0m \u001b[38;5;66;03m#     y_prob = model.predict_proba(X_test)\u001b[39;00m\n",
      "File \u001b[1;32mC:\\ProgramData\\anaconda3\\lib\\site-packages\\sklearn\\naive_bayes.py:749\u001b[0m, in \u001b[0;36m_BaseDiscreteNB.fit\u001b[1;34m(self, X, y, sample_weight)\u001b[0m\n\u001b[0;32m    729\u001b[0m \u001b[38;5;124;03m\"\"\"Fit Naive Bayes classifier according to X, y.\u001b[39;00m\n\u001b[0;32m    730\u001b[0m \n\u001b[0;32m    731\u001b[0m \u001b[38;5;124;03mParameters\u001b[39;00m\n\u001b[1;32m   (...)\u001b[0m\n\u001b[0;32m    746\u001b[0m \u001b[38;5;124;03m    Returns the instance itself.\u001b[39;00m\n\u001b[0;32m    747\u001b[0m \u001b[38;5;124;03m\"\"\"\u001b[39;00m\n\u001b[0;32m    748\u001b[0m \u001b[38;5;28mself\u001b[39m\u001b[38;5;241m.\u001b[39m_validate_params()\n\u001b[1;32m--> 749\u001b[0m X, y \u001b[38;5;241m=\u001b[39m \u001b[38;5;28;43mself\u001b[39;49m\u001b[38;5;241;43m.\u001b[39;49m\u001b[43m_check_X_y\u001b[49m\u001b[43m(\u001b[49m\u001b[43mX\u001b[49m\u001b[43m,\u001b[49m\u001b[43m \u001b[49m\u001b[43my\u001b[49m\u001b[43m)\u001b[49m\n\u001b[0;32m    750\u001b[0m _, n_features \u001b[38;5;241m=\u001b[39m X\u001b[38;5;241m.\u001b[39mshape\n\u001b[0;32m    752\u001b[0m labelbin \u001b[38;5;241m=\u001b[39m LabelBinarizer()\n",
      "File \u001b[1;32mC:\\ProgramData\\anaconda3\\lib\\site-packages\\sklearn\\naive_bayes.py:583\u001b[0m, in \u001b[0;36m_BaseDiscreteNB._check_X_y\u001b[1;34m(self, X, y, reset)\u001b[0m\n\u001b[0;32m    581\u001b[0m \u001b[38;5;28;01mdef\u001b[39;00m \u001b[38;5;21m_check_X_y\u001b[39m(\u001b[38;5;28mself\u001b[39m, X, y, reset\u001b[38;5;241m=\u001b[39m\u001b[38;5;28;01mTrue\u001b[39;00m):\n\u001b[0;32m    582\u001b[0m     \u001b[38;5;124;03m\"\"\"Validate X and y in fit methods.\"\"\"\u001b[39;00m\n\u001b[1;32m--> 583\u001b[0m     \u001b[38;5;28;01mreturn\u001b[39;00m \u001b[38;5;28;43mself\u001b[39;49m\u001b[38;5;241;43m.\u001b[39;49m\u001b[43m_validate_data\u001b[49m\u001b[43m(\u001b[49m\u001b[43mX\u001b[49m\u001b[43m,\u001b[49m\u001b[43m \u001b[49m\u001b[43my\u001b[49m\u001b[43m,\u001b[49m\u001b[43m \u001b[49m\u001b[43maccept_sparse\u001b[49m\u001b[38;5;241;43m=\u001b[39;49m\u001b[38;5;124;43m\"\u001b[39;49m\u001b[38;5;124;43mcsr\u001b[39;49m\u001b[38;5;124;43m\"\u001b[39;49m\u001b[43m,\u001b[49m\u001b[43m \u001b[49m\u001b[43mreset\u001b[49m\u001b[38;5;241;43m=\u001b[39;49m\u001b[43mreset\u001b[49m\u001b[43m)\u001b[49m\n",
      "File \u001b[1;32mC:\\ProgramData\\anaconda3\\lib\\site-packages\\sklearn\\base.py:565\u001b[0m, in \u001b[0;36mBaseEstimator._validate_data\u001b[1;34m(self, X, y, reset, validate_separately, **check_params)\u001b[0m\n\u001b[0;32m    563\u001b[0m         y \u001b[38;5;241m=\u001b[39m check_array(y, input_name\u001b[38;5;241m=\u001b[39m\u001b[38;5;124m\"\u001b[39m\u001b[38;5;124my\u001b[39m\u001b[38;5;124m\"\u001b[39m, \u001b[38;5;241m*\u001b[39m\u001b[38;5;241m*\u001b[39mcheck_y_params)\n\u001b[0;32m    564\u001b[0m     \u001b[38;5;28;01melse\u001b[39;00m:\n\u001b[1;32m--> 565\u001b[0m         X, y \u001b[38;5;241m=\u001b[39m check_X_y(X, y, \u001b[38;5;241m*\u001b[39m\u001b[38;5;241m*\u001b[39mcheck_params)\n\u001b[0;32m    566\u001b[0m     out \u001b[38;5;241m=\u001b[39m X, y\n\u001b[0;32m    568\u001b[0m \u001b[38;5;28;01mif\u001b[39;00m \u001b[38;5;129;01mnot\u001b[39;00m no_val_X \u001b[38;5;129;01mand\u001b[39;00m check_params\u001b[38;5;241m.\u001b[39mget(\u001b[38;5;124m\"\u001b[39m\u001b[38;5;124mensure_2d\u001b[39m\u001b[38;5;124m\"\u001b[39m, \u001b[38;5;28;01mTrue\u001b[39;00m):\n",
      "File \u001b[1;32mC:\\ProgramData\\anaconda3\\lib\\site-packages\\sklearn\\utils\\validation.py:1122\u001b[0m, in \u001b[0;36mcheck_X_y\u001b[1;34m(X, y, accept_sparse, accept_large_sparse, dtype, order, copy, force_all_finite, ensure_2d, allow_nd, multi_output, ensure_min_samples, ensure_min_features, y_numeric, estimator)\u001b[0m\n\u001b[0;32m   1102\u001b[0m     \u001b[38;5;28;01mraise\u001b[39;00m \u001b[38;5;167;01mValueError\u001b[39;00m(\n\u001b[0;32m   1103\u001b[0m         \u001b[38;5;124mf\u001b[39m\u001b[38;5;124m\"\u001b[39m\u001b[38;5;132;01m{\u001b[39;00mestimator_name\u001b[38;5;132;01m}\u001b[39;00m\u001b[38;5;124m requires y to be passed, but the target y is None\u001b[39m\u001b[38;5;124m\"\u001b[39m\n\u001b[0;32m   1104\u001b[0m     )\n\u001b[0;32m   1106\u001b[0m X \u001b[38;5;241m=\u001b[39m check_array(\n\u001b[0;32m   1107\u001b[0m     X,\n\u001b[0;32m   1108\u001b[0m     accept_sparse\u001b[38;5;241m=\u001b[39maccept_sparse,\n\u001b[1;32m   (...)\u001b[0m\n\u001b[0;32m   1119\u001b[0m     input_name\u001b[38;5;241m=\u001b[39m\u001b[38;5;124m\"\u001b[39m\u001b[38;5;124mX\u001b[39m\u001b[38;5;124m\"\u001b[39m,\n\u001b[0;32m   1120\u001b[0m )\n\u001b[1;32m-> 1122\u001b[0m y \u001b[38;5;241m=\u001b[39m \u001b[43m_check_y\u001b[49m\u001b[43m(\u001b[49m\u001b[43my\u001b[49m\u001b[43m,\u001b[49m\u001b[43m \u001b[49m\u001b[43mmulti_output\u001b[49m\u001b[38;5;241;43m=\u001b[39;49m\u001b[43mmulti_output\u001b[49m\u001b[43m,\u001b[49m\u001b[43m \u001b[49m\u001b[43my_numeric\u001b[49m\u001b[38;5;241;43m=\u001b[39;49m\u001b[43my_numeric\u001b[49m\u001b[43m,\u001b[49m\u001b[43m \u001b[49m\u001b[43mestimator\u001b[49m\u001b[38;5;241;43m=\u001b[39;49m\u001b[43mestimator\u001b[49m\u001b[43m)\u001b[49m\n\u001b[0;32m   1124\u001b[0m check_consistent_length(X, y)\n\u001b[0;32m   1126\u001b[0m \u001b[38;5;28;01mreturn\u001b[39;00m X, y\n",
      "File \u001b[1;32mC:\\ProgramData\\anaconda3\\lib\\site-packages\\sklearn\\utils\\validation.py:1143\u001b[0m, in \u001b[0;36m_check_y\u001b[1;34m(y, multi_output, y_numeric, estimator)\u001b[0m\n\u001b[0;32m   1141\u001b[0m \u001b[38;5;28;01melse\u001b[39;00m:\n\u001b[0;32m   1142\u001b[0m     estimator_name \u001b[38;5;241m=\u001b[39m _check_estimator_name(estimator)\n\u001b[1;32m-> 1143\u001b[0m     y \u001b[38;5;241m=\u001b[39m \u001b[43mcolumn_or_1d\u001b[49m\u001b[43m(\u001b[49m\u001b[43my\u001b[49m\u001b[43m,\u001b[49m\u001b[43m \u001b[49m\u001b[43mwarn\u001b[49m\u001b[38;5;241;43m=\u001b[39;49m\u001b[38;5;28;43;01mTrue\u001b[39;49;00m\u001b[43m)\u001b[49m\n\u001b[0;32m   1144\u001b[0m     _assert_all_finite(y, input_name\u001b[38;5;241m=\u001b[39m\u001b[38;5;124m\"\u001b[39m\u001b[38;5;124my\u001b[39m\u001b[38;5;124m\"\u001b[39m, estimator_name\u001b[38;5;241m=\u001b[39mestimator_name)\n\u001b[0;32m   1145\u001b[0m     _ensure_no_complex_data(y)\n",
      "File \u001b[1;32mC:\\ProgramData\\anaconda3\\lib\\site-packages\\sklearn\\utils\\validation.py:1202\u001b[0m, in \u001b[0;36mcolumn_or_1d\u001b[1;34m(y, dtype, warn)\u001b[0m\n\u001b[0;32m   1193\u001b[0m         warnings\u001b[38;5;241m.\u001b[39mwarn(\n\u001b[0;32m   1194\u001b[0m             \u001b[38;5;124m\"\u001b[39m\u001b[38;5;124mA column-vector y was passed when a 1d array was\u001b[39m\u001b[38;5;124m\"\u001b[39m\n\u001b[0;32m   1195\u001b[0m             \u001b[38;5;124m\"\u001b[39m\u001b[38;5;124m expected. Please change the shape of y to \u001b[39m\u001b[38;5;124m\"\u001b[39m\n\u001b[1;32m   (...)\u001b[0m\n\u001b[0;32m   1198\u001b[0m             stacklevel\u001b[38;5;241m=\u001b[39m\u001b[38;5;241m2\u001b[39m,\n\u001b[0;32m   1199\u001b[0m         )\n\u001b[0;32m   1200\u001b[0m     \u001b[38;5;28;01mreturn\u001b[39;00m _asarray_with_order(xp\u001b[38;5;241m.\u001b[39mreshape(y, \u001b[38;5;241m-\u001b[39m\u001b[38;5;241m1\u001b[39m), order\u001b[38;5;241m=\u001b[39m\u001b[38;5;124m\"\u001b[39m\u001b[38;5;124mC\u001b[39m\u001b[38;5;124m\"\u001b[39m, xp\u001b[38;5;241m=\u001b[39mxp)\n\u001b[1;32m-> 1202\u001b[0m \u001b[38;5;28;01mraise\u001b[39;00m \u001b[38;5;167;01mValueError\u001b[39;00m(\n\u001b[0;32m   1203\u001b[0m     \u001b[38;5;124m\"\u001b[39m\u001b[38;5;124my should be a 1d array, got an array of shape \u001b[39m\u001b[38;5;132;01m{}\u001b[39;00m\u001b[38;5;124m instead.\u001b[39m\u001b[38;5;124m\"\u001b[39m\u001b[38;5;241m.\u001b[39mformat(shape)\n\u001b[0;32m   1204\u001b[0m )\n",
      "\u001b[1;31mValueError\u001b[0m: y should be a 1d array, got an array of shape (5031, 6) instead."
     ]
    }
   ],
   "source": [
    "nb = MultinomialNB()\n",
    "train_model(nb)"
   ]
  },
  {
   "cell_type": "code",
   "execution_count": 173,
   "id": "7e61bc20",
   "metadata": {},
   "outputs": [
    {
     "name": "stdout",
     "output_type": "stream",
     "text": [
      "Model: \"sequential_2\"\n",
      "_________________________________________________________________\n",
      " Layer (type)                Output Shape              Param #   \n",
      "=================================================================\n",
      " embedding_1 (Embedding)     (None, 100, 300)          7500000   \n",
      "                                                                 \n",
      " conv1d_1 (Conv1D)           (None, 98, 200)           180200    \n",
      "                                                                 \n",
      " bidirectional_2 (Bidirectio  (None, 98, 64)           59648     \n",
      " nal)                                                            \n",
      "                                                                 \n",
      " dropout_1 (Dropout)         (None, 98, 64)            0         \n",
      "                                                                 \n",
      " bidirectional_3 (Bidirectio  (None, 64)               24832     \n",
      " nal)                                                            \n",
      "                                                                 \n",
      " dense_3 (Dense)             (None, 50)                3250      \n",
      "                                                                 \n",
      " flatten_1 (Flatten)         (None, 50)                0         \n",
      "                                                                 \n",
      " dense_4 (Dense)             (None, 100)               5100      \n",
      "                                                                 \n",
      " dense_5 (Dense)             (None, 6)                 606       \n",
      "                                                                 \n",
      "=================================================================\n",
      "Total params: 7,773,636\n",
      "Trainable params: 7,773,636\n",
      "Non-trainable params: 0\n",
      "_________________________________________________________________\n"
     ]
    }
   ],
   "source": [
    "with tf.device('/gpu:0'):\n",
    "    model= Sequential()\n",
    "    model.add(Embedding(vocab_size, embedding_dim, input_length=max_length))\n",
    "    #model.add(Conv1D(200, kernel_size=3, activation = \"relu\"))\n",
    "    model.add(Conv1D(200, kernel_size=3, activation = \"tanh\"))\n",
    "    #model.add(Conv1D(200, kernel_size=3, activation = \"sigmoid\"))\n",
    "    model.add(Bidirectional(LSTM(32, return_sequences=True)))\n",
    "    model.add(Dropout(0.02))\n",
    "    model.add(Bidirectional(LSTM(32)))\n",
    "    #model.add(Dense(50, activation='relu'))\n",
    "    model.add(Dense(50, activation='tanh'))\n",
    "    #model.add(Dense(50, activation='sigmoid'))\n",
    "    model.add(Flatten())\n",
    "    #l2 regularizer\n",
    "    #model.add(Dense(100,kernel_regularizer=regularizers.l2(0.01),activation=\"relu\"))\n",
    "    model.add(Dense(100,kernel_regularizer=regularizers.l2(0.01),activation=\"tanh\"))\n",
    "    #model.add(Dense(100,kernel_regularizer=regularizers.l2(0.01),activation=\"sigmoid\"))\n",
    "    model.add(Dense(6, activation='softmax'))\n",
    "    #sgd= SGD(lr=0.0001,decay=1e-6,momentum=0.9,nesterov=True)\n",
    "    adam=Adam(learning_rate=0.01,beta_1=0.9,beta_2=0.999,epsilon=1e-07,amsgrad=False)\n",
    "    model.summary()\n",
    "    model.compile(loss='categorical_crossentropy',optimizer=adam,metrics=['accuracy'])\n",
    "    \n",
    "#     model = Sequential()\n",
    "#     model.add(Embedding(vocab_size, embedding_dim, input_length=max_length))\n",
    "#     model.add(Conv1D(hp.Int('conv_units', min_value=32, max_value=256, step=32), kernel_size=3, activation='tanh'))\n",
    "#     model.add(Bidirectional(LSTM(hp.Int('lstm_units', min_value=32, max_value=128, step=32), return_sequences=True)))\n",
    "#     model.add(Dropout(hp.Float('dropout_rate', min_value=0.2, max_value=0.5, step=0.1)))\n",
    "#     model.add(Bidirectional(LSTM(hp.Int('lstm_units', min_value=32, max_value=128, step=32))))\n",
    "#     model.add(Dense(hp.Int('dense_units', min_value=32, max_value=128, step=32), activation='tanh'))\n",
    "#     model.add(Dense(6, activation='softmax'))"
   ]
  },
  {
   "cell_type": "code",
   "execution_count": 123,
   "id": "8c82cd05",
   "metadata": {},
   "outputs": [
    {
     "name": "stdout",
     "output_type": "stream",
     "text": [
      "Epoch 1/5\n",
      "20/20 [==============================] - 126s 6s/step - loss: 2.0467 - accuracy: 0.3105 - val_loss: 1.6422 - val_accuracy: 0.4340\n",
      "Epoch 2/5\n",
      "20/20 [==============================] - 113s 6s/step - loss: 1.4246 - accuracy: 0.5257 - val_loss: 1.5360 - val_accuracy: 0.4595\n",
      "Epoch 3/5\n",
      "20/20 [==============================] - 106s 5s/step - loss: 1.0518 - accuracy: 0.6372 - val_loss: 1.6277 - val_accuracy: 0.4571\n",
      "Epoch 4/5\n",
      "20/20 [==============================] - 106s 5s/step - loss: 0.8110 - accuracy: 0.7124 - val_loss: 1.7255 - val_accuracy: 0.4459\n",
      "Epoch 5/5\n",
      "20/20 [==============================] - 105s 5s/step - loss: 0.6408 - accuracy: 0.7597 - val_loss: 2.0757 - val_accuracy: 0.4380\n"
     ]
    }
   ],
   "source": [
    "    history=model.fit(padded,train_labels,epochs=5,batch_size=256,validation_data=(testing_padded,test_labels),use_multiprocessing=True, workers=8)"
   ]
  },
  {
   "cell_type": "code",
   "execution_count": 124,
   "id": "25a6e0d0",
   "metadata": {},
   "outputs": [
    {
     "name": "stdout",
     "output_type": "stream",
     "text": [
      "dict_keys(['loss', 'accuracy', 'val_loss', 'val_accuracy'])\n"
     ]
    },
    {
     "data": {
      "image/png": "[encoded data removed]",
      "text/plain": [
       "<Figure size 640x480 with 1 Axes>"
      ]
     },
     "metadata": {},
     "output_type": "display_data"
    },
    {
     "data": {
      "image/png": "[encoded data removed]",
      "text/plain": [
       "<Figure size 640x480 with 1 Axes>"
      ]
     },
     "metadata": {},
     "output_type": "display_data"
    }
   ],
   "source": [
    "print(history.history.keys())\n",
    "loss = history.history['loss']\n",
    "val_loss = history.history['val_loss']\n",
    "plt.plot(loss)\n",
    "plt.plot(val_loss)\n",
    "plt.title('model loss')\n",
    "plt.ylabel('loss')\n",
    "plt.xlabel('epoch')\n",
    "plt.legend(['loss', 'val_loss'])\n",
    "plt.show()\n",
    "\n",
    "accuracy = history.history['accuracy']\n",
    "val_accuracy= history.history['val_accuracy']\n",
    "plt.plot(accuracy)\n",
    "plt.plot(val_accuracy)\n",
    "plt.title('model accuracy')\n",
    "plt.ylabel('accuracy')\n",
    "plt.xlabel('epoch')\n",
    "plt.legend(['accuracy', 'val_accuracy'])\n",
    "plt.show()"
   ]
  },
  {
   "cell_type": "code",
   "execution_count": 20,
   "id": "c7cf55e5",
   "metadata": {},
   "outputs": [
    {
     "name": "stdout",
     "output_type": "stream",
     "text": [
      "['বায়বীয় সরকার যে তাই বায়বীয় তেই বেশি ভয়'\n",
      " 'তার পরেও বলবো ওরা বালোনা গুস খোর'\n",
      " 'এভাবেই শত শত প্রতিবাদীরা আপনার দলে যোগ দেবে যেভাবে মুক্তিযোদ্ধারা দেশকে স্বাধীন করেছিলোজাতির পিতা শেখ মুজিব ও স্বাধীনতার ঘোসক জিয়াউর রহমানের মত আপনার এ ডাকে একদিন বাংগালী ঠিকই জেগে উঠবে আল্লাহ আপনাকে লোভ ও লালসা থেকে দূরে রাখুকএটাই আমার কামনা      ইউসুফস্যার'\n",
      " ...\n",
      " 'ভাই জইএস্তিক নাকি কইসে  থেকে আপ্নাকে সবার   দিতে জই এর চেয়ে এখন আপ্নার পপুলারিতি বেশি ওর হিন্সা হসসে মনে হই'\n",
      " 'যতদুর পারে আপনার শক্রি দিয়ে ওর বাবার কাছে পৌছিয়ে দিবেন স্যার'\n",
      " 'হাহাহা লোল সরকার তো তোর দল']\n",
      "['disgust' 'disgust' 'happy' ... 'sad' 'fear' 'happy']\n",
      "['হায় হায় আপনার নামতো আজই রাজাকারের লিস্টে চলে যাবে'\n",
      " 'লেখেন ভালোই ক্যামেরার সামনে তোতলান ক্যা'\n",
      " 'এতদিন পরে বুঝতে পারার জন্য আপনাকে ধন্যবাদ' ...\n",
      " 'ভাই এইসব জানোয়ারের বাচ্চা'\n",
      " 'আজ মুশফিকখুর আর মাহামুদুলা বাংলা দেশের যেই শরবো নাশ টা করলো এটা কখনো বাংলার জাতি কনো দিন মনে নিতে পারবেনা এতো তারা তারি করলো কেনো আমর তো মনে হয় এতে কনো গাবলা আছে তালে বলে ই রান না হয় এটা মানে হয় না'\n",
      " 'ধন্যবাদ']\n",
      "['angry' 'angry' 'happy' ... 'angry' 'sad' 'happy']\n"
     ]
    }
   ],
   "source": [
    "train_sentences=train1['Sentence'].values\n",
    "train_labels=train1['Status'].values\n",
    "\n",
    "test_sentences=test1['Sentence'].values\n",
    "test_labels=test1['Status'].values\n",
    "\n",
    "print(train_sentences)\n",
    "print(train_labels)\n",
    "print(test_sentences)\n",
    "print(test_labels)"
   ]
  },
  {
   "cell_type": "code",
   "execution_count": 102,
   "id": "7c2a57c6",
   "metadata": {
    "scrolled": false
   },
   "outputs": [
    {
     "name": "stdout",
     "output_type": "stream",
     "text": [
      "Trial 5 Complete [00h 18m 01s]\n",
      "val_accuracy: 0.46899840235710144\n",
      "\n",
      "Best val_accuracy So Far: 0.4793322682380676\n",
      "Total elapsed time: 00h 41m 36s\n",
      "INFO:tensorflow:Oracle triggered exit\n"
     ]
    }
   ],
   "source": [
    "import numpy as np\n",
    "from tensorflow.keras.preprocessing.text import Tokenizer\n",
    "from tensorflow.keras.preprocessing.sequence import pad_sequences\n",
    "from tensorflow.keras.utils import to_categorical\n",
    "from tensorflow.keras.models import Sequential\n",
    "from tensorflow.keras.layers import Embedding, Conv1D, Bidirectional, LSTM, Dense, Dropout, Flatten\n",
    "from tensorflow.keras.optimizers import Adam\n",
    "\n",
    "# Assuming you have already imported the necessary libraries and defined the model function 'build_model'\n",
    "\n",
    "# Preprocess the text data and convert it to sequences\n",
    "tokenizer = Tokenizer()\n",
    "tokenizer.fit_on_texts(train_sentences)\n",
    "\n",
    "train_sequences = tokenizer.texts_to_sequences(train_sentences)\n",
    "test_sequences = tokenizer.texts_to_sequences(test_sentences)\n",
    "\n",
    "# Padding sequences to the same length\n",
    "max_length = 100  # Choose an appropriate maximum sequence length\n",
    "train_sequences = pad_sequences(train_sequences, maxlen=max_length)\n",
    "test_sequences = pad_sequences(test_sequences, maxlen=max_length)\n",
    "\n",
    "# Convert labels to integers\n",
    "label_to_index = {label: index for index, label in enumerate(np.unique(train_labels))}\n",
    "train_labels_indexed = np.array([label_to_index[label] for label in train_labels])\n",
    "test_labels_indexed = np.array([label_to_index[label] for label in test_labels])\n",
    "\n",
    "# Convert labels to one-hot encoded format\n",
    "num_classes = len(np.unique(train_labels_indexed))\n",
    "train_labels_onehot = to_categorical(train_labels_indexed, num_classes=num_classes)\n",
    "test_labels_onehot = to_categorical(test_labels_indexed, num_classes=num_classes)\n",
    "\n",
    "# Define the model building function with hyperparameters\n",
    "def build_model(hp):\n",
    "    model = Sequential()\n",
    "    model.add(Embedding(vocab_size, embedding_dim, input_length=max_length))\n",
    "    model.add(Conv1D(hp.Int('conv_units', min_value=32, max_value=256, step=32), kernel_size=3, activation='tanh'))\n",
    "    model.add(Bidirectional(LSTM(hp.Int('lstm_units', min_value=32, max_value=128, step=32), return_sequences=True)))\n",
    "    model.add(Dropout(hp.Float('dropout_rate', min_value=0.2, max_value=0.5, step=0.1)))\n",
    "    model.add(Bidirectional(LSTM(hp.Int('lstm_units', min_value=32, max_value=128, step=32))))\n",
    "    model.add(Dense(hp.Int('dense_units', min_value=32, max_value=128, step=32), activation='tanh'))\n",
    "    model.add(Dense(6, activation='softmax'))\n",
    "    \n",
    "    adam = Adam(learning_rate=hp.Choice('learning_rate', values=[1e-2, 1e-3, 1e-4]))\n",
    "    model.compile(loss='categorical_crossentropy', optimizer=adam, metrics=['accuracy'])\n",
    "    return model\n",
    "\n",
    "# Now you can use the processed data with Keras Tuner\n",
    "tuner = RandomSearch(\n",
    "    build_model,\n",
    "    objective='val_accuracy',\n",
    "    max_trials=5,\n",
    "    executions_per_trial=1,\n",
    "    directory='tuner_directory'\n",
    ")\n",
    "\n",
    "# Start the hyperparameter search\n",
    "tuner.search(train_sequences, train_labels_onehot, epochs=5, validation_data=(test_sequences, test_labels_onehot))\n",
    "\n",
    "# Get the optimal hyperparameters\n",
    "best_hyperparameters = tuner.get_best_hyperparameters(num_trials=1)[0]\n"
   ]
  },
  {
   "cell_type": "code",
   "execution_count": 105,
   "id": "7c81844a",
   "metadata": {},
   "outputs": [
    {
     "name": "stdout",
     "output_type": "stream",
     "text": [
      "Best Hyperparameters:\n",
      "Learning Rate: 0.01\n",
      "Convolution Units: 32\n",
      "LSTM Units: 32\n",
      "Dropout Rate: 0.2\n",
      "Dense Units: 32\n"
     ]
    }
   ],
   "source": [
    "# Assuming you have retrieved the best hyperparameters list, which contains a single HyperParameters object\n",
    "best_hyperparameters = tuner.get_best_hyperparameters(num_trials=1)\n",
    "\n",
    "# Extract the HyperParameters object from the list\n",
    "best_hyperparameters = best_hyperparameters[0]\n",
    "\n",
    "# Access individual hyperparameters using the 'get' method\n",
    "learning_rate = best_hyperparameters.get('learning_rate')\n",
    "conv_units = best_hyperparameters.get('conv_units')\n",
    "lstm_units = best_hyperparameters.get('lstm_units')\n",
    "dropout_rate = best_hyperparameters.get('dropout_rate')\n",
    "dense_units = best_hyperparameters.get('dense_units')\n",
    "\n",
    "# Print the hyperparameter values\n",
    "print(\"Best Hyperparameters:\")\n",
    "print(\"Learning Rate:\", learning_rate)\n",
    "print(\"Convolution Units:\", conv_units)\n",
    "print(\"LSTM Units:\", lstm_units)\n",
    "print(\"Dropout Rate:\", dropout_rate)\n",
    "print(\"Dense Units:\", dense_units)\n"
   ]
  },
  {
   "cell_type": "code",
   "execution_count": 36,
   "id": "96fc6b14",
   "metadata": {},
   "outputs": [
    {
     "name": "stdout",
     "output_type": "stream",
     "text": [
      "40/40 [==============================] - 8s 133ms/step\n"
     ]
    },
    {
     "ename": "ValueError",
     "evalue": "Found input variables with inconsistent numbers of samples: [7548, 1258]",
     "output_type": "error",
     "traceback": [
      "\u001b[1;31m---------------------------------------------------------------------------\u001b[0m",
      "\u001b[1;31mValueError\u001b[0m                                Traceback (most recent call last)",
      "Cell \u001b[1;32mIn[36], line 53\u001b[0m\n\u001b[0;32m     50\u001b[0m y_pred_classes \u001b[38;5;241m=\u001b[39m np\u001b[38;5;241m.\u001b[39margmax(y_pred, axis\u001b[38;5;241m=\u001b[39m\u001b[38;5;241m1\u001b[39m)  \u001b[38;5;66;03m# Convert one-hot encoded predictions to class labels\u001b[39;00m\n\u001b[0;32m     52\u001b[0m \u001b[38;5;66;03m# Create the confusion matrix\u001b[39;00m\n\u001b[1;32m---> 53\u001b[0m confusion_mtx \u001b[38;5;241m=\u001b[39m \u001b[43mconfusion_matrix\u001b[49m\u001b[43m(\u001b[49m\u001b[43mtest_labels_indexed\u001b[49m\u001b[43m,\u001b[49m\u001b[43m \u001b[49m\u001b[43my_pred_classes\u001b[49m\u001b[43m)\u001b[49m\n\u001b[0;32m     55\u001b[0m \u001b[38;5;66;03m# Print the confusion matrix\u001b[39;00m\n\u001b[0;32m     56\u001b[0m \u001b[38;5;28mprint\u001b[39m(\u001b[38;5;124m\"\u001b[39m\u001b[38;5;124mConfusion Matrix:\u001b[39m\u001b[38;5;124m\"\u001b[39m)\n",
      "File \u001b[1;32mC:\\ProgramData\\anaconda3\\lib\\site-packages\\sklearn\\metrics\\_classification.py:317\u001b[0m, in \u001b[0;36mconfusion_matrix\u001b[1;34m(y_true, y_pred, labels, sample_weight, normalize)\u001b[0m\n\u001b[0;32m    232\u001b[0m \u001b[38;5;28;01mdef\u001b[39;00m \u001b[38;5;21mconfusion_matrix\u001b[39m(\n\u001b[0;32m    233\u001b[0m     y_true, y_pred, \u001b[38;5;241m*\u001b[39m, labels\u001b[38;5;241m=\u001b[39m\u001b[38;5;28;01mNone\u001b[39;00m, sample_weight\u001b[38;5;241m=\u001b[39m\u001b[38;5;28;01mNone\u001b[39;00m, normalize\u001b[38;5;241m=\u001b[39m\u001b[38;5;28;01mNone\u001b[39;00m\n\u001b[0;32m    234\u001b[0m ):\n\u001b[0;32m    235\u001b[0m     \u001b[38;5;124;03m\"\"\"Compute confusion matrix to evaluate the accuracy of a classification.\u001b[39;00m\n\u001b[0;32m    236\u001b[0m \n\u001b[0;32m    237\u001b[0m \u001b[38;5;124;03m    By definition a confusion matrix :math:`C` is such that :math:`C_{i, j}`\u001b[39;00m\n\u001b[1;32m   (...)\u001b[0m\n\u001b[0;32m    315\u001b[0m \u001b[38;5;124;03m    (0, 2, 1, 1)\u001b[39;00m\n\u001b[0;32m    316\u001b[0m \u001b[38;5;124;03m    \"\"\"\u001b[39;00m\n\u001b[1;32m--> 317\u001b[0m     y_type, y_true, y_pred \u001b[38;5;241m=\u001b[39m \u001b[43m_check_targets\u001b[49m\u001b[43m(\u001b[49m\u001b[43my_true\u001b[49m\u001b[43m,\u001b[49m\u001b[43m \u001b[49m\u001b[43my_pred\u001b[49m\u001b[43m)\u001b[49m\n\u001b[0;32m    318\u001b[0m     \u001b[38;5;28;01mif\u001b[39;00m y_type \u001b[38;5;129;01mnot\u001b[39;00m \u001b[38;5;129;01min\u001b[39;00m (\u001b[38;5;124m\"\u001b[39m\u001b[38;5;124mbinary\u001b[39m\u001b[38;5;124m\"\u001b[39m, \u001b[38;5;124m\"\u001b[39m\u001b[38;5;124mmulticlass\u001b[39m\u001b[38;5;124m\"\u001b[39m):\n\u001b[0;32m    319\u001b[0m         \u001b[38;5;28;01mraise\u001b[39;00m \u001b[38;5;167;01mValueError\u001b[39;00m(\u001b[38;5;124m\"\u001b[39m\u001b[38;5;132;01m%s\u001b[39;00m\u001b[38;5;124m is not supported\u001b[39m\u001b[38;5;124m\"\u001b[39m \u001b[38;5;241m%\u001b[39m y_type)\n",
      "File \u001b[1;32mC:\\ProgramData\\anaconda3\\lib\\site-packages\\sklearn\\metrics\\_classification.py:86\u001b[0m, in \u001b[0;36m_check_targets\u001b[1;34m(y_true, y_pred)\u001b[0m\n\u001b[0;32m     59\u001b[0m \u001b[38;5;28;01mdef\u001b[39;00m \u001b[38;5;21m_check_targets\u001b[39m(y_true, y_pred):\n\u001b[0;32m     60\u001b[0m     \u001b[38;5;124;03m\"\"\"Check that y_true and y_pred belong to the same classification task.\u001b[39;00m\n\u001b[0;32m     61\u001b[0m \n\u001b[0;32m     62\u001b[0m \u001b[38;5;124;03m    This converts multiclass or binary types to a common shape, and raises a\u001b[39;00m\n\u001b[1;32m   (...)\u001b[0m\n\u001b[0;32m     84\u001b[0m \u001b[38;5;124;03m    y_pred : array or indicator matrix\u001b[39;00m\n\u001b[0;32m     85\u001b[0m \u001b[38;5;124;03m    \"\"\"\u001b[39;00m\n\u001b[1;32m---> 86\u001b[0m     \u001b[43mcheck_consistent_length\u001b[49m\u001b[43m(\u001b[49m\u001b[43my_true\u001b[49m\u001b[43m,\u001b[49m\u001b[43m \u001b[49m\u001b[43my_pred\u001b[49m\u001b[43m)\u001b[49m\n\u001b[0;32m     87\u001b[0m     type_true \u001b[38;5;241m=\u001b[39m type_of_target(y_true, input_name\u001b[38;5;241m=\u001b[39m\u001b[38;5;124m\"\u001b[39m\u001b[38;5;124my_true\u001b[39m\u001b[38;5;124m\"\u001b[39m)\n\u001b[0;32m     88\u001b[0m     type_pred \u001b[38;5;241m=\u001b[39m type_of_target(y_pred, input_name\u001b[38;5;241m=\u001b[39m\u001b[38;5;124m\"\u001b[39m\u001b[38;5;124my_pred\u001b[39m\u001b[38;5;124m\"\u001b[39m)\n",
      "File \u001b[1;32mC:\\ProgramData\\anaconda3\\lib\\site-packages\\sklearn\\utils\\validation.py:397\u001b[0m, in \u001b[0;36mcheck_consistent_length\u001b[1;34m(*arrays)\u001b[0m\n\u001b[0;32m    395\u001b[0m uniques \u001b[38;5;241m=\u001b[39m np\u001b[38;5;241m.\u001b[39munique(lengths)\n\u001b[0;32m    396\u001b[0m \u001b[38;5;28;01mif\u001b[39;00m \u001b[38;5;28mlen\u001b[39m(uniques) \u001b[38;5;241m>\u001b[39m \u001b[38;5;241m1\u001b[39m:\n\u001b[1;32m--> 397\u001b[0m     \u001b[38;5;28;01mraise\u001b[39;00m \u001b[38;5;167;01mValueError\u001b[39;00m(\n\u001b[0;32m    398\u001b[0m         \u001b[38;5;124m\"\u001b[39m\u001b[38;5;124mFound input variables with inconsistent numbers of samples: \u001b[39m\u001b[38;5;132;01m%r\u001b[39;00m\u001b[38;5;124m\"\u001b[39m\n\u001b[0;32m    399\u001b[0m         \u001b[38;5;241m%\u001b[39m [\u001b[38;5;28mint\u001b[39m(l) \u001b[38;5;28;01mfor\u001b[39;00m l \u001b[38;5;129;01min\u001b[39;00m lengths]\n\u001b[0;32m    400\u001b[0m     )\n",
      "\u001b[1;31mValueError\u001b[0m: Found input variables with inconsistent numbers of samples: [7548, 1258]"
     ]
    }
   ],
   "source": [
    "import numpy as np\n",
    "from tensorflow.keras.preprocessing.text import Tokenizer\n",
    "from tensorflow.keras.preprocessing.sequence import pad_sequences\n",
    "from tensorflow.keras.utils import to_categorical\n",
    "from sklearn.metrics import confusion_matrix, classification_report\n",
    "import matplotlib.pyplot as plt\n",
    "from itertools import chain\n",
    "\n",
    "# Assuming you have already imported the necessary libraries and defined the model function 'build_model'\n",
    "\n",
    "# Preprocess the text data and convert it to sequences\n",
    "tokenizer = Tokenizer()\n",
    "tokenizer.fit_on_texts(train_sentences)\n",
    "\n",
    "train_sequences = tokenizer.texts_to_sequences(train_sentences)\n",
    "test_sequences = tokenizer.texts_to_sequences(test_sentences)\n",
    "\n",
    "# Padding sequences to the same length\n",
    "max_length = 100  # Choose an appropriate maximum sequence length\n",
    "train_sequences = pad_sequences(train_sequences, maxlen=max_length)\n",
    "test_sequences = pad_sequences(test_sequences, maxlen=max_length)\n",
    "\n",
    "# Flatten the lists of labels\n",
    "train_labels_list = list(chain.from_iterable(train_labels.tolist()))\n",
    "test_labels_list = list(chain.from_iterable(test_labels.tolist()))\n",
    "\n",
    "# Convert labels to integers\n",
    "label_to_index = {label: index for index, label in enumerate(np.unique(train_labels_list))}\n",
    "train_labels_indexed = np.array([label_to_index[label] for label in train_labels_list])\n",
    "test_labels_indexed = np.array([label_to_index[label] for label in test_labels_list])\n",
    "\n",
    "# Convert labels to one-hot encoded format\n",
    "num_classes = len(np.unique(train_labels_indexed))\n",
    "train_labels_onehot = to_categorical(train_labels_indexed, num_classes=num_classes)\n",
    "test_labels_onehot = to_categorical(test_labels_indexed, num_classes=num_classes)\n",
    "\n",
    "# Define the model building function with hyperparameters\n",
    "def build_model(hp):\n",
    "    # Build your model here, including the learning rate hyperparameter\n",
    "    adam = Adam(learning_rate=hp.Choice('learning_rate', values=[1e-2, 1e-3, 1e-4]))\n",
    "    model.compile(loss='categorical_crossentropy', optimizer=adam, metrics=['accuracy'])\n",
    "    return model\n",
    "\n",
    "# Assuming you have trained the model with the best hyperparameters using Keras Tuner\n",
    "# model = build_model(best_hyperparameters)\n",
    "# model.fit(train_sequences, train_labels_onehot, epochs=5, validation_data=(test_sequences, test_labels_onehot))\n",
    "\n",
    "# Make predictions on the test dataset\n",
    "y_pred = model.predict(test_sequences)\n",
    "y_pred_classes = np.argmax(y_pred, axis=1)  # Convert one-hot encoded predictions to class labels\n",
    "\n",
    "# Create the confusion matrix\n",
    "confusion_mtx = confusion_matrix(test_labels_indexed, y_pred_classes)\n",
    "\n",
    "# Print the confusion matrix\n",
    "print(\"Confusion Matrix:\")\n",
    "print(confusion_mtx)\n",
    "\n",
    "# Visualize the confusion matrix as a heatmap\n",
    "plt.imshow(confusion_mtx, interpolation='nearest', cmap=plt.cm.Blues)\n",
    "plt.title('Confusion Matrix')\n",
    "plt.colorbar()\n",
    "tick_marks = np.arange(num_classes)\n",
    "plt.xticks(tick_marks, np.unique(train_labels_list), rotation=45)\n",
    "plt.yticks(tick_marks, np.unique(train_labels_list))\n",
    "plt.xlabel('Predicted Label')\n",
    "plt.ylabel('True Label')\n",
    "plt.show()\n",
    "\n",
    "# Generate the classification report\n",
    "print(\"Classification Report:\")\n",
    "print(classification_report(test_labels_indexed, y_pred_classes))\n"
   ]
  },
  {
   "cell_type": "code",
   "execution_count": null,
   "id": "6068a410",
   "metadata": {},
   "outputs": [],
   "source": []
  }
 ],
 "metadata": {
  "kernelspec": {
   "display_name": "Python 3 (ipykernel)",
   "language": "python",
   "name": "python3"
  },
  "language_info": {
   "codemirror_mode": {
    "name": "ipython",
    "version": 3
   },
   "file_extension": ".py",
   "mimetype": "text/x-python",
   "name": "python",
   "nbconvert_exporter": "python",
   "pygments_lexer": "ipython3",
   "version": "3.10.9"
  }
 },
 "nbformat": 4,
 "nbformat_minor": 5
}
