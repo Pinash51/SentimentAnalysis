{
 "cells": [
  {
   "cell_type": "code",
   "execution_count": 1,
   "metadata": {},
   "outputs": [],
   "source": [
    "import pandas as pd\n",
    "import numpy as np\n",
    "import re\n",
    "import re as sub\n",
    "import seaborn as sns\n",
    "from sklearn.feature_extraction.text import TfidfVectorizer\n",
    "from sklearn.model_selection import train_test_split\n",
    "from sklearn.metrics import accuracy_score,confusion_matrix, classification_report\n",
    "import matplotlib.pyplot as plt"
   ]
  },
  {
   "cell_type": "code",
   "execution_count": 78,
   "metadata": {},
   "outputs": [],
   "source": [
    "\n",
    "try:\n",
    "    with open('corpus_all.txt', 'r', encoding='utf-8') as file:\n",
    "        lines = []  # Empty list to store the lines\n",
    "        for line in file:\n",
    "            lines.append(line.strip())  # Append the line to the list, removing any leading/trailing whitespace\n",
    "    \n",
    "    with open('stopwords-bn.txt', 'r', encoding='utf-8') as test:\n",
    "        stopwords_bn = test.readlines()\n",
    "        # the above stopwords contains newline \\n\n",
    "        stop_bn = []\n",
    "\n",
    "        for word in stopwords_bn:\n",
    "            stop_bn.append(word.rstrip(\"\\r\\n\"))\n",
    "            \n",
    "except FileNotFoundError:\n",
    "    print(\"File not found. Please check the file path and try again.\")\n",
    "\n",
    "#file_path = 'corpus_all.txt'  # Replace with the actual path to your text file\n",
    "first_words = []  # Empty list to store the first words\n",
    "\n",
    "try:\n",
    "    for line in lines:\n",
    "        words = line.strip().split()  # Split the line into words\n",
    "        if words:\n",
    "            first_word = words[0]  # Get the first word\n",
    "            first_words.append(first_word)  # Append the first word to the list\n",
    "\n",
    "except FileNotFoundError:\n",
    "    print(\"File not found. Please check the file path and try again.\")\n",
    "\n",
    "\n",
    "# Define the status levels\n",
    "status_levels = [\"happy\",\"angry\",\"fear\",\"disgust\",\"sad\",\"surprise\",]\n",
    "\n",
    "# Initialize a list to store the extracted status levels and sentences\n",
    "extracted_data = []\n",
    "\n",
    "# Iterate over the texts\n",
    "for text in lines:\n",
    "    # Initialize variables to store the extracted status level and sentence\n",
    "    status = \"\"\n",
    "    sentence = \"\"\n",
    "\n",
    "    # Iterate over the status levels\n",
    "    for level in status_levels:\n",
    "        if level in text:\n",
    "            # Split the text based on the status level\n",
    "            split_text = text.split(level, 1)\n",
    "\n",
    "            # Extract the status level and sentence\n",
    "            status = level\n",
    "            sentence = split_text[1].strip()\n",
    "            break\n",
    "\n",
    "    # Append the extracted status level and sentence to the list\n",
    "    extracted_data.append({\"Status\": status, \"Sentence\": sentence})\n",
    "    \n",
    "df = pd.DataFrame(extracted_data)"
   ]
  },
  {
   "cell_type": "code",
   "execution_count": 82,
   "metadata": {},
   "outputs": [],
   "source": [
    "\n",
    "def text_pre_processing(text):\n",
    "    #remove stop words from the text\n",
    "    text = ' '.join(word for word in text.split() if word not in stop_bn)\n",
    "    #remove punctuation from the text\n",
    "    text = re.sub(r'[^\\w\\s]', '', text)\n",
    "    #remove numbers from the text\n",
    "    text = re.sub(r'[0-9]', '', text)\n",
    "    #remove extra spaces from the text\n",
    "    text = re.sub(' +', ' ', text)\n",
    "    return text\n",
    "\n",
    "df['Sentence'] = df['Sentence'].apply(text_pre_processing)\n",
    "\n",
    "# Data convert categorical to numerical\n",
    "df['Status'] = df['Status'].map({'happy': 0, 'angry': 1, 'fear': 2, 'disgust': 3, 'sad': 4, 'surprise': 5})"
   ]
  },
  {
   "cell_type": "code",
   "execution_count": 83,
   "metadata": {},
   "outputs": [
    {
     "data": {
      "text/html": [
       "<div>\n",
       "<style scoped>\n",
       "    .dataframe tbody tr th:only-of-type {\n",
       "        vertical-align: middle;\n",
       "    }\n",
       "\n",
       "    .dataframe tbody tr th {\n",
       "        vertical-align: top;\n",
       "    }\n",
       "\n",
       "    .dataframe thead th {\n",
       "        text-align: right;\n",
       "    }\n",
       "</style>\n",
       "<table border=\"1\" class=\"dataframe\">\n",
       "  <thead>\n",
       "    <tr style=\"text-align: right;\">\n",
       "      <th></th>\n",
       "      <th>Status</th>\n",
       "      <th>Sentence</th>\n",
       "      <th>word_count</th>\n",
       "      <th>char_count</th>\n",
       "      <th>avg_word_length</th>\n",
       "      <th>stopwords</th>\n",
       "      <th>numerics</th>\n",
       "      <th>first_word_length</th>\n",
       "    </tr>\n",
       "  </thead>\n",
       "  <tbody>\n",
       "    <tr>\n",
       "      <th>0</th>\n",
       "      <td>4</td>\n",
       "      <td>বরবর মননয পরধনমনতর গণপরজতনতর বলদশ সরকর মননয পর...</td>\n",
       "      <td>251</td>\n",
       "      <td>1236</td>\n",
       "      <td>4.924303</td>\n",
       "      <td>5</td>\n",
       "      <td>0</td>\n",
       "      <td>4.0</td>\n",
       "    </tr>\n",
       "    <tr>\n",
       "      <th>1</th>\n",
       "      <td>4</td>\n",
       "      <td>তদনত লভ তদনতর হয়ছ মন রজনতক শকতর তদনত পরব সমনয ...</td>\n",
       "      <td>32</td>\n",
       "      <td>140</td>\n",
       "      <td>4.375000</td>\n",
       "      <td>0</td>\n",
       "      <td>0</td>\n",
       "      <td>4.0</td>\n",
       "    </tr>\n",
       "    <tr>\n",
       "      <th>2</th>\n",
       "      <td>1</td>\n",
       "      <td>দশক মধযম আয়র দশ রপনতর মগর মলকর দশ পরনত হচছ</td>\n",
       "      <td>10</td>\n",
       "      <td>42</td>\n",
       "      <td>4.200000</td>\n",
       "      <td>0</td>\n",
       "      <td>0</td>\n",
       "      <td>3.0</td>\n",
       "    </tr>\n",
       "    <tr>\n",
       "      <th>3</th>\n",
       "      <td>0</td>\n",
       "      <td>গরবত মসলম সগরম যদধ চর রণবর আললহ ছর নচ শর নরয় ত...</td>\n",
       "      <td>14</td>\n",
       "      <td>59</td>\n",
       "      <td>4.214286</td>\n",
       "      <td>0</td>\n",
       "      <td>0</td>\n",
       "      <td>4.0</td>\n",
       "    </tr>\n",
       "    <tr>\n",
       "      <th>4</th>\n",
       "      <td>1</td>\n",
       "      <td>রতর বল কসর সকল</td>\n",
       "      <td>4</td>\n",
       "      <td>14</td>\n",
       "      <td>3.500000</td>\n",
       "      <td>0</td>\n",
       "      <td>0</td>\n",
       "      <td>3.0</td>\n",
       "    </tr>\n",
       "  </tbody>\n",
       "</table>\n",
       "</div>"
      ],
      "text/plain": [
       "   Status                                           Sentence  word_count  \\\n",
       "0       4  বরবর মননয পরধনমনতর গণপরজতনতর বলদশ সরকর মননয পর...         251   \n",
       "1       4  তদনত লভ তদনতর হয়ছ মন রজনতক শকতর তদনত পরব সমনয ...          32   \n",
       "2       1         দশক মধযম আয়র দশ রপনতর মগর মলকর দশ পরনত হচছ          10   \n",
       "3       0  গরবত মসলম সগরম যদধ চর রণবর আললহ ছর নচ শর নরয় ত...          14   \n",
       "4       1                                     রতর বল কসর সকল           4   \n",
       "\n",
       "   char_count  avg_word_length  stopwords  numerics  first_word_length  \n",
       "0        1236         4.924303          5         0                4.0  \n",
       "1         140         4.375000          0         0                4.0  \n",
       "2          42         4.200000          0         0                3.0  \n",
       "3          59         4.214286          0         0                4.0  \n",
       "4          14         3.500000          0         0                3.0  "
      ]
     },
     "execution_count": 83,
     "metadata": {},
     "output_type": "execute_result"
    }
   ],
   "source": [
    "# show the number of observations for the length of 1st word\n",
    "df['first_word_length'] = df['Sentence'].str.split().str[0].str.len()\n",
    "\n",
    "# show the number of words for each observation\n",
    "df['word_count'] = df['Sentence'].str.split().str.len()\n",
    "\n",
    "# show the number of characters for each observation\n",
    "df['char_count'] = df['Sentence'].str.len()\n",
    "\n",
    "# show the average word length\n",
    "df['avg_word_length'] = df['char_count'] / df['word_count']\n",
    "\n",
    "# show the number of stopwords\n",
    "df['stopwords'] = df['Sentence'].apply(lambda x: len([x for x in x.split() if x in stop_bn]))\n",
    "\n",
    "# show the number of numerics\n",
    "df['numerics'] = df['Sentence'].apply(lambda x: len([x for x in x.split() if x.isdigit()]))\n",
    "\n",
    "df.head()\n"
   ]
  },
  {
   "cell_type": "code",
   "execution_count": 84,
   "metadata": {},
   "outputs": [],
   "source": [
    "df.drop(['first_word_length'], axis=1, inplace=True)\n",
    "df.drop(['word_count'], axis=1, inplace=True)\n",
    "df.drop(['char_count'], axis=1, inplace=True)\n",
    "df.drop(['avg_word_length'], axis=1, inplace=True)\n",
    "df.drop(['stopwords'], axis=1, inplace=True)\n",
    "df.drop(['numerics'], axis=1, inplace=True)\n"
   ]
  },
  {
   "cell_type": "code",
   "execution_count": 85,
   "metadata": {},
   "outputs": [
    {
     "data": {
      "text/html": [
       "<div>\n",
       "<style scoped>\n",
       "    .dataframe tbody tr th:only-of-type {\n",
       "        vertical-align: middle;\n",
       "    }\n",
       "\n",
       "    .dataframe tbody tr th {\n",
       "        vertical-align: top;\n",
       "    }\n",
       "\n",
       "    .dataframe thead th {\n",
       "        text-align: right;\n",
       "    }\n",
       "</style>\n",
       "<table border=\"1\" class=\"dataframe\">\n",
       "  <thead>\n",
       "    <tr style=\"text-align: right;\">\n",
       "      <th></th>\n",
       "      <th>Status</th>\n",
       "      <th>Sentence</th>\n",
       "    </tr>\n",
       "  </thead>\n",
       "  <tbody>\n",
       "    <tr>\n",
       "      <th>0</th>\n",
       "      <td>4</td>\n",
       "      <td>বরবর মননয পরধনমনতর গণপরজতনতর বলদশ সরকর মননয পর...</td>\n",
       "    </tr>\n",
       "    <tr>\n",
       "      <th>1</th>\n",
       "      <td>4</td>\n",
       "      <td>তদনত লভ তদনতর হয়ছ মন রজনতক শকতর তদনত পরব সমনয ...</td>\n",
       "    </tr>\n",
       "    <tr>\n",
       "      <th>2</th>\n",
       "      <td>1</td>\n",
       "      <td>দশক মধযম আয়র দশ রপনতর মগর মলকর দশ পরনত হচছ</td>\n",
       "    </tr>\n",
       "    <tr>\n",
       "      <th>3</th>\n",
       "      <td>0</td>\n",
       "      <td>গরবত মসলম সগরম যদধ চর রণবর আললহ ছর নচ শর নরয় ত...</td>\n",
       "    </tr>\n",
       "    <tr>\n",
       "      <th>4</th>\n",
       "      <td>1</td>\n",
       "      <td>রতর বল কসর সকল</td>\n",
       "    </tr>\n",
       "    <tr>\n",
       "      <th>...</th>\n",
       "      <td>...</td>\n",
       "      <td>...</td>\n",
       "    </tr>\n",
       "    <tr>\n",
       "      <th>6284</th>\n",
       "      <td>5</td>\n",
       "      <td>ভরত পরতদন ১৮ ট রপ কইস এনটর</td>\n",
       "    </tr>\n",
       "    <tr>\n",
       "      <th>6285</th>\n",
       "      <td>5</td>\n",
       "      <td>সবধন দশ</td>\n",
       "    </tr>\n",
       "    <tr>\n",
       "      <th>6286</th>\n",
       "      <td>4</td>\n",
       "      <td>সবধন দশর নগরক হয় পরধন</td>\n",
       "    </tr>\n",
       "    <tr>\n",
       "      <th>6287</th>\n",
       "      <td>1</td>\n",
       "      <td>চদলম দদ পয়স</td>\n",
       "    </tr>\n",
       "    <tr>\n",
       "      <th>6288</th>\n",
       "      <td>4</td>\n",
       "      <td>মনষর মত হয় বচত চয়পরধন হয়</td>\n",
       "    </tr>\n",
       "  </tbody>\n",
       "</table>\n",
       "<p>6289 rows × 2 columns</p>\n",
       "</div>"
      ],
      "text/plain": [
       "      Status                                           Sentence\n",
       "0          4  বরবর মননয পরধনমনতর গণপরজতনতর বলদশ সরকর মননয পর...\n",
       "1          4  তদনত লভ তদনতর হয়ছ মন রজনতক শকতর তদনত পরব সমনয ...\n",
       "2          1         দশক মধযম আয়র দশ রপনতর মগর মলকর দশ পরনত হচছ\n",
       "3          0  গরবত মসলম সগরম যদধ চর রণবর আললহ ছর নচ শর নরয় ত...\n",
       "4          1                                     রতর বল কসর সকল\n",
       "...      ...                                                ...\n",
       "6284       5                         ভরত পরতদন ১৮ ট রপ কইস এনটর\n",
       "6285       5                                            সবধন দশ\n",
       "6286       4                              সবধন দশর নগরক হয় পরধন\n",
       "6287       1                                        চদলম দদ পয়স\n",
       "6288       4                           মনষর মত হয় বচত চয়পরধন হয়\n",
       "\n",
       "[6289 rows x 2 columns]"
      ]
     },
     "execution_count": 85,
     "metadata": {},
     "output_type": "execute_result"
    }
   ],
   "source": [
    "df"
   ]
  },
  {
   "cell_type": "code",
   "execution_count": 51,
   "metadata": {},
   "outputs": [
    {
     "data": {
      "text/plain": [
       "<Axes: >"
      ]
     },
     "execution_count": 51,
     "metadata": {},
     "output_type": "execute_result"
    },
    {
     "data": {
      "image/png": "[encoded data removed]",
      "text/plain": [
       "<Figure size 700x600 with 1 Axes>"
      ]
     },
     "metadata": {},
     "output_type": "display_data"
    }
   ],
   "source": [
    "# Plot the distribution of the target variable\n",
    "df['Status'].value_counts().plot(kind='bar', figsize=(7, 6), rot=0)\n"
   ]
  },
  {
   "cell_type": "code",
   "execution_count": 52,
   "metadata": {},
   "outputs": [
    {
     "data": {
      "text/plain": [
       "0    1905\n",
       "1    1000\n",
       "2    1000\n",
       "3    1000\n",
       "4    1000\n",
       "5    1000\n",
       "Name: Status, dtype: int64"
      ]
     },
     "execution_count": 52,
     "metadata": {},
     "output_type": "execute_result"
    }
   ],
   "source": [
    "# Apply resampling to address class imbalance\n",
    "from sklearn.utils import resample\n",
    "\n",
    "# Separate majority and minority classes\n",
    "df_majority = df[df.Status==0]\n",
    "df_minority = df[df.Status==1]\n",
    "df_minority2 = df[df.Status==2]\n",
    "df_minority3 = df[df.Status==3]\n",
    "df_minority4 = df[df.Status==4]\n",
    "df_minority5 = df[df.Status==5]\n",
    "\n",
    "# Upsample minority class\n",
    "df_minority_upsampled = resample(df_minority, \n",
    "                                    replace=True,     # sample with replacement\n",
    "                                    n_samples=1000,    # to match majority class\n",
    "                                    random_state=123) # reproducible results\n",
    "\n",
    "df_minority2_upsampled = resample(df_minority2,\n",
    "                                    replace=True,\n",
    "                                    n_samples=1000,\n",
    "                                    random_state=123)\n",
    "\n",
    "df_minority3_upsampled = resample(df_minority3,\n",
    "                                    replace=True,\n",
    "                                    n_samples=1000,\n",
    "                                    random_state=123)\n",
    "\n",
    "df_minority4_upsampled = resample(df_minority4,\n",
    "                                    replace=True,\n",
    "                                    n_samples=1000,\n",
    "                                    random_state=123)\n",
    "\n",
    "df_minority5_upsampled = resample(df_minority5,\n",
    "                                    replace=True,\n",
    "                                    n_samples=1000,\n",
    "                                    random_state=123)\n",
    "\n",
    "# Combine majority class with upsampled minority class\n",
    "df_upsampled = pd.concat([df_majority, df_minority_upsampled, df_minority2_upsampled, df_minority3_upsampled, df_minority4_upsampled, df_minority5_upsampled])\n",
    "\n",
    "# Display new class counts\n",
    "df_upsampled.Status.value_counts()"
   ]
  },
  {
   "cell_type": "code",
   "execution_count": 53,
   "metadata": {},
   "outputs": [
    {
     "data": {
      "text/plain": [
       "<Axes: >"
      ]
     },
     "execution_count": 53,
     "metadata": {},
     "output_type": "execute_result"
    },
    {
     "data": {
      "image/png": "[encoded data removed]",
      "text/plain": [
       "<Figure size 700x600 with 1 Axes>"
      ]
     },
     "metadata": {},
     "output_type": "display_data"
    }
   ],
   "source": [
    "# Plot the distribution of the target variable after resampling \n",
    "df_upsampled['Status'].value_counts().plot(kind='bar', figsize=(7, 6), rot=0)"
   ]
  },
  {
   "cell_type": "code",
   "execution_count": 94,
   "metadata": {},
   "outputs": [
    {
     "name": "stdout",
     "output_type": "stream",
     "text": [
      "(11430, 13112)\n",
      "(11430,)\n"
     ]
    }
   ],
   "source": [
    "from sklearn.feature_extraction.text import TfidfVectorizer\n",
    "from imblearn.over_sampling import SMOTE\n",
    "import numpy as np\n",
    "import pandas as pd\n",
    "\n",
    "# Separate input features and target\n",
    "X = df['Sentence']\n",
    "y = df['Status']\n",
    "\n",
    "# Convert labels to numerical values using LabelEncoder\n",
    "from sklearn.preprocessing import LabelEncoder\n",
    "le = LabelEncoder()\n",
    "y = le.fit_transform(y)\n",
    "\n",
    "# Vectorize text using TF-IDF\n",
    "tfidf_vectorizer = TfidfVectorizer()\n",
    "X_tfidf = tfidf_vectorizer.fit_transform(X)\n",
    "\n",
    "# Apply SMOTE\n",
    "smote = SMOTE(sampling_strategy='auto', random_state=42)\n",
    "X_resampled, y_resampled = smote.fit_resample(X_tfidf, y)\n",
    "\n",
    "print (X_resampled.shape)\n",
    "print (y_resampled.shape)\n"
   ]
  },
  {
   "cell_type": "code",
   "execution_count": 95,
   "metadata": {},
   "outputs": [
    {
     "name": "stdout",
     "output_type": "stream",
     "text": [
      "Accuracy: 0.7077865266841645\n"
     ]
    },
    {
     "name": "stderr",
     "output_type": "stream",
     "text": [
      "c:\\ProgramData\\anaconda3\\lib\\site-packages\\sklearn\\linear_model\\_logistic.py:458: ConvergenceWarning: lbfgs failed to converge (status=1):\n",
      "STOP: TOTAL NO. of ITERATIONS REACHED LIMIT.\n",
      "\n",
      "Increase the number of iterations (max_iter) or scale the data as shown in:\n",
      "    https://scikit-learn.org/stable/modules/preprocessing.html\n",
      "Please also refer to the documentation for alternative solver options:\n",
      "    https://scikit-learn.org/stable/modules/linear_model.html#logistic-regression\n",
      "  n_iter_i = _check_optimize_result(\n"
     ]
    }
   ],
   "source": [
    "# Split the data into training and testing sets\n",
    "X_train, X_test, y_train, y_test = train_test_split(X_resampled, y_resampled, test_size=0.2, random_state=42)\n",
    "\n",
    "# Train a Logistic Regression model\n",
    "from sklearn.linear_model import LogisticRegression\n",
    "lr = LogisticRegression()\n",
    "lr.fit(X_train, y_train)\n",
    "\n",
    "# Make predictions using the testing set\n",
    "y_pred = lr.predict(X_test)\n",
    "\n",
    "# Evaluate the model performance metrics\n",
    "print(\"Accuracy:\", accuracy_score(y_test, y_pred))"
   ]
  },
  {
   "cell_type": "code",
   "execution_count": 55,
   "metadata": {},
   "outputs": [],
   "source": [
    "import tensorflow as tf\n",
    "from tensorflow.keras.layers import Dense, Dropout, Input, LSTM, Embedding, concatenate, GlobalMaxPooling1D\n",
    "from tensorflow.keras.models import Model\n",
    "from tensorflow.keras.optimizers import Adam\n",
    "from sklearn.metrics import accuracy_score\n",
    "from sklearn.model_selection import train_test_split\n",
    "from sklearn.preprocessing import LabelEncoder\n",
    "from tensorflow.keras.preprocessing.text import Tokenizer\n",
    "from tensorflow.keras.preprocessing.sequence import pad_sequences\n",
    "import numpy as np"
   ]
  },
  {
   "cell_type": "code",
   "execution_count": 66,
   "metadata": {},
   "outputs": [],
   "source": [
    "\n",
    "# Create a label encoder for target labels\n",
    "label_encoder = LabelEncoder()\n",
    "y_train_encoded = label_encoder.fit_transform(y_train)\n",
    "y_test_encoded = label_encoder.transform(y_test)\n",
    "num_classes = len(np.unique(y_train_encoded))\n",
    "\n",
    "# Text data preprocessing\n",
    "max_sequence_length = 100  # Set your desired sequence length\n",
    "tokenizer = Tokenizer(num_words=1000)\n",
    "tokenizer.fit_on_texts(X_train)\n",
    "X_train_seq = tokenizer.texts_to_sequences(X_train)\n",
    "X_test_seq = tokenizer.texts_to_sequences(X_test)\n",
    "X_train_padded = pad_sequences(X_train_seq, padding='post', maxlen=max_sequence_length)\n",
    "X_test_padded = pad_sequences(X_test_seq, padding='post', maxlen=max_sequence_length)\n"
   ]
  },
  {
   "cell_type": "code",
   "execution_count": 90,
   "metadata": {},
   "outputs": [],
   "source": [
    "\n",
    "# GNN part\n",
    "input_gnn = Input(shape=(X_train_padded.shape[1],))\n",
    "output_gnn = Dense(128, activation='relu')(input_gnn)\n",
    "output_gnn = Dropout(0.2)(output_gnn)\n",
    "output_gnn = Dense(64, activation='relu')(output_gnn)\n"
   ]
  },
  {
   "cell_type": "code",
   "execution_count": 91,
   "metadata": {},
   "outputs": [],
   "source": [
    "\n",
    "# LSTM part\n",
    "input_lstm = Input(shape=(X_train_padded.shape[1],))\n",
    "output_lstm = Embedding(input_dim=1000, output_dim=128)(input_lstm)\n",
    "output_lstm = LSTM(64, return_sequences=True)(output_lstm)\n",
    "output_lstm = GlobalMaxPooling1D()(output_lstm)\n"
   ]
  },
  {
   "cell_type": "code",
   "execution_count": 93,
   "metadata": {},
   "outputs": [
    {
     "name": "stderr",
     "output_type": "stream",
     "text": [
      "WARNING:absl:`lr` is deprecated in Keras optimizer, please use `learning_rate` or use the legacy optimizer, e.g.,tf.keras.optimizers.legacy.Adam.\n"
     ]
    },
    {
     "ename": "InvalidArgumentError",
     "evalue": "{{function_node __wrapped__SerializeManySparse_device_/job:localhost/replica:0/task:0/device:CPU:0}} indices[1] = [0,5045] is out of order. Many sparse ops require sorted indices.\n    Use `tf.sparse.reorder` to create a correctly ordered copy.\n\n [Op:SerializeManySparse]",
     "output_type": "error",
     "traceback": [
      "\u001b[1;31m---------------------------------------------------------------------------\u001b[0m",
      "\u001b[1;31mInvalidArgumentError\u001b[0m                      Traceback (most recent call last)",
      "Cell \u001b[1;32mIn[93], line 12\u001b[0m\n\u001b[0;32m      9\u001b[0m model\u001b[39m.\u001b[39mcompile(optimizer\u001b[39m=\u001b[39mAdam(lr\u001b[39m=\u001b[39m\u001b[39m0.001\u001b[39m), loss\u001b[39m=\u001b[39m\u001b[39m'\u001b[39m\u001b[39msparse_categorical_crossentropy\u001b[39m\u001b[39m'\u001b[39m, metrics\u001b[39m=\u001b[39m[\u001b[39m'\u001b[39m\u001b[39maccuracy\u001b[39m\u001b[39m'\u001b[39m])\n\u001b[0;32m     11\u001b[0m \u001b[39m# Train the combined model\u001b[39;00m\n\u001b[1;32m---> 12\u001b[0m model\u001b[39m.\u001b[39;49mfit([X_resampled, X_resampled], y_resampled, epochs\u001b[39m=\u001b[39;49m\u001b[39m5\u001b[39;49m, batch_size\u001b[39m=\u001b[39;49m\u001b[39m32\u001b[39;49m)\n\u001b[0;32m     14\u001b[0m \u001b[39m# Make predictions\u001b[39;00m\n\u001b[0;32m     15\u001b[0m y_pred \u001b[39m=\u001b[39m np\u001b[39m.\u001b[39margmax(model\u001b[39m.\u001b[39mpredict([X_test_padded, X_test_padded]), axis\u001b[39m=\u001b[39m\u001b[39m1\u001b[39m)\n",
      "File \u001b[1;32mc:\\ProgramData\\anaconda3\\lib\\site-packages\\keras\\utils\\traceback_utils.py:70\u001b[0m, in \u001b[0;36mfilter_traceback.<locals>.error_handler\u001b[1;34m(*args, **kwargs)\u001b[0m\n\u001b[0;32m     67\u001b[0m     filtered_tb \u001b[39m=\u001b[39m _process_traceback_frames(e\u001b[39m.\u001b[39m__traceback__)\n\u001b[0;32m     68\u001b[0m     \u001b[39m# To get the full stack trace, call:\u001b[39;00m\n\u001b[0;32m     69\u001b[0m     \u001b[39m# `tf.debugging.disable_traceback_filtering()`\u001b[39;00m\n\u001b[1;32m---> 70\u001b[0m     \u001b[39mraise\u001b[39;00m e\u001b[39m.\u001b[39mwith_traceback(filtered_tb) \u001b[39mfrom\u001b[39;00m \u001b[39mNone\u001b[39m\n\u001b[0;32m     71\u001b[0m \u001b[39mfinally\u001b[39;00m:\n\u001b[0;32m     72\u001b[0m     \u001b[39mdel\u001b[39;00m filtered_tb\n",
      "File \u001b[1;32mc:\\ProgramData\\anaconda3\\lib\\site-packages\\tensorflow\\python\\framework\\ops.py:7262\u001b[0m, in \u001b[0;36mraise_from_not_ok_status\u001b[1;34m(e, name)\u001b[0m\n\u001b[0;32m   7260\u001b[0m \u001b[39mdef\u001b[39;00m \u001b[39mraise_from_not_ok_status\u001b[39m(e, name):\n\u001b[0;32m   7261\u001b[0m   e\u001b[39m.\u001b[39mmessage \u001b[39m+\u001b[39m\u001b[39m=\u001b[39m (\u001b[39m\"\u001b[39m\u001b[39m name: \u001b[39m\u001b[39m\"\u001b[39m \u001b[39m+\u001b[39m name \u001b[39mif\u001b[39;00m name \u001b[39mis\u001b[39;00m \u001b[39mnot\u001b[39;00m \u001b[39mNone\u001b[39;00m \u001b[39melse\u001b[39;00m \u001b[39m\"\u001b[39m\u001b[39m\"\u001b[39m)\n\u001b[1;32m-> 7262\u001b[0m   \u001b[39mraise\u001b[39;00m core\u001b[39m.\u001b[39m_status_to_exception(e) \u001b[39mfrom\u001b[39;00m \u001b[39mNone\u001b[39m\n",
      "\u001b[1;31mInvalidArgumentError\u001b[0m: {{function_node __wrapped__SerializeManySparse_device_/job:localhost/replica:0/task:0/device:CPU:0}} indices[1] = [0,5045] is out of order. Many sparse ops require sorted indices.\n    Use `tf.sparse.reorder` to create a correctly ordered copy.\n\n [Op:SerializeManySparse]"
     ]
    }
   ],
   "source": [
    "\n",
    "# Combine GNN and LSTM outputs\n",
    "combined = concatenate([output_gnn, output_lstm])\n",
    "combined = Dense(64, activation='relu')(combined)\n",
    "combined = Dropout(0.2)(combined)\n",
    "output_combined = Dense(num_classes, activation='softmax')(combined)\n",
    "\n",
    "# Create the combined model\n",
    "model = Model(inputs=[input_gnn, input_lstm], outputs=output_combined)\n",
    "model.compile(optimizer=Adam(lr=0.001), loss='sparse_categorical_crossentropy', metrics=['accuracy'])\n",
    "\n",
    "# Train the combined model\n",
    "model.fit([X_resampled, X_resampled], y_resampled, epochs=5, batch_size=32)\n",
    "\n",
    "# Make predictions\n",
    "y_pred = np.argmax(model.predict([X_test_padded, X_test_padded]), axis=1)\n",
    "\n",
    "# Calculate and print accuracy score\n",
    "accuracy = accuracy_score(y_test_encoded, y_pred)\n",
    "print('Combined Model Accuracy Score:', accuracy)"
   ]
  },
  {
   "cell_type": "code",
   "execution_count": null,
   "metadata": {},
   "outputs": [],
   "source": []
  }
 ],
 "metadata": {
  "kernelspec": {
   "display_name": "base",
   "language": "python",
   "name": "python3"
  },
  "language_info": {
   "codemirror_mode": {
    "name": "ipython",
    "version": 3
   },
   "file_extension": ".py",
   "mimetype": "text/x-python",
   "name": "python",
   "nbconvert_exporter": "python",
   "pygments_lexer": "ipython3",
   "version": "3.10.9"
  },
  "orig_nbformat": 4
 },
 "nbformat": 4,
 "nbformat_minor": 2
}
