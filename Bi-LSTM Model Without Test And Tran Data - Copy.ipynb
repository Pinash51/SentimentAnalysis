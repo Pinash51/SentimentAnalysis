{
 "cells": [
  {
   "cell_type": "markdown",
   "id": "22978b90",
   "metadata": {},
   "source": [
    "# Sentiment Detection in Bangla Text: Building and Analyzing a Multimodal Dataset for Emotion Classification\n",
    "\n",
    "Emotions are an integral part of human communication, influencing the way we express ourselves and perceive others' messages. In the digital age, the proliferation of social media, online reviews, and text-based communication platforms has led to a massive influx of textual data that encapsulates a diverse range of sentiments. Understanding and accurately categorizing these sentiments, such as happiness, anger, fear, disgust, sadness, and surprise, is not only crucial for improving natural language processing systems but also for gaining insights into human behavior and opinion dynamics.\n",
    "\n",
    "This thesis project delves into the realm of sentiment analysis for the Bangla language, a significant and vibrant language spoken by millions of people. The objective of this project is to create a comprehensive Bangla sentiment detection dataset encompassing various emotions, allowing for robust sentiment analysis. The dataset's multilingual nature and focus on diverse emotions make it an invaluable resource for researchers, enabling the development of more nuanced and culturally sensitive sentiment classification models.\n",
    "\n",
    "# Objectives:\n",
    "\n",
    "# Dataset Construction: \n",
    "The first phase of the project involves meticulously curating a diverse and representative dataset that captures different sentiment categories. This dataset encompasses a wide array of Bangla texts, including social media posts, product reviews, and literary excerpts, ensuring the inclusion of both informal and formal language styles.\n",
    "\n",
    "# Annotation and Categorization: \n",
    "The collected dataset will be annotated by human experts proficient in Bangla language and culture. Each text will be categorized into one of the predefined sentiment categories: happy, angry, fear, disgust, sad, or surprise. This categorization will be the foundation for training and evaluating sentiment classification models.\n",
    "\n",
    "# Model Development: \n",
    "The project aims to develop state-of-the-art sentiment classification models specifically tailored for the Bangla language. Leveraging the annotated dataset, these models will employ advanced natural language processing techniques, potentially including pre-trained language embeddings and neural network architectures.\n",
    "\n",
    "# Performance Evaluation: \n",
    "The developed sentiment classification models will undergo rigorous evaluation using various metrics to assess their accuracy, precision, recall, and F1-score. The goal is to create models that not only accurately predict sentiment but also generalize well to real-world Bangla text data.\n",
    "\n",
    "# Cultural Nuances: \n",
    "A significant aspect of this project involves addressing cultural nuances and linguistic intricacies unique to the Bangla language. By developing models that can account for these factors, the sentiment analysis becomes more culturally sensitive and contextually relevant.\n",
    "\n",
    "# Applications and Implications: \n",
    "The outcome of this project extends beyond academic research, with potential applications in various fields, including social media monitoring, market analysis, and customer feedback evaluation. Additionally, insights gained from the analysis of Bangla sentiments can contribute to cross-cultural studies of emotion expression and perception.\n"
   ]
  },
  {
   "cell_type": "markdown",
   "id": "7ca767c5",
   "metadata": {},
   "source": [
    "# Import Library"
   ]
  },
  {
   "cell_type": "code",
   "execution_count": 2,
   "id": "4193a3dd",
   "metadata": {},
   "outputs": [],
   "source": [
    "import pandas as pd\n",
    "from pandas import read_excel\n",
    "import numpy as np\n",
    "import re\n",
    "from re import sub\n",
    "import multiprocessing\n",
    "from unidecode import unidecode\n",
    "import os\n",
    "from time import time \n",
    "import tensorflow as tf\n",
    "import keras\n",
    "from keras.models import Sequential\n",
    "from keras.layers import LSTM,Dense,Dropout,Activation,Embedding,Flatten,Bidirectional,MaxPooling2D, Conv1D, MaxPooling1D\n",
    "from keras.optimizers import SGD,Adam\n",
    "from keras import regularizers\n",
    "from keras.preprocessing.text import Tokenizer\n",
    "from tensorflow.keras.preprocessing.sequence import pad_sequences\n",
    "from keras.utils.np_utils import to_categorical\n",
    "from sklearn.preprocessing import LabelEncoder\n",
    "import h5py\n",
    "import csv\n",
    "import seaborn as sns\n",
    "import matplotlib.pyplot as plt\n",
    "from sklearn.model_selection import train_test_split\n",
    "from sklearn.model_selection import StratifiedKFold\n",
    "from tensorflow.keras.models import Sequential\n",
    "from tensorflow.keras.layers import Embedding, Conv1D, Bidirectional, LSTM, Dropout, Dense, Flatten\n",
    "from tensorflow.keras.optimizers import Adam\n",
    "from tensorflow.keras.utils import to_categorical\n",
    "from tensorflow.keras.preprocessing.text import Tokenizer\n",
    "from tensorflow.keras.preprocessing.sequence import pad_sequences\n",
    "from sklearn.metrics import confusion_matrix, accuracy_score, classification_report\n",
    "import matplotlib.pyplot as plt\n",
    "from itertools import chain\n"
   ]
  },
  {
   "cell_type": "markdown",
   "id": "0d9837f9",
   "metadata": {},
   "source": [
    "# Dataset Load"
   ]
  },
  {
   "cell_type": "code",
   "execution_count": 10,
   "id": "41e34a6b",
   "metadata": {},
   "outputs": [],
   "source": [
    "file_path = 'corpus_all.txt'  # Replace with the actual path to your text file\n",
    "\n",
    "lines = []  # Empty list to store the lines\n",
    "\n",
    "try:\n",
    "    with open(file_path, 'r', encoding='utf-8') as file:\n",
    "        for line in file:\n",
    "            lines.append(line.strip())  # Append the line to the list, removing any leading/trailing whitespace\n",
    "\n",
    "except FileNotFoundError:\n",
    "    print(\"File not found. Please check the file path and try again.\")\n",
    "    \n",
    "#file_path = 'corpus_all.txt'  # Replace with the actual path to your text file\n",
    "first_words = []  # Empty list to store the first words\n",
    "\n",
    "try:\n",
    "    for line in lines:\n",
    "        words = line.strip().split()  # Split the line into words\n",
    "        if words:\n",
    "            first_word = words[0]  # Get the first word\n",
    "            first_words.append(first_word)  # Append the first word to the list\n",
    "\n",
    "except FileNotFoundError:\n",
    "    print(\"File not found. Please check the file path and try again.\")\n",
    "\n",
    "# Define the status levels\n",
    "status_levels = [\"happy\",\"angry\",\"fear\",\"disgust\",\"sad\",\"surprise\"]\n",
    "\n",
    "# Initialize a list to store the extracted status levels and sentences\n",
    "extracted_data = []\n",
    "\n",
    "# Iterate over the texts\n",
    "for text in lines:\n",
    "    # Initialize variables to store the extracted status level and sentence\n",
    "    status = \"\"\n",
    "    sentence = \"\"\n",
    "\n",
    "    # Iterate over the status levels\n",
    "    for level in status_levels:\n",
    "        if level in text:\n",
    "            # Split the text based on the status level\n",
    "            split_text = text.split(level, 1)\n",
    "\n",
    "            # Extract the status level and sentence\n",
    "            status = level\n",
    "            sentence = split_text[1].strip()\n",
    "            break\n",
    "\n",
    "    # Append the extracted status level and sentence to the list\n",
    "    extracted_data.append({\"Status\": status, \"Sentence\": sentence})\n",
    "    \n",
    "data = pd.DataFrame(extracted_data)"
   ]
  },
  {
   "cell_type": "markdown",
   "id": "40b69990",
   "metadata": {},
   "source": [
    "# Some Data From Dataset"
   ]
  },
  {
   "cell_type": "code",
   "execution_count": 11,
   "id": "bbf9a546",
   "metadata": {},
   "outputs": [
    {
     "data": {
      "text/html": [
       "<div>\n",
       "<style scoped>\n",
       "    .dataframe tbody tr th:only-of-type {\n",
       "        vertical-align: middle;\n",
       "    }\n",
       "\n",
       "    .dataframe tbody tr th {\n",
       "        vertical-align: top;\n",
       "    }\n",
       "\n",
       "    .dataframe thead th {\n",
       "        text-align: right;\n",
       "    }\n",
       "</style>\n",
       "<table border=\"1\" class=\"dataframe\">\n",
       "  <thead>\n",
       "    <tr style=\"text-align: right;\">\n",
       "      <th></th>\n",
       "      <th>Status</th>\n",
       "      <th>Sentence</th>\n",
       "    </tr>\n",
       "  </thead>\n",
       "  <tbody>\n",
       "    <tr>\n",
       "      <th>0</th>\n",
       "      <td>sad</td>\n",
       "      <td>বরাবর, মাননীয় প্রধানমন্ত্রী গণপ্রজাতন্ত্রী বা...</td>\n",
       "    </tr>\n",
       "    <tr>\n",
       "      <th>1</th>\n",
       "      <td>sad</td>\n",
       "      <td>তদন্ত করে লাভ কী ? কোন দিন কোন তদন্তের পর কিছু...</td>\n",
       "    </tr>\n",
       "    <tr>\n",
       "      <th>2</th>\n",
       "      <td>angry</td>\n",
       "      <td>দেশকি মধ্যম আয়ের দেশে রুপান্তর হচ্ছে নাকি মগের...</td>\n",
       "    </tr>\n",
       "    <tr>\n",
       "      <th>3</th>\n",
       "      <td>happy</td>\n",
       "      <td>আমি গর্বিত আমি মুসলিম। আমি সংগ্রামী। আমি যোদ্ধ...</td>\n",
       "    </tr>\n",
       "    <tr>\n",
       "      <th>4</th>\n",
       "      <td>angry</td>\n",
       "      <td>রাতের বেলা আবার কিসের সকাল।</td>\n",
       "    </tr>\n",
       "    <tr>\n",
       "      <th>...</th>\n",
       "      <td>...</td>\n",
       "      <td>...</td>\n",
       "    </tr>\n",
       "    <tr>\n",
       "      <th>6284</th>\n",
       "      <td>surprise</td>\n",
       "      <td>ভারতে প্রতিদিন ১৮ টা রেপ কেইস এন্ট্রি হয়</td>\n",
       "    </tr>\n",
       "    <tr>\n",
       "      <th>6285</th>\n",
       "      <td>surprise</td>\n",
       "      <td>এই কি স্বাধীন দেশ</td>\n",
       "    </tr>\n",
       "    <tr>\n",
       "      <th>6286</th>\n",
       "      <td>sad</td>\n",
       "      <td>স্বাধীন দেশের নাগরিক হয়ে ও আজ আমরা পরাধীন।</td>\n",
       "    </tr>\n",
       "    <tr>\n",
       "      <th>6287</th>\n",
       "      <td>angry</td>\n",
       "      <td>চুদলাম দাদা পয়সা নাই</td>\n",
       "    </tr>\n",
       "    <tr>\n",
       "      <th>6288</th>\n",
       "      <td>sad</td>\n",
       "      <td>আমরা মানুষের মত হয়ে বাচতে চায়,পরাধীন হয়ে নয়</td>\n",
       "    </tr>\n",
       "  </tbody>\n",
       "</table>\n",
       "<p>6289 rows × 2 columns</p>\n",
       "</div>"
      ],
      "text/plain": [
       "        Status                                           Sentence\n",
       "0          sad  বরাবর, মাননীয় প্রধানমন্ত্রী গণপ্রজাতন্ত্রী বা...\n",
       "1          sad  তদন্ত করে লাভ কী ? কোন দিন কোন তদন্তের পর কিছু...\n",
       "2        angry  দেশকি মধ্যম আয়ের দেশে রুপান্তর হচ্ছে নাকি মগের...\n",
       "3        happy  আমি গর্বিত আমি মুসলিম। আমি সংগ্রামী। আমি যোদ্ধ...\n",
       "4        angry                        রাতের বেলা আবার কিসের সকাল।\n",
       "...        ...                                                ...\n",
       "6284  surprise           ভারতে প্রতিদিন ১৮ টা রেপ কেইস এন্ট্রি হয়\n",
       "6285  surprise                                  এই কি স্বাধীন দেশ\n",
       "6286       sad         স্বাধীন দেশের নাগরিক হয়ে ও আজ আমরা পরাধীন।\n",
       "6287     angry                               চুদলাম দাদা পয়সা নাই\n",
       "6288       sad        আমরা মানুষের মত হয়ে বাচতে চায়,পরাধীন হয়ে নয়\n",
       "\n",
       "[6289 rows x 2 columns]"
      ]
     },
     "execution_count": 11,
     "metadata": {},
     "output_type": "execute_result"
    }
   ],
   "source": [
    "data"
   ]
  },
  {
   "cell_type": "code",
   "execution_count": 12,
   "id": "6b67897d",
   "metadata": {},
   "outputs": [],
   "source": [
    "# Dataset Shape"
   ]
  },
  {
   "cell_type": "code",
   "execution_count": 13,
   "id": "0c678975",
   "metadata": {},
   "outputs": [
    {
     "data": {
      "text/plain": [
       "(6289, 2)"
      ]
     },
     "execution_count": 13,
     "metadata": {},
     "output_type": "execute_result"
    }
   ],
   "source": [
    "data.shape"
   ]
  },
  {
   "cell_type": "markdown",
   "id": "b09c2a82",
   "metadata": {},
   "source": [
    "# Dataset Status Count Value"
   ]
  },
  {
   "cell_type": "code",
   "execution_count": 14,
   "id": "00ad57e2",
   "metadata": {},
   "outputs": [
    {
     "data": {
      "text/plain": [
       "happy       1905\n",
       "angry       1410\n",
       "sad         1331\n",
       "disgust      698\n",
       "surprise     562\n",
       "fear         383\n",
       "Name: Status, dtype: int64"
      ]
     },
     "execution_count": 14,
     "metadata": {},
     "output_type": "execute_result"
    }
   ],
   "source": [
    "data['Status'].value_counts()"
   ]
  },
  {
   "cell_type": "markdown",
   "id": "039fe536",
   "metadata": {},
   "source": [
    "# Status Count Show By Bar Chart"
   ]
  },
  {
   "cell_type": "code",
   "execution_count": 16,
   "id": "ad932797",
   "metadata": {},
   "outputs": [
    {
     "data": {
      "image/png": "[encoded data removed]",
      "text/plain": [
       "<Figure size 640x480 with 1 Axes>"
      ]
     },
     "metadata": {},
     "output_type": "display_data"
    }
   ],
   "source": [
    "\n",
    "import seaborn as sns\n",
    "import matplotlib.pyplot as plt\n",
    "\n",
    "plt.hist(data['Status'], bins=[0, 1, 2, 3, 4, 5, 6], align='left', rwidth=0.6)\n",
    "plt.xticks([0, 1, 2, 3, 4, 5, 6])\n",
    "plt.xlabel('Status')\n",
    "plt.ylabel('Count')\n",
    "plt.title('Status Distribution')\n",
    "plt.show()"
   ]
  },
  {
   "cell_type": "code",
   "execution_count": 17,
   "id": "57d44c3f",
   "metadata": {},
   "outputs": [],
   "source": [
    "\n",
    "# Separate sentences and sentiments\n",
    "sentences = data['Sentence'].values\n",
    "sentiments = data['Status'].values\n",
    "\n",
    "# Map sentiment labels to numerical values\n",
    "sentiment_mapping = {'happy': 0, 'angry': 1, 'fear': 2, 'disgust': 3, 'sad': 4, 'surprise': 5}\n",
    "sentiments = [sentiment_mapping[s] for s in sentiments]\n",
    "\n",
    "# Split the data into training and testing sets\n",
    "sentences_train, sentences_test, y_train, y_test = train_test_split(sentences, sentiments, test_size=0.2, random_state=42)\n"
   ]
  },
  {
   "cell_type": "code",
   "execution_count": 18,
   "id": "244dbe72",
   "metadata": {},
   "outputs": [],
   "source": [
    "\n",
    "# Set the maximum number of words to keep in the vocabulary\n",
    "max_words = 5000\n",
    "\n",
    "# Tokenize the text data\n",
    "tokenizer = Tokenizer(num_words=max_words)\n",
    "tokenizer.fit_on_texts(sentences_train)\n",
    "\n",
    "# Convert sentences to sequences of integers\n",
    "X_train = tokenizer.texts_to_sequences(sentences_train)\n",
    "X_test = tokenizer.texts_to_sequences(sentences_test)\n",
    "\n",
    "# Get the vocabulary size\n",
    "vocab_size = len(tokenizer.word_index) + 1\n",
    "\n",
    "# Pad sequences to ensure they have the same length\n",
    "max_sequence_length = max(len(seq) for seq in X_train)\n",
    "X_train = pad_sequences(X_train, maxlen=max_sequence_length)\n",
    "X_test = pad_sequences(X_test, maxlen=max_sequence_length)\n",
    "\n",
    "# Convert sentiment labels to one-hot encoded vectors\n",
    "y_train = to_categorical(y_train)\n",
    "y_test = to_categorical(y_test)\n"
   ]
  },
  {
   "cell_type": "code",
   "execution_count": 19,
   "id": "5a59a607",
   "metadata": {},
   "outputs": [
    {
     "name": "stdout",
     "output_type": "stream",
     "text": [
      "(5031, 6) (1258, 6)\n"
     ]
    }
   ],
   "source": [
    "print(y_train.shape,y_test.shape)"
   ]
  },
  {
   "cell_type": "code",
   "execution_count": 29,
   "id": "583b26cb",
   "metadata": {},
   "outputs": [],
   "source": [
    "from keras.models import Sequential\n",
    "from keras.layers import Embedding, LSTM, Dense\n",
    "\n",
    "# Define the LSTM model\n",
    "embedding_dim = 100\n",
    "lstm_units = 64\n",
    "\n",
    "model = Sequential()\n",
    "model.add(Embedding(input_dim=vocab_size, output_dim=embedding_dim, input_length=max_sequence_length))\n",
    "model.add(LSTM(units=lstm_units))\n",
    "model.add(Dense(units=6, activation='softmax'))\n",
    "\n",
    "# Compile the model\n",
    "model.compile(loss='categorical_crossentropy', optimizer='adam', metrics=['accuracy'])\n"
   ]
  },
  {
   "cell_type": "code",
   "execution_count": 30,
   "id": "e6ec4e6b",
   "metadata": {},
   "outputs": [
    {
     "name": "stdout",
     "output_type": "stream",
     "text": [
      "Epoch 1/5\n",
      "142/142 [==============================] - 126s 861ms/step - loss: 1.5906 - accuracy: 0.3567 - val_loss: 1.4586 - val_accuracy: 0.4325\n",
      "Epoch 2/5\n",
      "142/142 [==============================] - 121s 849ms/step - loss: 1.2648 - accuracy: 0.5273 - val_loss: 1.3796 - val_accuracy: 0.4643\n",
      "Epoch 3/5\n",
      "142/142 [==============================] - 120s 843ms/step - loss: 0.9688 - accuracy: 0.6468 - val_loss: 1.4858 - val_accuracy: 0.4325\n",
      "Epoch 4/5\n",
      "142/142 [==============================] - 147s 1s/step - loss: 0.7238 - accuracy: 0.7548 - val_loss: 1.7221 - val_accuracy: 0.4286\n",
      "Epoch 5/5\n",
      "142/142 [==============================] - 142s 999ms/step - loss: 0.5134 - accuracy: 0.8306 - val_loss: 2.0388 - val_accuracy: 0.4187\n"
     ]
    }
   ],
   "source": [
    "# Train the model\n",
    "batch_size = 32\n",
    "epochs = 5\n",
    "\n",
    "history = model.fit(X_train, y_train, batch_size=batch_size, epochs=epochs, validation_split=0.1)\n"
   ]
  },
  {
   "cell_type": "code",
   "execution_count": 22,
   "id": "f5264095",
   "metadata": {},
   "outputs": [
    {
     "data": {
      "image/png": "[encoded data removed]",
      "text/plain": [
       "<Figure size 640x480 with 1 Axes>"
      ]
     },
     "metadata": {},
     "output_type": "display_data"
    }
   ],
   "source": [
    "# Get the training and validation accuracy history from the training history\n",
    "train_accuracy = history.history['accuracy']\n",
    "val_accuracy = history.history['val_accuracy']\n",
    "\n",
    "# Create a plot for training and validation accuracy\n",
    "epochs_range = range(1, epochs+1)\n",
    "plt.plot(epochs_range, train_accuracy, label='Training Accuracy')\n",
    "plt.plot(epochs_range, val_accuracy, label='Validation Accuracy')\n",
    "plt.xlabel('Epochs')\n",
    "plt.ylabel('Accuracy')\n",
    "plt.title('Training and Validation Accuracy')\n",
    "plt.legend()\n",
    "plt.grid(True)\n",
    "plt.show()"
   ]
  },
  {
   "cell_type": "code",
   "execution_count": 23,
   "id": "a05dacce",
   "metadata": {},
   "outputs": [
    {
     "name": "stdout",
     "output_type": "stream",
     "text": [
      "40/40 [==============================] - 21s 490ms/step\n",
      "Accuracy: 0.44753577106518283\n",
      "Confusion Matrix:\n",
      "              precision    recall  f1-score   support\n",
      "\n",
      "           0       0.66      0.76      0.71       391\n",
      "           1       0.42      0.43      0.42       268\n",
      "           2       0.07      0.05      0.06        66\n",
      "           3       0.17      0.15      0.16       141\n",
      "           4       0.42      0.35      0.38       278\n",
      "           5       0.22      0.24      0.23       114\n",
      "\n",
      "    accuracy                           0.45      1258\n",
      "   macro avg       0.32      0.33      0.33      1258\n",
      "weighted avg       0.43      0.45      0.44      1258\n",
      "\n"
     ]
    }
   ],
   "source": [
    "# ... (your existing code up to training the model) ...\n",
    "\n",
    "# Generate predictions using the trained model\n",
    "y_pred_probs = model.predict(X_test)\n",
    "y_pred_classes = np.argmax(y_pred_probs, axis=1)\n",
    "\n",
    "# Convert one-hot encoded labels to class labels for y_test\n",
    "y_test_classes = np.argmax(y_test, axis=1)\n",
    "\n",
    "# Calculate accuracy\n",
    "accuracy = accuracy_score(y_test_classes, y_pred_classes)\n",
    "print(f\"Accuracy: {accuracy}\")\n",
    "\n",
    "# Print the confusion matrix\n",
    "print(\"Confusion Matrix:\")\n",
    "print(classification_report(y_test_classes, y_pred_classes))\n",
    "\n"
   ]
  },
  {
   "cell_type": "code",
   "execution_count": 24,
   "id": "b8d98dcc",
   "metadata": {},
   "outputs": [
    {
     "name": "stdout",
     "output_type": "stream",
     "text": [
      "40/40 [==============================] - 20s 501ms/step\n"
     ]
    },
    {
     "data": {
      "image/png": "[encoded data removed]",
      "text/plain": [
       "<Figure size 800x600 with 2 Axes>"
      ]
     },
     "metadata": {},
     "output_type": "display_data"
    }
   ],
   "source": [
    "import numpy as np\n",
    "import seaborn as sns\n",
    "import matplotlib.pyplot as plt\n",
    "from sklearn.metrics import confusion_matrix\n",
    "\n",
    "# Generate predictions using the trained model\n",
    "y_pred_probs = model.predict(X_test)\n",
    "y_pred_classes = np.argmax(y_pred_probs, axis=1)\n",
    "\n",
    "# Convert one-hot encoded labels to class labels for y_test\n",
    "y_test_classes = np.argmax(y_test, axis=1)\n",
    "\n",
    "# Calculate the confusion matrix\n",
    "cm = confusion_matrix(y_test_classes, y_pred_classes)\n",
    "\n",
    "# Get class labels (assuming classes are 0, 1, 2, ...)\n",
    "class_labels = np.arange(len(cm))\n",
    "\n",
    "# Create a heatmap using seaborn\n",
    "plt.figure(figsize=(8, 6))\n",
    "sns.heatmap(cm, annot=True, fmt=\"d\", cmap=\"Blues\", xticklabels=class_labels, yticklabels=class_labels)\n",
    "plt.xlabel(\"Predicted\")\n",
    "plt.ylabel(\"Actual\")\n",
    "plt.title(\"Confusion Matrix\")\n",
    "plt.show()\n"
   ]
  },
  {
   "cell_type": "code",
   "execution_count": null,
   "id": "ce5af1cd",
   "metadata": {},
   "outputs": [],
   "source": [
    "import numpy as np\n",
    "from sklearn.metrics import roc_curve, auc\n",
    "import matplotlib.pyplot as plt\n",
    "\n",
    "sentiment_mapping = {0: 'Simple', 1: 'Compound', 2: 'Complex'}\n",
    "\n",
    "# Generate predictions using the trained model\n",
    "y_pred_probs = model.predict(X_test)\n",
    "\n",
    "# Assuming you have multi-class labels (not one-hot encoded)\n",
    "y_test_classes = np.argmax(y_test, axis=1)\n",
    "\n",
    "# Compute ROC curve and AUC for each class using \"One vs Rest\"\n",
    "fpr = dict()\n",
    "tpr = dict()\n",
    "roc_auc = dict()\n",
    "\n",
    "for i, class_name in sentiment_mapping.items():\n",
    "    class_index = i  # Use the class index (0, 1, 2)\n",
    "    fpr[i], tpr[i], _ = roc_curve(y_test_classes == class_index, y_pred_probs[:, class_index])\n",
    "    roc_auc[i] = auc(fpr[i], tpr[i])\n",
    "\n",
    "# Plot the ROC curves for each class\n",
    "plt.figure(figsize=(8, 6))\n",
    "for i, class_name in sentiment_mapping.items():\n",
    "    plt.plot(fpr[i], tpr[i], label=f'Class {class_name} (AUC = {roc_auc[i]:.2f})')\n",
    "\n",
    "plt.plot([0, 1], [0, 1], 'k--')\n",
    "plt.xlim([0.0, 1.0])\n",
    "plt.ylim([0.0, 1.05])\n",
    "plt.xlabel('False Positive Rate')\n",
    "plt.ylabel('True Positive Rate')\n",
    "plt.title('ROC Curve - Multi-class')\n",
    "plt.legend(loc='lower right')\n",
    "plt.show()\n"
   ]
  }
 ],
 "metadata": {
  "kernelspec": {
   "display_name": "Python 3 (ipykernel)",
   "language": "python",
   "name": "python3"
  },
  "language_info": {
   "codemirror_mode": {
    "name": "ipython",
    "version": 3
   },
   "file_extension": ".py",
   "mimetype": "text/x-python",
   "name": "python",
   "nbconvert_exporter": "python",
   "pygments_lexer": "ipython3",
   "version": "3.10.9"
  }
 },
 "nbformat": 4,
 "nbformat_minor": 5
}
